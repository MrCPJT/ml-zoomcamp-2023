{
 "cells": [
  {
   "cell_type": "markdown",
   "metadata": {},
   "source": [
    "# Introduction to Machine Learning"
   ]
  },
  {
   "cell_type": "markdown",
   "metadata": {},
   "source": [
    "<hr>"
   ]
  },
  {
   "cell_type": "code",
   "execution_count": 1,
   "metadata": {},
   "outputs": [],
   "source": [
    "import pandas as pd\n",
    "import numpy as np"
   ]
  },
  {
   "cell_type": "markdown",
   "metadata": {},
   "source": [
    "### NumPy - Array Operations"
   ]
  },
  {
   "cell_type": "code",
   "execution_count": 13,
   "metadata": {},
   "outputs": [
    {
     "data": {
      "text/plain": [
       "(array([0., 0., 0., 0., 0.]),\n",
       " array([1., 1., 1., 1., 1.]),\n",
       " array([0, 1, 2, 3, 4]),\n",
       " array([5, 5, 5, 5, 5]),\n",
       " array([0., 1., 2., 3., 4., 5.]))"
      ]
     },
     "execution_count": 13,
     "metadata": {},
     "output_type": "execute_result"
    }
   ],
   "source": [
    "np.zeros(5), \\\n",
    "    np.ones(5), \\\n",
    "        np.arange(5), \\\n",
    "            np.full(5, 5), \\\n",
    "                np.linspace(0, 5, 6)"
   ]
  },
  {
   "cell_type": "code",
   "execution_count": 31,
   "metadata": {},
   "outputs": [
    {
     "data": {
      "text/plain": [
       "array([[0., 0., 0., 0., 0.],\n",
       "       [0., 0., 0., 0., 0.],\n",
       "       [0., 0., 0., 0., 0.],\n",
       "       [0., 0., 0., 0., 0.],\n",
       "       [0., 0., 0., 0., 0.]])"
      ]
     },
     "execution_count": 31,
     "metadata": {},
     "output_type": "execute_result"
    }
   ],
   "source": [
    "np.zeros((5,5))"
   ]
  },
  {
   "cell_type": "markdown",
   "metadata": {},
   "source": [
    "### NumPy - Random Operations"
   ]
  },
  {
   "cell_type": "code",
   "execution_count": 36,
   "metadata": {},
   "outputs": [
    {
     "data": {
      "text/plain": [
       "array([[0.04481934, 0.18277153, 0.13701141, 0.39441625, 0.43565423],\n",
       "       [0.152967  , 0.75917902, 0.87190414, 0.46268082, 0.62559474],\n",
       "       [0.6811259 , 0.25374564, 0.94725652, 0.55115418, 0.89203043],\n",
       "       [0.09015251, 0.07053187, 0.56862989, 0.50402608, 0.51592182],\n",
       "       [0.14369818, 0.23239503, 0.84161   , 0.63681019, 0.2848687 ]])"
      ]
     },
     "execution_count": 36,
     "metadata": {},
     "output_type": "execute_result"
    }
   ],
   "source": [
    "np.random.rand(5,5)"
   ]
  },
  {
   "cell_type": "code",
   "execution_count": 37,
   "metadata": {},
   "outputs": [
    {
     "data": {
      "text/plain": [
       "array([[3, 5, 8, 2, 6],\n",
       "       [6, 6, 7, 4, 9],\n",
       "       [0, 6, 3, 0, 9],\n",
       "       [0, 2, 8, 0, 4],\n",
       "       [0, 2, 8, 7, 7]])"
      ]
     },
     "execution_count": 37,
     "metadata": {},
     "output_type": "execute_result"
    }
   ],
   "source": [
    "np.random.randint(0, 10, (5,5))"
   ]
  },
  {
   "cell_type": "markdown",
   "metadata": {},
   "source": [
    "### NumPy - Linear Algebra"
   ]
  },
  {
   "cell_type": "code",
   "execution_count": 42,
   "metadata": {},
   "outputs": [
    {
     "data": {
      "text/plain": [
       "(-0.032982706105094364,\n",
       " array([[ 1.13121664,  2.50488981, -1.81517144,  0.43756694, -2.09808558],\n",
       "        [-4.61689894, -0.20799984,  6.26470838, -1.08061789, -2.71481631],\n",
       "        [ 3.37722076,  0.22254011, -5.26880252,  2.39871012,  2.41192504],\n",
       "        [ 1.50312784, -0.43773854, -1.72623734, -2.34951688,  4.58941463],\n",
       "        [-1.78291732, -1.64954081,  3.9367967 ,  0.9080806 , -2.52230695]]))"
      ]
     },
     "execution_count": 42,
     "metadata": {},
     "output_type": "execute_result"
    }
   ],
   "source": [
    "np.linalg.det(np.random.rand(5,5)), \\\n",
    "    np.linalg.inv(np.random.rand(5,5))"
   ]
  }
 ],
 "metadata": {
  "kernelspec": {
   "display_name": "ml-zoomcamp-2023",
   "language": "python",
   "name": "python3"
  },
  "language_info": {
   "codemirror_mode": {
    "name": "ipython",
    "version": 3
   },
   "file_extension": ".py",
   "mimetype": "text/x-python",
   "name": "python",
   "nbconvert_exporter": "python",
   "pygments_lexer": "ipython3",
   "version": "3.9.17"
  }
 },
 "nbformat": 4,
 "nbformat_minor": 2
}
