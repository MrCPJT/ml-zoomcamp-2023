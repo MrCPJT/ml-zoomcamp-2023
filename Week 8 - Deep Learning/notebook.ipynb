{
 "cells": [
  {
   "cell_type": "code",
   "execution_count": 1,
   "id": "62899245",
   "metadata": {},
   "outputs": [
    {
     "name": "stderr",
     "output_type": "stream",
     "text": [
      "2023-11-15 16:21:26.313254: I tensorflow/core/util/util.cc:169] oneDNN custom operations are on. You may see slightly different numerical results due to floating-point round-off errors from different computation orders. To turn them off, set the environment variable `TF_ENABLE_ONEDNN_OPTS=0`.\n"
     ]
    }
   ],
   "source": [
    "import numpy as np\n",
    "import matplotlib.pyplot as plt\n",
    "\n",
    "import tensorflow as tf\n",
    "from tensorflow import keras\n",
    "\n",
    "from tensorflow.keras.preprocessing.image import load_img\n",
    "\n",
    "%matplotlib inline"
   ]
  },
  {
   "cell_type": "markdown",
   "id": "f2b2b63e",
   "metadata": {},
   "source": [
    "Tensorflow is a framework for deep learning and Keras is a library which provides high-level abstraction which simplifies neural network generation."
   ]
  },
  {
   "cell_type": "code",
   "execution_count": 2,
   "id": "14917523",
   "metadata": {},
   "outputs": [
    {
     "name": "stdout",
     "output_type": "stream",
     "text": [
      "<PIL.Image.Image image mode=RGB size=299x299 at 0x7FD59C0F9640>\n"
     ]
    }
   ],
   "source": [
    "path = './clothing-dataset-small/train/t-shirt'\n",
    "name = 'ff8ca4c9-b3dc-4d84-8dba-095581f94dbe.jpg'\n",
    "fullname = f'{path}/{name}'\n",
    "\n",
    "img = load_img(fullname, target_size=(299, 299))\n",
    "\n",
    "print(img)"
   ]
  },
  {
   "cell_type": "code",
   "execution_count": 3,
   "id": "d544c629",
   "metadata": {},
   "outputs": [
    {
     "data": {
      "text/plain": [
       "(299, 299, 3)"
      ]
     },
     "execution_count": 3,
     "metadata": {},
     "output_type": "execute_result"
    }
   ],
   "source": [
    "R, G, B = np.array(img)[0][0]\n",
    "\n",
    "np.array(img).shape"
   ]
  },
  {
   "cell_type": "markdown",
   "id": "ae799eb4",
   "metadata": {},
   "source": [
    "### Using a pre-trained convolutional neural network\n",
    "\n",
    "- Imagenet dataset: https://www.image-net.org/\n",
    "- Pre-trained models: https://keras.io/api/applications/"
   ]
  },
  {
   "cell_type": "code",
   "execution_count": 4,
   "id": "f7e49e92",
   "metadata": {},
   "outputs": [],
   "source": [
    "from tensorflow.keras.applications.xception import Xception\n",
    "from tensorflow.keras.applications.xception import preprocess_input\n",
    "from tensorflow.keras.applications.xception import decode_predictions"
   ]
  },
  {
   "cell_type": "code",
   "execution_count": 5,
   "id": "a90aed08",
   "metadata": {},
   "outputs": [
    {
     "name": "stderr",
     "output_type": "stream",
     "text": [
      "2023-11-15 16:21:32.440896: I tensorflow/stream_executor/cuda/cuda_gpu_executor.cc:975] successful NUMA node read from SysFS had negative value (-1), but there must be at least one NUMA node, so returning NUMA node zero\n",
      "2023-11-15 16:21:32.447030: I tensorflow/stream_executor/cuda/cuda_gpu_executor.cc:975] successful NUMA node read from SysFS had negative value (-1), but there must be at least one NUMA node, so returning NUMA node zero\n",
      "2023-11-15 16:21:32.447617: I tensorflow/stream_executor/cuda/cuda_gpu_executor.cc:975] successful NUMA node read from SysFS had negative value (-1), but there must be at least one NUMA node, so returning NUMA node zero\n",
      "2023-11-15 16:21:32.448558: I tensorflow/core/platform/cpu_feature_guard.cc:193] This TensorFlow binary is optimized with oneAPI Deep Neural Network Library (oneDNN) to use the following CPU instructions in performance-critical operations:  AVX2 AVX512F AVX512_VNNI FMA\n",
      "To enable them in other operations, rebuild TensorFlow with the appropriate compiler flags.\n",
      "2023-11-15 16:21:32.448948: I tensorflow/stream_executor/cuda/cuda_gpu_executor.cc:975] successful NUMA node read from SysFS had negative value (-1), but there must be at least one NUMA node, so returning NUMA node zero\n",
      "2023-11-15 16:21:32.449544: I tensorflow/stream_executor/cuda/cuda_gpu_executor.cc:975] successful NUMA node read from SysFS had negative value (-1), but there must be at least one NUMA node, so returning NUMA node zero\n",
      "2023-11-15 16:21:32.450084: I tensorflow/stream_executor/cuda/cuda_gpu_executor.cc:975] successful NUMA node read from SysFS had negative value (-1), but there must be at least one NUMA node, so returning NUMA node zero\n",
      "2023-11-15 16:21:33.143990: I tensorflow/stream_executor/cuda/cuda_gpu_executor.cc:975] successful NUMA node read from SysFS had negative value (-1), but there must be at least one NUMA node, so returning NUMA node zero\n",
      "2023-11-15 16:21:33.144610: I tensorflow/stream_executor/cuda/cuda_gpu_executor.cc:975] successful NUMA node read from SysFS had negative value (-1), but there must be at least one NUMA node, so returning NUMA node zero\n",
      "2023-11-15 16:21:33.145183: I tensorflow/stream_executor/cuda/cuda_gpu_executor.cc:975] successful NUMA node read from SysFS had negative value (-1), but there must be at least one NUMA node, so returning NUMA node zero\n",
      "2023-11-15 16:21:33.145692: I tensorflow/core/common_runtime/gpu/gpu_device.cc:1532] Created device /job:localhost/replica:0/task:0/device:GPU:0 with 13795 MB memory:  -> device: 0, name: Tesla T4, pci bus id: 0000:00:1e.0, compute capability: 7.5\n"
     ]
    }
   ],
   "source": [
    "model = Xception(weights='imagenet', input_shape=(299, 299, 3))"
   ]
  },
  {
   "cell_type": "code",
   "execution_count": 6,
   "id": "d4ffea9f",
   "metadata": {},
   "outputs": [],
   "source": [
    "x = np.array(img)\n",
    "\n",
    "X = np.array([x])\n",
    "\n",
    "X = preprocess_input(X)"
   ]
  },
  {
   "cell_type": "code",
   "execution_count": 7,
   "id": "2a0e396c",
   "metadata": {},
   "outputs": [
    {
     "name": "stderr",
     "output_type": "stream",
     "text": [
      "2023-11-15 16:21:36.215515: I tensorflow/stream_executor/cuda/cuda_dnn.cc:384] Loaded cuDNN version 8100\n",
      "2023-11-15 16:21:36.856797: I tensorflow/core/platform/default/subprocess.cc:304] Start cannot spawn child process: No such file or directory\n",
      "2023-11-15 16:21:36.857651: I tensorflow/core/platform/default/subprocess.cc:304] Start cannot spawn child process: No such file or directory\n",
      "2023-11-15 16:21:36.857693: W tensorflow/stream_executor/gpu/asm_compiler.cc:80] Couldn't get ptxas version string: INTERNAL: Couldn't invoke ptxas --version\n",
      "2023-11-15 16:21:36.858664: I tensorflow/core/platform/default/subprocess.cc:304] Start cannot spawn child process: No such file or directory\n",
      "2023-11-15 16:21:36.858756: W tensorflow/stream_executor/gpu/redzone_allocator.cc:314] INTERNAL: Failed to launch ptxas\n",
      "Relying on driver to perform ptx compilation. \n",
      "Modify $PATH to customize ptxas location.\n",
      "This message will be only logged once.\n"
     ]
    },
    {
     "name": "stdout",
     "output_type": "stream",
     "text": [
      "1/1 [==============================] - 3s 3s/step\n"
     ]
    },
    {
     "data": {
      "text/plain": [
       "[[('n03595614', 'jersey', 0.96263796),\n",
       "  ('n03710637', 'maillot', 0.004248076),\n",
       "  ('n04370456', 'sweatshirt', 0.0018063366),\n",
       "  ('n04456115', 'torch', 0.0009411157),\n",
       "  ('n04532106', 'vestment', 0.0007188157)]]"
      ]
     },
     "execution_count": 7,
     "metadata": {},
     "output_type": "execute_result"
    }
   ],
   "source": [
    "pred = model.predict(X)\n",
    "\n",
    "decode_predictions(pred)"
   ]
  },
  {
   "cell_type": "markdown",
   "id": "ccb5bf0e",
   "metadata": {},
   "source": [
    "ImageNet is not particularly helpful for our purpose. This means that we need to train a more particular model with our own list of classes. By building on top of the work of large universities and organisations, we don't have to generate an image classification model from scratch."
   ]
  },
  {
   "cell_type": "markdown",
   "id": "cac7fdfb",
   "metadata": {},
   "source": [
    "### Convolutional Neural Networks"
   ]
  },
  {
   "cell_type": "markdown",
   "id": "289a6b70",
   "metadata": {},
   "source": [
    "### Transfer Learning"
   ]
  },
  {
   "cell_type": "code",
   "execution_count": 8,
   "id": "2cd967f5",
   "metadata": {},
   "outputs": [],
   "source": [
    "from tensorflow.keras.preprocessing.image import ImageDataGenerator"
   ]
  },
  {
   "cell_type": "code",
   "execution_count": 9,
   "id": "ee525c36",
   "metadata": {},
   "outputs": [],
   "source": [
    "train_gen = ImageDataGenerator(preprocessing_function=preprocess_input)"
   ]
  },
  {
   "cell_type": "code",
   "execution_count": 10,
   "id": "a2993cd4",
   "metadata": {},
   "outputs": [
    {
     "name": "stdout",
     "output_type": "stream",
     "text": [
      "Found 3068 images belonging to 10 classes.\n"
     ]
    }
   ],
   "source": [
    "train_ds = train_gen.flow_from_directory('./clothing-dataset-small/train', target_size=(150, 150), batch_size=32)"
   ]
  },
  {
   "cell_type": "code",
   "execution_count": 11,
   "id": "fa04fde1",
   "metadata": {},
   "outputs": [
    {
     "data": {
      "text/plain": [
       "{'dress': 0,\n",
       " 'hat': 1,\n",
       " 'longsleeve': 2,\n",
       " 'outwear': 3,\n",
       " 'pants': 4,\n",
       " 'shirt': 5,\n",
       " 'shoes': 6,\n",
       " 'shorts': 7,\n",
       " 'skirt': 8,\n",
       " 't-shirt': 9}"
      ]
     },
     "execution_count": 11,
     "metadata": {},
     "output_type": "execute_result"
    }
   ],
   "source": [
    "train_ds.class_indices"
   ]
  },
  {
   "cell_type": "code",
   "execution_count": 12,
   "id": "813d71de",
   "metadata": {},
   "outputs": [],
   "source": [
    "X, y = next(train_ds)"
   ]
  },
  {
   "cell_type": "code",
   "execution_count": 13,
   "id": "d767c715",
   "metadata": {},
   "outputs": [
    {
     "data": {
      "text/plain": [
       "((32, 150, 150, 3), (32, 10))"
      ]
     },
     "execution_count": 13,
     "metadata": {},
     "output_type": "execute_result"
    }
   ],
   "source": [
    "X.shape, y.shape"
   ]
  },
  {
   "cell_type": "code",
   "execution_count": 14,
   "id": "044a8ae1",
   "metadata": {},
   "outputs": [
    {
     "data": {
      "text/plain": [
       "array([[0., 0., 0., 0., 0., 0., 0., 0., 0., 1.],\n",
       "       [0., 0., 0., 0., 0., 0., 0., 0., 0., 1.],\n",
       "       [0., 0., 0., 0., 1., 0., 0., 0., 0., 0.],\n",
       "       [0., 0., 0., 0., 0., 0., 0., 0., 0., 1.],\n",
       "       [0., 0., 0., 0., 0., 0., 1., 0., 0., 0.]], dtype=float32)"
      ]
     },
     "execution_count": 14,
     "metadata": {},
     "output_type": "execute_result"
    }
   ],
   "source": [
    "y[:5]"
   ]
  },
  {
   "cell_type": "markdown",
   "id": "38d0a9b7",
   "metadata": {},
   "source": [
    "The `y` vector categorises the input images into classes similarly to OneHot encoding."
   ]
  },
  {
   "cell_type": "code",
   "execution_count": 15,
   "id": "7434dee3",
   "metadata": {},
   "outputs": [
    {
     "name": "stdout",
     "output_type": "stream",
     "text": [
      "Found 341 images belonging to 10 classes.\n"
     ]
    }
   ],
   "source": [
    "val_gen = ImageDataGenerator(preprocessing_function=preprocess_input)\n",
    "\n",
    "val_ds = val_gen.flow_from_directory(\n",
    "    './clothing-dataset-small/validation',\n",
    "    target_size=(150, 150), \n",
    "    batch_size=32, \n",
    "    shuffle=False\n",
    ")"
   ]
  },
  {
   "cell_type": "code",
   "execution_count": 16,
   "id": "ee0eb259",
   "metadata": {},
   "outputs": [
    {
     "data": {
      "text/plain": [
       "{'dress': 0,\n",
       " 'hat': 1,\n",
       " 'longsleeve': 2,\n",
       " 'outwear': 3,\n",
       " 'pants': 4,\n",
       " 'shirt': 5,\n",
       " 'shoes': 6,\n",
       " 'shorts': 7,\n",
       " 'skirt': 8,\n",
       " 't-shirt': 9}"
      ]
     },
     "execution_count": 16,
     "metadata": {},
     "output_type": "execute_result"
    }
   ],
   "source": [
    "val_ds.class_indices"
   ]
  },
  {
   "cell_type": "markdown",
   "id": "2bc46658",
   "metadata": {},
   "source": [
    "Let us train our custom model (dense layers) on top of the convolutional layers of ImageNet.\n",
    "\n",
    "Keras Terminology:\n",
    "\n",
    "- **Top**: Dense Layers + Predictions\n",
    "- **Bottom**: Convultional Layers + Vector Representation\n",
    "\n",
    "We are only interested in the **bottom** of ImageNet."
   ]
  },
  {
   "cell_type": "code",
   "execution_count": 17,
   "id": "aaea060c",
   "metadata": {},
   "outputs": [
    {
     "name": "stdout",
     "output_type": "stream",
     "text": [
      "1/1 [==============================] - 1s 1s/step\n"
     ]
    }
   ],
   "source": [
    "# Specifying that we want the bottom of ImageNet as our base model\n",
    "base_model = Xception(\n",
    "    weights='imagenet',\n",
    "    include_top=False,\n",
    "    input_shape=(150, 150, 3)\n",
    ")\n",
    "\n",
    "# Don't want to retrain the base model (want to keep bottom)\n",
    "base_model.trainable = False\n",
    "\n",
    "# Specifying model inputs\n",
    "inputs = keras.Input(shape=(150, 150, 3))\n",
    "\n",
    "# Establishing base\n",
    "base = base_model(inputs)\n",
    "\n",
    "# Pooling\n",
    "vectors = keras.layers.GlobalAveragePooling2D()(base)\n",
    "\n",
    "# Output\n",
    "outputs = keras.layers.Dense(10)(vectors)\n",
    "\n",
    "# Final model \n",
    "model = keras.Model(inputs, outputs)\n",
    "\n",
    "# Model predictions\n",
    "preds = model.predict(X)"
   ]
  },
  {
   "cell_type": "markdown",
   "id": "e6cb317a",
   "metadata": {},
   "source": [
    "Require an **optimiser** to tune the weights for optimal performance. See optimisation theory here: https://cs231n.github.io/optimization-1/\n",
    "\n",
    "To gauge optimisation we minimise some loss function using our optimiser of choice. There are several loss functions; the following are examples of loss functions and their use cases:\n",
    "1. **Categorical Cross Entropy** - Multi-class Classification\n",
    "2. **Binary Cross Entropy** - Binary Classification\n",
    "3. **Mean Squared Error** - Regression\n",
    "\n",
    "<hr>\n",
    "\n",
    "**Logits** describes the row output of a dense layer before applying softmax.\n",
    "\n",
    "$$\\sigma(\\vec{z})_{i} = \\frac{e^{z_{i}}}{\\sum_{j=1}^{K}e^{z_{j}}}$$\n",
    "\n",
    "\\begin{align}\n",
    "    \\sigma &= \\text{softmax} \\\\\n",
    "    \\vec{z} &= \\text{input vector} \\\\\n",
    "    e^{z_{i}} &= \\text{standard exponetial function for input vector} \\\\\n",
    "    e^{z_{j}} &= \\text{standard exponetial function for output vector} \\\\\n",
    "    K &= \\text{number of classes in multi-class classifier}\n",
    "\\end{align}\n",
    "\n",
    "<hr>\n",
    "\n",
    "`metrics` in `model.compile` outputs a metric of choice for each training step."
   ]
  },
  {
   "cell_type": "code",
   "execution_count": 18,
   "id": "12fedd30",
   "metadata": {},
   "outputs": [
    {
     "name": "stdout",
     "output_type": "stream",
     "text": [
      "Epoch 1/10\n",
      "96/96 [==============================] - 18s 166ms/step - loss: 1.3372 - accuracy: 0.6571 - val_loss: 0.7787 - val_accuracy: 0.7977\n",
      "Epoch 2/10\n",
      "96/96 [==============================] - 12s 123ms/step - loss: 0.5781 - accuracy: 0.8129 - val_loss: 0.9145 - val_accuracy: 0.7742\n",
      "Epoch 3/10\n",
      "96/96 [==============================] - 12s 123ms/step - loss: 0.4116 - accuracy: 0.8693 - val_loss: 0.8018 - val_accuracy: 0.8094\n",
      "Epoch 4/10\n",
      "96/96 [==============================] - 12s 123ms/step - loss: 0.2486 - accuracy: 0.9110 - val_loss: 1.0402 - val_accuracy: 0.7419\n",
      "Epoch 5/10\n",
      "96/96 [==============================] - 12s 122ms/step - loss: 0.1555 - accuracy: 0.9423 - val_loss: 0.8739 - val_accuracy: 0.8065\n",
      "Epoch 6/10\n",
      "96/96 [==============================] - 12s 122ms/step - loss: 0.1215 - accuracy: 0.9576 - val_loss: 0.8960 - val_accuracy: 0.8006\n",
      "Epoch 7/10\n",
      "96/96 [==============================] - 12s 122ms/step - loss: 0.0764 - accuracy: 0.9746 - val_loss: 0.9024 - val_accuracy: 0.8065\n",
      "Epoch 8/10\n",
      "96/96 [==============================] - 12s 122ms/step - loss: 0.0661 - accuracy: 0.9808 - val_loss: 0.8649 - val_accuracy: 0.8152\n",
      "Epoch 9/10\n",
      "96/96 [==============================] - 12s 122ms/step - loss: 0.0440 - accuracy: 0.9899 - val_loss: 0.8686 - val_accuracy: 0.8065\n",
      "Epoch 10/10\n",
      "96/96 [==============================] - 12s 121ms/step - loss: 0.0254 - accuracy: 0.9971 - val_loss: 0.8880 - val_accuracy: 0.7947\n"
     ]
    }
   ],
   "source": [
    "learning_rate = 0.01\n",
    "\n",
    "# Optimiser function\n",
    "optimizer = keras.optimizers.Adam(learning_rate=learning_rate)\n",
    "\n",
    "# Loss function to minimise\n",
    "loss = keras.losses.CategoricalCrossentropy(from_logits=True)\n",
    "\n",
    "# Compiling the model\n",
    "model.compile(optimizer=optimizer, loss=loss, metrics=['accuracy'])\n",
    "\n",
    "history = model.fit(train_ds, epochs=10, validation_data=val_ds)"
   ]
  },
  {
   "cell_type": "code",
   "execution_count": 19,
   "id": "4b7fda9e",
   "metadata": {},
   "outputs": [
    {
     "data": {
      "text/plain": [
       "<matplotlib.legend.Legend at 0x7fd5143506a0>"
      ]
     },
     "execution_count": 19,
     "metadata": {},
     "output_type": "execute_result"
    },
    {
     "data": {
      "image/png": "[encoded data removed]",
      "text/plain": [
       "<Figure size 640x480 with 1 Axes>"
      ]
     },
     "metadata": {},
     "output_type": "display_data"
    }
   ],
   "source": [
    "plt.plot(history.history['accuracy'], label='train')\n",
    "plt.plot(history.history['val_accuracy'], label='val')\n",
    "\n",
    "plt.xticks(np.arange(10))\n",
    "\n",
    "plt.legend()"
   ]
  },
  {
   "cell_type": "markdown",
   "id": "29b699a6",
   "metadata": {},
   "source": [
    "### Adjusting the learning rate\n",
    "\n",
    "Learning Rate ~ How fast you can read\n",
    "\n",
    "The faster you read books, the less information you're absorbing; whereas, the slower you read books, the more information you absorb but progress is slower.\n",
    "\n",
    "- Learning rate too high -- Overfitting\n",
    "- Learning rate too low -- Underfitting"
   ]
  },
  {
   "cell_type": "code",
   "execution_count": 20,
   "id": "bd14f79f",
   "metadata": {},
   "outputs": [],
   "source": [
    "def make_model(learning_rate=0.01):\n",
    "    base_model = Xception(\n",
    "        weights='imagenet',\n",
    "        include_top=False,\n",
    "        input_shape=(150, 150, 3)\n",
    "    )\n",
    "\n",
    "    base_model.trainable = False\n",
    "\n",
    "    #########################################\n",
    "\n",
    "    inputs = keras.Input(shape=(150, 150, 3))\n",
    "    base = base_model(inputs, training=False)\n",
    "    vectors = keras.layers.GlobalAveragePooling2D()(base)\n",
    "    outputs = keras.layers.Dense(10)(vectors)\n",
    "    model = keras.Model(inputs, outputs)\n",
    "    \n",
    "    #########################################\n",
    "\n",
    "    optimizer = keras.optimizers.Adam(learning_rate=learning_rate)\n",
    "    loss = keras.losses.CategoricalCrossentropy(from_logits=True)\n",
    "\n",
    "    model.compile(\n",
    "        optimizer=optimizer,\n",
    "        loss=loss,\n",
    "        metrics=['accuracy']\n",
    "    )\n",
    "    \n",
    "    return model"
   ]
  },
  {
   "cell_type": "code",
   "execution_count": 21,
   "id": "b7b4c061",
   "metadata": {},
   "outputs": [
    {
     "name": "stdout",
     "output_type": "stream",
     "text": [
      "0.0001\n",
      "Epoch 1/10\n",
      "96/96 [==============================] - 14s 129ms/step - loss: 1.8904 - accuracy: 0.3768 - val_loss: 1.5822 - val_accuracy: 0.5191\n",
      "Epoch 2/10\n",
      "96/96 [==============================] - 12s 122ms/step - loss: 1.3788 - accuracy: 0.5541 - val_loss: 1.2466 - val_accuracy: 0.5924\n",
      "Epoch 3/10\n",
      "96/96 [==============================] - 12s 122ms/step - loss: 1.1372 - accuracy: 0.6359 - val_loss: 1.0649 - val_accuracy: 0.6686\n",
      "Epoch 4/10\n",
      "96/96 [==============================] - 12s 123ms/step - loss: 0.9965 - accuracy: 0.6845 - val_loss: 0.9504 - val_accuracy: 0.7155\n",
      "Epoch 5/10\n",
      "96/96 [==============================] - 12s 121ms/step - loss: 0.9023 - accuracy: 0.7135 - val_loss: 0.8814 - val_accuracy: 0.7361\n",
      "Epoch 6/10\n",
      "96/96 [==============================] - 12s 122ms/step - loss: 0.8347 - accuracy: 0.7291 - val_loss: 0.8227 - val_accuracy: 0.7537\n",
      "Epoch 7/10\n",
      "96/96 [==============================] - 12s 122ms/step - loss: 0.7822 - accuracy: 0.7448 - val_loss: 0.7884 - val_accuracy: 0.7595\n",
      "Epoch 8/10\n",
      "96/96 [==============================] - 12s 121ms/step - loss: 0.7395 - accuracy: 0.7591 - val_loss: 0.7561 - val_accuracy: 0.7713\n",
      "Epoch 9/10\n",
      "96/96 [==============================] - 12s 122ms/step - loss: 0.7052 - accuracy: 0.7696 - val_loss: 0.7282 - val_accuracy: 0.7830\n",
      "Epoch 10/10\n",
      "96/96 [==============================] - 12s 122ms/step - loss: 0.6745 - accuracy: 0.7787 - val_loss: 0.7096 - val_accuracy: 0.7859\n",
      "\n",
      "\n",
      "0.001\n",
      "Epoch 1/10\n",
      "96/96 [==============================] - 15s 131ms/step - loss: 1.1582 - accuracy: 0.6186 - val_loss: 0.7375 - val_accuracy: 0.7507\n",
      "Epoch 2/10\n",
      "96/96 [==============================] - 12s 121ms/step - loss: 0.6399 - accuracy: 0.7829 - val_loss: 0.6314 - val_accuracy: 0.7947\n",
      "Epoch 3/10\n",
      "96/96 [==============================] - 12s 122ms/step - loss: 0.5192 - accuracy: 0.8259 - val_loss: 0.6222 - val_accuracy: 0.7947\n",
      "Epoch 4/10\n",
      "96/96 [==============================] - 12s 122ms/step - loss: 0.4373 - accuracy: 0.8559 - val_loss: 0.5914 - val_accuracy: 0.8123\n",
      "Epoch 5/10\n",
      "96/96 [==============================] - 12s 122ms/step - loss: 0.3800 - accuracy: 0.8827 - val_loss: 0.5731 - val_accuracy: 0.8152\n",
      "Epoch 6/10\n",
      "96/96 [==============================] - 12s 121ms/step - loss: 0.3342 - accuracy: 0.9061 - val_loss: 0.5606 - val_accuracy: 0.8152\n",
      "Epoch 7/10\n",
      "96/96 [==============================] - 12s 123ms/step - loss: 0.2917 - accuracy: 0.9182 - val_loss: 0.5479 - val_accuracy: 0.8240\n",
      "Epoch 8/10\n",
      "96/96 [==============================] - 12s 124ms/step - loss: 0.2674 - accuracy: 0.9293 - val_loss: 0.5431 - val_accuracy: 0.8328\n",
      "Epoch 9/10\n",
      "96/96 [==============================] - 12s 122ms/step - loss: 0.2387 - accuracy: 0.9397 - val_loss: 0.5845 - val_accuracy: 0.8065\n",
      "Epoch 10/10\n",
      "96/96 [==============================] - 12s 121ms/step - loss: 0.2168 - accuracy: 0.9508 - val_loss: 0.5330 - val_accuracy: 0.8299\n",
      "\n",
      "\n",
      "0.01\n",
      "Epoch 1/10\n",
      "96/96 [==============================] - 15s 130ms/step - loss: 1.2273 - accuracy: 0.6714 - val_loss: 0.8154 - val_accuracy: 0.7683\n",
      "Epoch 2/10\n",
      "96/96 [==============================] - 12s 122ms/step - loss: 0.5628 - accuracy: 0.8184 - val_loss: 0.9190 - val_accuracy: 0.7683\n",
      "Epoch 3/10\n",
      "96/96 [==============================] - 12s 121ms/step - loss: 0.3459 - accuracy: 0.8794 - val_loss: 1.0901 - val_accuracy: 0.7537\n",
      "Epoch 4/10\n",
      "96/96 [==============================] - 12s 122ms/step - loss: 0.2327 - accuracy: 0.9179 - val_loss: 0.9888 - val_accuracy: 0.7918\n",
      "Epoch 5/10\n",
      "96/96 [==============================] - 12s 121ms/step - loss: 0.1622 - accuracy: 0.9459 - val_loss: 0.8472 - val_accuracy: 0.8152\n",
      "Epoch 6/10\n",
      "96/96 [==============================] - 12s 123ms/step - loss: 0.1176 - accuracy: 0.9593 - val_loss: 0.9035 - val_accuracy: 0.7713\n",
      "Epoch 7/10\n",
      "96/96 [==============================] - 12s 121ms/step - loss: 0.0994 - accuracy: 0.9654 - val_loss: 0.9541 - val_accuracy: 0.7947\n",
      "Epoch 8/10\n",
      "96/96 [==============================] - 12s 123ms/step - loss: 0.0728 - accuracy: 0.9739 - val_loss: 1.1300 - val_accuracy: 0.7859\n",
      "Epoch 9/10\n",
      "96/96 [==============================] - 12s 122ms/step - loss: 0.0682 - accuracy: 0.9795 - val_loss: 1.1454 - val_accuracy: 0.7801\n",
      "Epoch 10/10\n",
      "96/96 [==============================] - 12s 123ms/step - loss: 0.0515 - accuracy: 0.9866 - val_loss: 0.9107 - val_accuracy: 0.8182\n",
      "\n",
      "\n",
      "0.1\n",
      "Epoch 1/10\n",
      "96/96 [==============================] - 15s 130ms/step - loss: 11.4574 - accuracy: 0.6340 - val_loss: 8.7907 - val_accuracy: 0.6862\n",
      "Epoch 2/10\n",
      "96/96 [==============================] - 12s 122ms/step - loss: 5.3441 - accuracy: 0.7650 - val_loss: 6.3291 - val_accuracy: 0.7918\n",
      "Epoch 3/10\n",
      "96/96 [==============================] - 12s 121ms/step - loss: 3.8800 - accuracy: 0.8276 - val_loss: 6.5790 - val_accuracy: 0.7683\n",
      "Epoch 4/10\n",
      "96/96 [==============================] - 12s 122ms/step - loss: 4.1642 - accuracy: 0.8246 - val_loss: 7.0379 - val_accuracy: 0.7713\n",
      "Epoch 5/10\n",
      "96/96 [==============================] - 12s 122ms/step - loss: 2.5152 - accuracy: 0.8872 - val_loss: 7.7441 - val_accuracy: 0.7566\n",
      "Epoch 6/10\n",
      "96/96 [==============================] - 12s 120ms/step - loss: 1.6580 - accuracy: 0.9110 - val_loss: 12.5623 - val_accuracy: 0.7185\n",
      "Epoch 7/10\n",
      "96/96 [==============================] - 12s 124ms/step - loss: 1.6424 - accuracy: 0.9126 - val_loss: 10.2437 - val_accuracy: 0.7947\n",
      "Epoch 8/10\n",
      "96/96 [==============================] - 12s 121ms/step - loss: 1.5552 - accuracy: 0.9120 - val_loss: 11.5462 - val_accuracy: 0.7625\n",
      "Epoch 9/10\n",
      "96/96 [==============================] - 12s 122ms/step - loss: 1.3778 - accuracy: 0.9312 - val_loss: 11.1598 - val_accuracy: 0.7830\n",
      "Epoch 10/10\n",
      "96/96 [==============================] - 12s 124ms/step - loss: 1.1507 - accuracy: 0.9332 - val_loss: 12.7012 - val_accuracy: 0.7537\n",
      "\n",
      "\n"
     ]
    }
   ],
   "source": [
    "scores = {}\n",
    "\n",
    "for lr in [0.0001, 0.001, 0.01, 0.1]:\n",
    "    print(lr)\n",
    "\n",
    "    model = make_model(learning_rate=lr)\n",
    "    history = model.fit(train_ds, epochs=10, validation_data=val_ds)\n",
    "    scores[lr] = history.history\n",
    "\n",
    "    print()\n",
    "    print()"
   ]
  },
  {
   "cell_type": "code",
   "execution_count": 22,
   "id": "defd74e4",
   "metadata": {},
   "outputs": [
    {
     "data": {
      "text/plain": [
       "<matplotlib.legend.Legend at 0x7fd4a0836220>"
      ]
     },
     "execution_count": 22,
     "metadata": {},
     "output_type": "execute_result"
    },
    {
     "data": {
      "image/png": "[encoded data removed]",
      "text/plain": [
       "<Figure size 640x480 with 1 Axes>"
      ]
     },
     "metadata": {},
     "output_type": "display_data"
    }
   ],
   "source": [
    "for lr, hist in scores.items():\n",
    "    #plt.plot(hist['accuracy'], label=('train=%s' % lr))\n",
    "    plt.plot(hist['val_accuracy'], label=('val=%s' % lr))\n",
    "\n",
    "plt.xticks(np.arange(10))\n",
    "plt.legend()"
   ]
  },
  {
   "cell_type": "code",
   "execution_count": 23,
   "id": "9c4111c2",
   "metadata": {},
   "outputs": [],
   "source": [
    "learning_rate = 0.001"
   ]
  },
  {
   "cell_type": "markdown",
   "id": "5f43a60e",
   "metadata": {},
   "source": [
    "### Checkpointing\n",
    "\n",
    "Sometimes, we want to save a model prior to the final epoch. We can do this using **checkpointing**.\n",
    "\n",
    "After evaluating an epoch we can use **callbacks**. There are several types of callbacks; `ModelCheckpoint()` is the callback we're interested in.\n",
    "\n",
    "We only want to save the epoch with the best accuracy; therefore, `save_best_only=True` and `monitor='val_accuracy'`."
   ]
  },
  {
   "cell_type": "code",
   "execution_count": 24,
   "id": "891acdf5",
   "metadata": {},
   "outputs": [],
   "source": [
    "model.save_weights('model_v1.h5', save_format='h5')\n",
    "\n",
    "checkpoint = keras.callbacks.ModelCheckpoint(\n",
    "    'xception_v1_{epoch:02d}_{val_accuracy:.3f}.h5',\n",
    "    save_best_only=True,\n",
    "    monitor='val_accuracy',\n",
    "    mode='max'\n",
    ")"
   ]
  },
  {
   "cell_type": "code",
   "execution_count": 26,
   "id": "b663f12f",
   "metadata": {},
   "outputs": [
    {
     "name": "stdout",
     "output_type": "stream",
     "text": [
      "Epoch 1/10\n",
      "96/96 [==============================] - 15s 135ms/step - loss: 1.1258 - accuracy: 0.6239 - val_loss: 0.7105 - val_accuracy: 0.7683\n",
      "Epoch 2/10\n",
      "96/96 [==============================] - 12s 127ms/step - loss: 0.6408 - accuracy: 0.7810 - val_loss: 0.6192 - val_accuracy: 0.8065\n",
      "Epoch 3/10\n",
      "96/96 [==============================] - 12s 125ms/step - loss: 0.5158 - accuracy: 0.8315 - val_loss: 0.5745 - val_accuracy: 0.8152\n",
      "Epoch 4/10\n",
      "96/96 [==============================] - 12s 125ms/step - loss: 0.4346 - accuracy: 0.8625 - val_loss: 0.5535 - val_accuracy: 0.8270\n",
      "Epoch 5/10\n",
      "96/96 [==============================] - 12s 123ms/step - loss: 0.3762 - accuracy: 0.8853 - val_loss: 0.5554 - val_accuracy: 0.8123\n",
      "Epoch 6/10\n",
      "96/96 [==============================] - 12s 123ms/step - loss: 0.3317 - accuracy: 0.9042 - val_loss: 0.5574 - val_accuracy: 0.8123\n",
      "Epoch 7/10\n",
      "96/96 [==============================] - 12s 125ms/step - loss: 0.2998 - accuracy: 0.9123 - val_loss: 0.5262 - val_accuracy: 0.8416\n",
      "Epoch 8/10\n",
      "96/96 [==============================] - 12s 123ms/step - loss: 0.2626 - accuracy: 0.9342 - val_loss: 0.5369 - val_accuracy: 0.8182\n",
      "Epoch 9/10\n",
      "96/96 [==============================] - 12s 123ms/step - loss: 0.2393 - accuracy: 0.9397 - val_loss: 0.5393 - val_accuracy: 0.8182\n",
      "Epoch 10/10\n",
      "96/96 [==============================] - 12s 122ms/step - loss: 0.2168 - accuracy: 0.9511 - val_loss: 0.5463 - val_accuracy: 0.8182\n"
     ]
    }
   ],
   "source": [
    "model = make_model(learning_rate=learning_rate)\n",
    "\n",
    "history = model.fit(\n",
    "    train_ds,\n",
    "    epochs=10,\n",
    "    validation_data=val_ds,\n",
    "    callbacks=[checkpoint]\n",
    ")"
   ]
  },
  {
   "cell_type": "markdown",
   "id": "a75c56e0",
   "metadata": {},
   "source": [
    "Examining our file repository, notice that there are now several files titled *xception_v1_(ver)_(acc)*. These files are checkpoints of the highest scoring models. Files were not generated for each epoch which suggests that the model becomes worse with too much training (result of overfitting to training data)."
   ]
  },
  {
   "cell_type": "markdown",
   "id": "f04157a1",
   "metadata": {},
   "source": [
    "### Adding additional dense layers to neural network\n",
    "\n",
    "So far: \n",
    "- Take **bottom** from pre-trained ImageNet model, Xception\n",
    "- Use convolutional layers to extract vector representation of input images\n",
    "- Introduce dense layer which produces an output based on vector input \n",
    "\n",
    "We can introduce additional dense layers to make the neural network more powerful.\n",
    "\n",
    "`activation` describes the transformation from row scores to $x$ (in our case, $x$ = *probabilities*).\n",
    "\n",
    "Examples of activation functions:\n",
    "- Sigmoid & Softmax (Output)\n",
    "- ReLU, etc. (Intermediate)"
   ]
  },
  {
   "cell_type": "code",
   "execution_count": 29,
   "id": "ceb45dd3",
   "metadata": {},
   "outputs": [],
   "source": [
    "def make_model(learning_rate=0.01, size_inner=100):\n",
    "    base_model = Xception(\n",
    "        weights='imagenet',\n",
    "        include_top=False,\n",
    "        input_shape=(150, 150, 3)\n",
    "    )\n",
    "\n",
    "    base_model.trainable = False\n",
    "\n",
    "    #########################################\n",
    "\n",
    "    inputs = keras.Input(shape=(150, 150, 3))\n",
    "    base = base_model(inputs, training=False)\n",
    "    vectors = keras.layers.GlobalAveragePooling2D()(base)\n",
    "    \n",
    "    inner = keras.layers.Dense(size_inner, activation='relu')(vectors)\n",
    "    \n",
    "    outputs = keras.layers.Dense(10)(inner)\n",
    "    \n",
    "    model = keras.Model(inputs, outputs)\n",
    "    \n",
    "    #########################################\n",
    "\n",
    "    optimizer = keras.optimizers.Adam(learning_rate=learning_rate)\n",
    "    loss = keras.losses.CategoricalCrossentropy(from_logits=True)\n",
    "\n",
    "    model.compile(\n",
    "        optimizer=optimizer,\n",
    "        loss=loss,\n",
    "        metrics=['accuracy']\n",
    "    )\n",
    "    \n",
    "    return model"
   ]
  },
  {
   "cell_type": "code",
   "execution_count": 30,
   "id": "0048f909",
   "metadata": {},
   "outputs": [
    {
     "name": "stdout",
     "output_type": "stream",
     "text": [
      "10\n",
      "Epoch 1/10\n",
      "96/96 [==============================] - 15s 129ms/step - loss: 1.3940 - accuracy: 0.5300 - val_loss: 0.9282 - val_accuracy: 0.7273\n",
      "Epoch 2/10\n",
      "96/96 [==============================] - 12s 122ms/step - loss: 0.7751 - accuracy: 0.7526 - val_loss: 0.7203 - val_accuracy: 0.7771\n",
      "Epoch 3/10\n",
      "96/96 [==============================] - 12s 121ms/step - loss: 0.5831 - accuracy: 0.8110 - val_loss: 0.6245 - val_accuracy: 0.8006\n",
      "Epoch 4/10\n",
      "96/96 [==============================] - 12s 120ms/step - loss: 0.4721 - accuracy: 0.8481 - val_loss: 0.5907 - val_accuracy: 0.8094\n",
      "Epoch 5/10\n",
      "96/96 [==============================] - 12s 120ms/step - loss: 0.3994 - accuracy: 0.8742 - val_loss: 0.5624 - val_accuracy: 0.8065\n",
      "Epoch 6/10\n",
      "96/96 [==============================] - 12s 121ms/step - loss: 0.3459 - accuracy: 0.8931 - val_loss: 0.5571 - val_accuracy: 0.8123\n",
      "Epoch 7/10\n",
      "96/96 [==============================] - 12s 120ms/step - loss: 0.2926 - accuracy: 0.9153 - val_loss: 0.5532 - val_accuracy: 0.8035\n",
      "Epoch 8/10\n",
      "96/96 [==============================] - 12s 120ms/step - loss: 0.2564 - accuracy: 0.9322 - val_loss: 0.5518 - val_accuracy: 0.8065\n",
      "Epoch 9/10\n",
      "96/96 [==============================] - 12s 119ms/step - loss: 0.2303 - accuracy: 0.9381 - val_loss: 0.5316 - val_accuracy: 0.8065\n",
      "Epoch 10/10\n",
      "96/96 [==============================] - 12s 120ms/step - loss: 0.2004 - accuracy: 0.9485 - val_loss: 0.5498 - val_accuracy: 0.8094\n",
      "\n",
      "\n",
      "100\n",
      "Epoch 1/10\n",
      "96/96 [==============================] - 15s 128ms/step - loss: 0.9760 - accuracy: 0.6744 - val_loss: 0.6872 - val_accuracy: 0.7537\n",
      "Epoch 2/10\n",
      "96/96 [==============================] - 12s 120ms/step - loss: 0.5164 - accuracy: 0.8227 - val_loss: 0.5601 - val_accuracy: 0.8182\n",
      "Epoch 3/10\n",
      "96/96 [==============================] - 12s 120ms/step - loss: 0.3855 - accuracy: 0.8654 - val_loss: 0.5688 - val_accuracy: 0.8123\n",
      "Epoch 4/10\n",
      "96/96 [==============================] - 12s 121ms/step - loss: 0.2715 - accuracy: 0.9156 - val_loss: 0.5266 - val_accuracy: 0.8152\n",
      "Epoch 5/10\n",
      "96/96 [==============================] - 12s 120ms/step - loss: 0.1998 - accuracy: 0.9488 - val_loss: 0.5839 - val_accuracy: 0.8123\n",
      "Epoch 6/10\n",
      "96/96 [==============================] - 12s 120ms/step - loss: 0.1509 - accuracy: 0.9628 - val_loss: 0.5530 - val_accuracy: 0.8387\n",
      "Epoch 7/10\n",
      "96/96 [==============================] - 12s 121ms/step - loss: 0.1010 - accuracy: 0.9834 - val_loss: 0.5706 - val_accuracy: 0.8358\n",
      "Epoch 8/10\n",
      "96/96 [==============================] - 12s 120ms/step - loss: 0.0750 - accuracy: 0.9899 - val_loss: 0.5871 - val_accuracy: 0.8270\n",
      "Epoch 9/10\n",
      "96/96 [==============================] - 11s 119ms/step - loss: 0.0563 - accuracy: 0.9948 - val_loss: 0.5833 - val_accuracy: 0.8446\n",
      "Epoch 10/10\n",
      "96/96 [==============================] - 12s 120ms/step - loss: 0.0400 - accuracy: 0.9984 - val_loss: 0.5999 - val_accuracy: 0.8270\n",
      "\n",
      "\n",
      "1000\n",
      "Epoch 1/10\n",
      "96/96 [==============================] - 14s 129ms/step - loss: 0.9374 - accuracy: 0.6871 - val_loss: 0.7199 - val_accuracy: 0.7390\n",
      "Epoch 2/10\n",
      "96/96 [==============================] - 12s 120ms/step - loss: 0.4409 - accuracy: 0.8400 - val_loss: 0.5962 - val_accuracy: 0.7947\n",
      "Epoch 3/10\n",
      "96/96 [==============================] - 12s 121ms/step - loss: 0.2772 - accuracy: 0.9058 - val_loss: 0.6405 - val_accuracy: 0.7830\n",
      "Epoch 4/10\n",
      "96/96 [==============================] - 12s 122ms/step - loss: 0.1548 - accuracy: 0.9566 - val_loss: 0.5659 - val_accuracy: 0.8065\n",
      "Epoch 5/10\n",
      "96/96 [==============================] - 12s 120ms/step - loss: 0.0741 - accuracy: 0.9840 - val_loss: 0.6223 - val_accuracy: 0.8182\n",
      "Epoch 6/10\n",
      "96/96 [==============================] - 12s 121ms/step - loss: 0.0454 - accuracy: 0.9912 - val_loss: 0.6051 - val_accuracy: 0.8123\n",
      "Epoch 7/10\n",
      "96/96 [==============================] - 12s 123ms/step - loss: 0.0301 - accuracy: 0.9948 - val_loss: 0.6194 - val_accuracy: 0.8299\n",
      "Epoch 8/10\n",
      "96/96 [==============================] - 12s 120ms/step - loss: 0.0154 - accuracy: 0.9980 - val_loss: 0.6928 - val_accuracy: 0.8182\n",
      "Epoch 9/10\n",
      "96/96 [==============================] - 12s 122ms/step - loss: 0.0151 - accuracy: 0.9967 - val_loss: 0.6609 - val_accuracy: 0.8182\n",
      "Epoch 10/10\n",
      "96/96 [==============================] - 12s 123ms/step - loss: 0.0114 - accuracy: 0.9980 - val_loss: 0.6588 - val_accuracy: 0.8387\n",
      "\n",
      "\n"
     ]
    }
   ],
   "source": [
    "learning_rate = 0.001\n",
    "\n",
    "scores = {}\n",
    "\n",
    "for size in [10, 100, 1000]:\n",
    "    print(size)\n",
    "\n",
    "    model = make_model(learning_rate=learning_rate, size_inner=size)\n",
    "    history = model.fit(train_ds, epochs=10, validation_data=val_ds)\n",
    "    scores[size] = history.history\n",
    "\n",
    "    print()\n",
    "    print()"
   ]
  },
  {
   "cell_type": "code",
   "execution_count": 31,
   "id": "dd069d2a",
   "metadata": {},
   "outputs": [
    {
     "data": {
      "text/plain": [
       "<matplotlib.legend.Legend at 0x7fd466641fa0>"
      ]
     },
     "execution_count": 31,
     "metadata": {},
     "output_type": "execute_result"
    },
    {
     "data": {
      "image/png": "[encoded data removed]",
      "text/plain": [
       "<Figure size 640x480 with 1 Axes>"
      ]
     },
     "metadata": {},
     "output_type": "display_data"
    }
   ],
   "source": [
    "for size, hist in scores.items():\n",
    "    plt.plot(hist['val_accuracy'], label=('val=%s' % size))\n",
    "\n",
    "plt.xticks(np.arange(10))\n",
    "plt.yticks([0.78, 0.80, 0.82, 0.825, 0.83])\n",
    "plt.legend()"
   ]
  },
  {
   "cell_type": "markdown",
   "id": "5a91b675",
   "metadata": {},
   "source": [
    "### Regularisation and dropout\n",
    "\n",
    "Direct focus of neural network to general trends as opposed to minute details.\n",
    "\n",
    "To do this, we can use **dropout** to randomly hide part of the input image.\n",
    "\n",
    "Dropout does this by taking a dense layer and freezing part of the layer. So, during training, a unique part of the inner layer is frozen. This is effectively ignoring part of an image.\n",
    "\n",
    "`droprate` is the proportion of the vector representation (input image) we want to ignore.\n",
    "\n",
    "NOTE: After introducing regularisation, one must scale the number of epochs to account for the active restrictions on model training (partially hiding the input from the model)."
   ]
  },
  {
   "cell_type": "code",
   "execution_count": 32,
   "id": "9625b071",
   "metadata": {},
   "outputs": [],
   "source": [
    "def make_model(learning_rate=0.01, size_inner=100, droprate=0.5):\n",
    "    base_model = Xception(\n",
    "        weights='imagenet',\n",
    "        include_top=False,\n",
    "        input_shape=(150, 150, 3)\n",
    "    )\n",
    "\n",
    "    base_model.trainable = False\n",
    "\n",
    "    #########################################\n",
    "\n",
    "    inputs = keras.Input(shape=(150, 150, 3))\n",
    "    base = base_model(inputs, training=False)\n",
    "    vectors = keras.layers.GlobalAveragePooling2D()(base)\n",
    "    \n",
    "    inner = keras.layers.Dense(size_inner, activation='relu')(vectors)\n",
    "    drop = keras.layers.Dropout(droprate)(inner)\n",
    "    \n",
    "    outputs = keras.layers.Dense(10)(drop)\n",
    "    \n",
    "    model = keras.Model(inputs, outputs)\n",
    "    \n",
    "    #########################################\n",
    "\n",
    "    optimizer = keras.optimizers.Adam(learning_rate=learning_rate)\n",
    "    loss = keras.losses.CategoricalCrossentropy(from_logits=True)\n",
    "\n",
    "    model.compile(\n",
    "        optimizer=optimizer,\n",
    "        loss=loss,\n",
    "        metrics=['accuracy']\n",
    "    )\n",
    "    \n",
    "    return model"
   ]
  },
  {
   "cell_type": "code",
   "execution_count": 33,
   "id": "b8fea696",
   "metadata": {},
   "outputs": [
    {
     "name": "stdout",
     "output_type": "stream",
     "text": [
      "0.0\n",
      "Epoch 1/30\n",
      "96/96 [==============================] - 16s 139ms/step - loss: 0.9653 - accuracy: 0.6714 - val_loss: 0.6487 - val_accuracy: 0.7977\n",
      "Epoch 2/30\n",
      "96/96 [==============================] - 12s 124ms/step - loss: 0.5065 - accuracy: 0.8256 - val_loss: 0.6701 - val_accuracy: 0.7771\n",
      "Epoch 3/30\n",
      "96/96 [==============================] - 12s 121ms/step - loss: 0.3629 - accuracy: 0.8771 - val_loss: 0.5723 - val_accuracy: 0.8123\n",
      "Epoch 4/30\n",
      "96/96 [==============================] - 12s 121ms/step - loss: 0.2484 - accuracy: 0.9228 - val_loss: 0.5388 - val_accuracy: 0.8240\n",
      "Epoch 5/30\n",
      "96/96 [==============================] - 12s 122ms/step - loss: 0.1719 - accuracy: 0.9557 - val_loss: 0.5910 - val_accuracy: 0.7918\n",
      "Epoch 6/30\n",
      "96/96 [==============================] - 12s 125ms/step - loss: 0.1276 - accuracy: 0.9736 - val_loss: 0.6048 - val_accuracy: 0.8094\n",
      "Epoch 7/30\n",
      "96/96 [==============================] - 12s 121ms/step - loss: 0.0818 - accuracy: 0.9863 - val_loss: 0.6270 - val_accuracy: 0.8094\n",
      "Epoch 8/30\n",
      "96/96 [==============================] - 12s 122ms/step - loss: 0.0596 - accuracy: 0.9928 - val_loss: 0.6057 - val_accuracy: 0.8211\n",
      "Epoch 9/30\n",
      "96/96 [==============================] - 12s 121ms/step - loss: 0.0453 - accuracy: 0.9958 - val_loss: 0.6655 - val_accuracy: 0.7947\n",
      "Epoch 10/30\n",
      "96/96 [==============================] - 12s 120ms/step - loss: 0.0316 - accuracy: 0.9987 - val_loss: 0.6201 - val_accuracy: 0.8270\n",
      "Epoch 11/30\n",
      "96/96 [==============================] - 12s 121ms/step - loss: 0.0205 - accuracy: 0.9993 - val_loss: 0.6409 - val_accuracy: 0.8182\n",
      "Epoch 12/30\n",
      "96/96 [==============================] - 12s 120ms/step - loss: 0.0178 - accuracy: 0.9993 - val_loss: 0.6583 - val_accuracy: 0.8065\n",
      "Epoch 13/30\n",
      "96/96 [==============================] - 12s 122ms/step - loss: 0.0147 - accuracy: 0.9993 - val_loss: 0.6722 - val_accuracy: 0.8094\n",
      "Epoch 14/30\n",
      "96/96 [==============================] - 12s 120ms/step - loss: 0.0155 - accuracy: 0.9990 - val_loss: 0.6805 - val_accuracy: 0.8299\n",
      "Epoch 15/30\n",
      "96/96 [==============================] - 12s 121ms/step - loss: 0.0115 - accuracy: 0.9997 - val_loss: 0.6825 - val_accuracy: 0.8240\n",
      "Epoch 16/30\n",
      "96/96 [==============================] - 12s 121ms/step - loss: 0.0124 - accuracy: 0.9993 - val_loss: 0.6864 - val_accuracy: 0.8299\n",
      "Epoch 17/30\n",
      "96/96 [==============================] - 12s 121ms/step - loss: 0.0140 - accuracy: 0.9987 - val_loss: 0.6951 - val_accuracy: 0.8211\n",
      "Epoch 18/30\n",
      "96/96 [==============================] - 12s 121ms/step - loss: 0.0064 - accuracy: 0.9997 - val_loss: 0.7035 - val_accuracy: 0.8270\n",
      "Epoch 19/30\n",
      "96/96 [==============================] - 12s 120ms/step - loss: 0.0082 - accuracy: 0.9997 - val_loss: 0.7051 - val_accuracy: 0.8211\n",
      "Epoch 20/30\n",
      "96/96 [==============================] - 12s 121ms/step - loss: 0.0062 - accuracy: 0.9997 - val_loss: 0.7131 - val_accuracy: 0.8211\n",
      "Epoch 21/30\n",
      "96/96 [==============================] - 11s 119ms/step - loss: 0.0074 - accuracy: 0.9993 - val_loss: 0.7604 - val_accuracy: 0.8270\n",
      "Epoch 22/30\n",
      "96/96 [==============================] - 12s 124ms/step - loss: 0.0103 - accuracy: 0.9990 - val_loss: 0.7315 - val_accuracy: 0.8328\n",
      "Epoch 23/30\n",
      "96/96 [==============================] - 12s 123ms/step - loss: 0.0042 - accuracy: 0.9997 - val_loss: 0.7707 - val_accuracy: 0.8358\n",
      "Epoch 24/30\n",
      "96/96 [==============================] - 12s 123ms/step - loss: 0.0108 - accuracy: 0.9987 - val_loss: 0.7542 - val_accuracy: 0.8299\n",
      "Epoch 25/30\n",
      "96/96 [==============================] - 12s 123ms/step - loss: 0.0095 - accuracy: 0.9990 - val_loss: 0.7311 - val_accuracy: 0.8240\n",
      "Epoch 26/30\n",
      "96/96 [==============================] - 12s 122ms/step - loss: 0.0079 - accuracy: 0.9993 - val_loss: 0.7621 - val_accuracy: 0.8270\n",
      "Epoch 27/30\n",
      "96/96 [==============================] - 12s 123ms/step - loss: 0.0086 - accuracy: 0.9987 - val_loss: 0.8118 - val_accuracy: 0.8152\n",
      "Epoch 28/30\n",
      "96/96 [==============================] - 12s 123ms/step - loss: 0.0221 - accuracy: 0.9938 - val_loss: 0.8953 - val_accuracy: 0.8240\n",
      "Epoch 29/30\n",
      "96/96 [==============================] - 12s 122ms/step - loss: 0.1837 - accuracy: 0.9426 - val_loss: 0.7529 - val_accuracy: 0.8211\n",
      "Epoch 30/30\n",
      "96/96 [==============================] - 12s 122ms/step - loss: 0.0822 - accuracy: 0.9739 - val_loss: 0.8387 - val_accuracy: 0.7977\n",
      "\n",
      "\n",
      "0.2\n",
      "Epoch 1/30\n",
      "96/96 [==============================] - 15s 130ms/step - loss: 1.0655 - accuracy: 0.6447 - val_loss: 0.6704 - val_accuracy: 0.7742\n",
      "Epoch 2/30\n",
      "96/96 [==============================] - 12s 122ms/step - loss: 0.6174 - accuracy: 0.7849 - val_loss: 0.5562 - val_accuracy: 0.8270\n",
      "Epoch 3/30\n",
      "96/96 [==============================] - 12s 123ms/step - loss: 0.4387 - accuracy: 0.8488 - val_loss: 0.5537 - val_accuracy: 0.7947\n",
      "Epoch 4/30\n",
      "96/96 [==============================] - 12s 124ms/step - loss: 0.3356 - accuracy: 0.8885 - val_loss: 0.5314 - val_accuracy: 0.8182\n",
      "Epoch 5/30\n",
      "96/96 [==============================] - 12s 123ms/step - loss: 0.2656 - accuracy: 0.9153 - val_loss: 0.5605 - val_accuracy: 0.7918\n",
      "Epoch 6/30\n",
      "96/96 [==============================] - 12s 122ms/step - loss: 0.2167 - accuracy: 0.9332 - val_loss: 0.5570 - val_accuracy: 0.8152\n",
      "Epoch 7/30\n",
      "96/96 [==============================] - 12s 123ms/step - loss: 0.1651 - accuracy: 0.9547 - val_loss: 0.5386 - val_accuracy: 0.8328\n",
      "Epoch 8/30\n",
      "96/96 [==============================] - 12s 122ms/step - loss: 0.1289 - accuracy: 0.9674 - val_loss: 0.5367 - val_accuracy: 0.8387\n",
      "Epoch 9/30\n",
      "96/96 [==============================] - 12s 124ms/step - loss: 0.1083 - accuracy: 0.9710 - val_loss: 0.6017 - val_accuracy: 0.8182\n",
      "Epoch 10/30\n",
      "96/96 [==============================] - 12s 124ms/step - loss: 0.0835 - accuracy: 0.9801 - val_loss: 0.5411 - val_accuracy: 0.8358\n",
      "Epoch 11/30\n",
      "96/96 [==============================] - 12s 123ms/step - loss: 0.0736 - accuracy: 0.9844 - val_loss: 0.5740 - val_accuracy: 0.8211\n",
      "Epoch 12/30\n",
      "96/96 [==============================] - 12s 121ms/step - loss: 0.0621 - accuracy: 0.9873 - val_loss: 0.6361 - val_accuracy: 0.8270\n",
      "Epoch 13/30\n",
      "96/96 [==============================] - 12s 122ms/step - loss: 0.0519 - accuracy: 0.9889 - val_loss: 0.6301 - val_accuracy: 0.8211\n",
      "Epoch 14/30\n",
      "96/96 [==============================] - 12s 121ms/step - loss: 0.0464 - accuracy: 0.9919 - val_loss: 0.6027 - val_accuracy: 0.8299\n",
      "Epoch 15/30\n",
      "96/96 [==============================] - 12s 122ms/step - loss: 0.0327 - accuracy: 0.9958 - val_loss: 0.6513 - val_accuracy: 0.8446\n",
      "Epoch 16/30\n",
      "96/96 [==============================] - 12s 123ms/step - loss: 0.0370 - accuracy: 0.9941 - val_loss: 0.6264 - val_accuracy: 0.8240\n",
      "Epoch 17/30\n",
      "96/96 [==============================] - 12s 123ms/step - loss: 0.0327 - accuracy: 0.9935 - val_loss: 0.6674 - val_accuracy: 0.8123\n",
      "Epoch 18/30\n",
      "96/96 [==============================] - 12s 124ms/step - loss: 0.0287 - accuracy: 0.9948 - val_loss: 0.6208 - val_accuracy: 0.8387\n",
      "Epoch 19/30\n",
      "96/96 [==============================] - 12s 124ms/step - loss: 0.0313 - accuracy: 0.9945 - val_loss: 0.7022 - val_accuracy: 0.8182\n",
      "Epoch 20/30\n",
      "96/96 [==============================] - 12s 123ms/step - loss: 0.0275 - accuracy: 0.9941 - val_loss: 0.6763 - val_accuracy: 0.8182\n",
      "Epoch 21/30\n",
      "96/96 [==============================] - 12s 121ms/step - loss: 0.0198 - accuracy: 0.9977 - val_loss: 0.6494 - val_accuracy: 0.8475\n",
      "Epoch 22/30\n",
      "96/96 [==============================] - 12s 123ms/step - loss: 0.0178 - accuracy: 0.9964 - val_loss: 0.6956 - val_accuracy: 0.8270\n",
      "Epoch 23/30\n",
      "96/96 [==============================] - 12s 123ms/step - loss: 0.0226 - accuracy: 0.9954 - val_loss: 0.7703 - val_accuracy: 0.8299\n",
      "Epoch 24/30\n",
      "96/96 [==============================] - 12s 126ms/step - loss: 0.0271 - accuracy: 0.9925 - val_loss: 0.7833 - val_accuracy: 0.8182\n",
      "Epoch 25/30\n",
      "96/96 [==============================] - 12s 124ms/step - loss: 0.0220 - accuracy: 0.9958 - val_loss: 0.7463 - val_accuracy: 0.8270\n",
      "Epoch 26/30\n",
      "96/96 [==============================] - 12s 125ms/step - loss: 0.0157 - accuracy: 0.9971 - val_loss: 0.7803 - val_accuracy: 0.8270\n",
      "Epoch 27/30\n",
      "96/96 [==============================] - 12s 127ms/step - loss: 0.0232 - accuracy: 0.9951 - val_loss: 0.8001 - val_accuracy: 0.8182\n",
      "Epoch 28/30\n",
      "96/96 [==============================] - 12s 124ms/step - loss: 0.0370 - accuracy: 0.9899 - val_loss: 0.8745 - val_accuracy: 0.8182\n",
      "Epoch 29/30\n",
      "96/96 [==============================] - 12s 124ms/step - loss: 0.0275 - accuracy: 0.9928 - val_loss: 0.7221 - val_accuracy: 0.8240\n",
      "Epoch 30/30\n",
      "96/96 [==============================] - 12s 124ms/step - loss: 0.0258 - accuracy: 0.9932 - val_loss: 0.8243 - val_accuracy: 0.8094\n",
      "\n",
      "\n",
      "0.5\n",
      "Epoch 1/30\n",
      "96/96 [==============================] - 15s 135ms/step - loss: 1.2944 - accuracy: 0.5730 - val_loss: 0.7609 - val_accuracy: 0.7625\n",
      "Epoch 2/30\n",
      "96/96 [==============================] - 12s 123ms/step - loss: 0.8276 - accuracy: 0.7161 - val_loss: 0.6517 - val_accuracy: 0.7918\n",
      "Epoch 3/30\n",
      "96/96 [==============================] - 12s 124ms/step - loss: 0.6708 - accuracy: 0.7709 - val_loss: 0.5941 - val_accuracy: 0.8065\n",
      "Epoch 4/30\n",
      "96/96 [==============================] - 12s 124ms/step - loss: 0.5930 - accuracy: 0.7930 - val_loss: 0.5835 - val_accuracy: 0.8065\n",
      "Epoch 5/30\n",
      "96/96 [==============================] - 12s 125ms/step - loss: 0.5147 - accuracy: 0.8198 - val_loss: 0.6223 - val_accuracy: 0.7801\n",
      "Epoch 6/30\n",
      "96/96 [==============================] - 12s 123ms/step - loss: 0.4516 - accuracy: 0.8442 - val_loss: 0.5423 - val_accuracy: 0.8240\n",
      "Epoch 7/30\n",
      "96/96 [==============================] - 12s 123ms/step - loss: 0.4006 - accuracy: 0.8523 - val_loss: 0.5402 - val_accuracy: 0.8123\n",
      "Epoch 8/30\n",
      "96/96 [==============================] - 12s 123ms/step - loss: 0.3542 - accuracy: 0.8807 - val_loss: 0.5275 - val_accuracy: 0.8240\n",
      "Epoch 9/30\n",
      "96/96 [==============================] - 12s 124ms/step - loss: 0.3341 - accuracy: 0.8765 - val_loss: 0.5224 - val_accuracy: 0.8416\n",
      "Epoch 10/30\n",
      "96/96 [==============================] - 12s 124ms/step - loss: 0.2805 - accuracy: 0.9097 - val_loss: 0.5781 - val_accuracy: 0.8094\n",
      "Epoch 11/30\n",
      "96/96 [==============================] - 12s 122ms/step - loss: 0.2540 - accuracy: 0.9120 - val_loss: 0.5527 - val_accuracy: 0.8240\n",
      "Epoch 12/30\n",
      "96/96 [==============================] - 12s 122ms/step - loss: 0.2378 - accuracy: 0.9159 - val_loss: 0.5555 - val_accuracy: 0.8152\n",
      "Epoch 13/30\n",
      "96/96 [==============================] - 12s 122ms/step - loss: 0.2076 - accuracy: 0.9325 - val_loss: 0.5745 - val_accuracy: 0.8240\n",
      "Epoch 14/30\n",
      "96/96 [==============================] - 12s 123ms/step - loss: 0.1900 - accuracy: 0.9384 - val_loss: 0.5356 - val_accuracy: 0.8328\n",
      "Epoch 15/30\n",
      "96/96 [==============================] - 12s 123ms/step - loss: 0.1864 - accuracy: 0.9384 - val_loss: 0.5492 - val_accuracy: 0.8387\n",
      "Epoch 16/30\n",
      "96/96 [==============================] - 12s 122ms/step - loss: 0.1765 - accuracy: 0.9374 - val_loss: 0.5625 - val_accuracy: 0.8358\n",
      "Epoch 17/30\n",
      "96/96 [==============================] - 12s 124ms/step - loss: 0.1534 - accuracy: 0.9492 - val_loss: 0.5809 - val_accuracy: 0.8270\n",
      "Epoch 18/30\n",
      "96/96 [==============================] - 12s 123ms/step - loss: 0.1460 - accuracy: 0.9508 - val_loss: 0.5992 - val_accuracy: 0.8358\n",
      "Epoch 19/30\n",
      "96/96 [==============================] - 12s 125ms/step - loss: 0.1393 - accuracy: 0.9593 - val_loss: 0.5553 - val_accuracy: 0.8446\n",
      "Epoch 20/30\n",
      "96/96 [==============================] - 12s 127ms/step - loss: 0.1119 - accuracy: 0.9671 - val_loss: 0.6685 - val_accuracy: 0.8270\n",
      "Epoch 21/30\n",
      "96/96 [==============================] - 12s 124ms/step - loss: 0.1148 - accuracy: 0.9625 - val_loss: 0.6179 - val_accuracy: 0.8446\n",
      "Epoch 22/30\n",
      "96/96 [==============================] - 12s 125ms/step - loss: 0.1169 - accuracy: 0.9609 - val_loss: 0.6364 - val_accuracy: 0.8446\n",
      "Epoch 23/30\n",
      "96/96 [==============================] - 12s 123ms/step - loss: 0.1145 - accuracy: 0.9609 - val_loss: 0.5943 - val_accuracy: 0.8416\n",
      "Epoch 24/30\n",
      "96/96 [==============================] - 12s 122ms/step - loss: 0.1024 - accuracy: 0.9645 - val_loss: 0.6356 - val_accuracy: 0.8328\n",
      "Epoch 25/30\n",
      "96/96 [==============================] - 12s 122ms/step - loss: 0.1013 - accuracy: 0.9674 - val_loss: 0.6302 - val_accuracy: 0.8563\n",
      "Epoch 26/30\n",
      "96/96 [==============================] - 12s 122ms/step - loss: 0.0920 - accuracy: 0.9716 - val_loss: 0.6792 - val_accuracy: 0.8446\n",
      "Epoch 27/30\n",
      "96/96 [==============================] - 12s 121ms/step - loss: 0.0859 - accuracy: 0.9720 - val_loss: 0.6637 - val_accuracy: 0.8328\n",
      "Epoch 28/30\n",
      "96/96 [==============================] - 12s 121ms/step - loss: 0.0969 - accuracy: 0.9658 - val_loss: 0.6608 - val_accuracy: 0.8504\n",
      "Epoch 29/30\n",
      "96/96 [==============================] - 12s 120ms/step - loss: 0.0834 - accuracy: 0.9694 - val_loss: 0.7121 - val_accuracy: 0.8387\n",
      "Epoch 30/30\n",
      "96/96 [==============================] - 12s 122ms/step - loss: 0.0893 - accuracy: 0.9707 - val_loss: 0.6786 - val_accuracy: 0.8299\n",
      "\n",
      "\n",
      "0.8\n",
      "Epoch 1/30\n",
      "96/96 [==============================] - 15s 131ms/step - loss: 1.8135 - accuracy: 0.3794 - val_loss: 1.1121 - val_accuracy: 0.6628\n",
      "Epoch 2/30\n",
      "96/96 [==============================] - 12s 122ms/step - loss: 1.3928 - accuracy: 0.5143 - val_loss: 1.0004 - val_accuracy: 0.6716\n",
      "Epoch 3/30\n",
      "96/96 [==============================] - 12s 121ms/step - loss: 1.2491 - accuracy: 0.5567 - val_loss: 0.8610 - val_accuracy: 0.7185\n",
      "Epoch 4/30\n",
      "96/96 [==============================] - 12s 121ms/step - loss: 1.1710 - accuracy: 0.5756 - val_loss: 0.7742 - val_accuracy: 0.7625\n",
      "Epoch 5/30\n",
      "96/96 [==============================] - 12s 122ms/step - loss: 1.1155 - accuracy: 0.5984 - val_loss: 0.7360 - val_accuracy: 0.7419\n",
      "Epoch 6/30\n",
      "96/96 [==============================] - 12s 124ms/step - loss: 1.0706 - accuracy: 0.6151 - val_loss: 0.7087 - val_accuracy: 0.7771\n",
      "Epoch 7/30\n",
      "96/96 [==============================] - 12s 121ms/step - loss: 1.0496 - accuracy: 0.6248 - val_loss: 0.7041 - val_accuracy: 0.7889\n",
      "Epoch 8/30\n",
      "96/96 [==============================] - 12s 119ms/step - loss: 0.9917 - accuracy: 0.6362 - val_loss: 0.6623 - val_accuracy: 0.7889\n",
      "Epoch 9/30\n",
      "96/96 [==============================] - 12s 122ms/step - loss: 0.9508 - accuracy: 0.6509 - val_loss: 0.6329 - val_accuracy: 0.8035\n",
      "Epoch 10/30\n",
      "96/96 [==============================] - 12s 122ms/step - loss: 0.9272 - accuracy: 0.6532 - val_loss: 0.6233 - val_accuracy: 0.8035\n",
      "Epoch 11/30\n",
      "96/96 [==============================] - 12s 122ms/step - loss: 0.9058 - accuracy: 0.6698 - val_loss: 0.6453 - val_accuracy: 0.8094\n",
      "Epoch 12/30\n",
      "96/96 [==============================] - 12s 123ms/step - loss: 0.8980 - accuracy: 0.6558 - val_loss: 0.6185 - val_accuracy: 0.7947\n",
      "Epoch 13/30\n",
      "96/96 [==============================] - 12s 120ms/step - loss: 0.8595 - accuracy: 0.6783 - val_loss: 0.6240 - val_accuracy: 0.7977\n",
      "Epoch 14/30\n",
      "96/96 [==============================] - 12s 123ms/step - loss: 0.8565 - accuracy: 0.6776 - val_loss: 0.6116 - val_accuracy: 0.7947\n",
      "Epoch 15/30\n",
      "96/96 [==============================] - 12s 122ms/step - loss: 0.8595 - accuracy: 0.6825 - val_loss: 0.5912 - val_accuracy: 0.7977\n",
      "Epoch 16/30\n",
      "96/96 [==============================] - 12s 126ms/step - loss: 0.8104 - accuracy: 0.6995 - val_loss: 0.6060 - val_accuracy: 0.8240\n",
      "Epoch 17/30\n",
      "96/96 [==============================] - 12s 125ms/step - loss: 0.8068 - accuracy: 0.6946 - val_loss: 0.5950 - val_accuracy: 0.8065\n",
      "Epoch 18/30\n",
      "96/96 [==============================] - 12s 121ms/step - loss: 0.7631 - accuracy: 0.7066 - val_loss: 0.5874 - val_accuracy: 0.8035\n",
      "Epoch 19/30\n",
      "96/96 [==============================] - 12s 120ms/step - loss: 0.7599 - accuracy: 0.7132 - val_loss: 0.5931 - val_accuracy: 0.8182\n",
      "Epoch 20/30\n",
      "96/96 [==============================] - 12s 122ms/step - loss: 0.7394 - accuracy: 0.7083 - val_loss: 0.5902 - val_accuracy: 0.8094\n",
      "Epoch 21/30\n",
      "96/96 [==============================] - 12s 121ms/step - loss: 0.7400 - accuracy: 0.7141 - val_loss: 0.5805 - val_accuracy: 0.8035\n",
      "Epoch 22/30\n",
      "96/96 [==============================] - 12s 121ms/step - loss: 0.7142 - accuracy: 0.7249 - val_loss: 0.5749 - val_accuracy: 0.8270\n",
      "Epoch 23/30\n",
      "96/96 [==============================] - 12s 121ms/step - loss: 0.7025 - accuracy: 0.7324 - val_loss: 0.5843 - val_accuracy: 0.8152\n",
      "Epoch 24/30\n",
      "96/96 [==============================] - 12s 123ms/step - loss: 0.6724 - accuracy: 0.7412 - val_loss: 0.5597 - val_accuracy: 0.8299\n",
      "Epoch 25/30\n",
      "96/96 [==============================] - 12s 124ms/step - loss: 0.6853 - accuracy: 0.7220 - val_loss: 0.5789 - val_accuracy: 0.8240\n",
      "Epoch 26/30\n",
      "96/96 [==============================] - 12s 124ms/step - loss: 0.6687 - accuracy: 0.7399 - val_loss: 0.5815 - val_accuracy: 0.8416\n",
      "Epoch 27/30\n",
      "96/96 [==============================] - 12s 124ms/step - loss: 0.6565 - accuracy: 0.7350 - val_loss: 0.5849 - val_accuracy: 0.8328\n",
      "Epoch 28/30\n",
      "96/96 [==============================] - 12s 126ms/step - loss: 0.6450 - accuracy: 0.7425 - val_loss: 0.5518 - val_accuracy: 0.8299\n",
      "Epoch 29/30\n",
      "96/96 [==============================] - 12s 127ms/step - loss: 0.6509 - accuracy: 0.7438 - val_loss: 0.6207 - val_accuracy: 0.7859\n",
      "Epoch 30/30\n",
      "96/96 [==============================] - 12s 123ms/step - loss: 0.6630 - accuracy: 0.7435 - val_loss: 0.5866 - val_accuracy: 0.8240\n",
      "\n",
      "\n"
     ]
    }
   ],
   "source": [
    "learning_rate = 0.001\n",
    "size = 100\n",
    "\n",
    "scores = {}\n",
    "\n",
    "for droprate in [0.0, 0.2, 0.5, 0.8]:\n",
    "    print(droprate)\n",
    "\n",
    "    model = make_model(\n",
    "        learning_rate=learning_rate,\n",
    "        size_inner=size,\n",
    "        droprate=droprate\n",
    "    )\n",
    "\n",
    "    history = model.fit(train_ds, epochs=30, validation_data=val_ds)\n",
    "    scores[droprate] = history.history\n",
    "\n",
    "    print()\n",
    "    print()"
   ]
  },
  {
   "cell_type": "code",
   "execution_count": 34,
   "id": "4e8ae7d2",
   "metadata": {},
   "outputs": [
    {
     "data": {
      "text/plain": [
       "<matplotlib.legend.Legend at 0x7fd0dd0c15e0>"
      ]
     },
     "execution_count": 34,
     "metadata": {},
     "output_type": "execute_result"
    },
    {
     "data": {
      "image/png": "[encoded data removed]",
      "text/plain": [
       "<Figure size 640x480 with 1 Axes>"
      ]
     },
     "metadata": {},
     "output_type": "display_data"
    }
   ],
   "source": [
    "for droprate, hist in scores.items():\n",
    "    plt.plot(hist['val_accuracy'], label=('val=%s' % droprate))\n",
    "\n",
    "plt.ylim(0.78, 0.86)\n",
    "plt.legend()"
   ]
  },
  {
   "cell_type": "markdown",
   "id": "c4be8a48",
   "metadata": {},
   "source": [
    "### Data augmentation\n",
    "\n",
    "Method of creating additional data from manipulating existing data.\n",
    "\n",
    "(Some) Types of augmentation:\n",
    "- Crop\n",
    "- Flip\n",
    "- Translation\n",
    "- Rotation\n",
    "- Zoom\n",
    "- Contrast\n",
    "- Brightness\n",
    "\n",
    "When choosing augmentations:\n",
    "- Use your own judgement\n",
    "- Examine the dataset and note what kind of variations there are:\n",
    "    - If all of the images are centered: Consider rotations and shifts?\n",
    "- Sensitivity analysis (similar to tuning a hyperparameter)\n",
    "    - Better performance = use. No difference = investigate more. Worse: don't use\n",
    "    \n",
    "    \n",
    " $$\\left(\\textbf{CPU} \\rightarrow \\text{Generates augmentations}\\right) \\Longrightarrow \\left(\\textbf{GPU} \\rightarrow \\text{Fits the model}\\right)$$"
   ]
  },
  {
   "cell_type": "markdown",
   "id": "ea756945",
   "metadata": {},
   "source": [
    "### Training larger models\n",
    "\n",
    "Consider images of size `299x299` instead of `150x150`. Augmentations are more effective when working with larger images as the images are more detailed.\n",
    "\n",
    "Larger image sizes make training models more time consuming, but improve the accuracy considerably."
   ]
  },
  {
   "cell_type": "markdown",
   "metadata": {},
   "source": [
    "### Conclusion\n",
    "\n",
    "- We can use pre-trained models for general image classification\n",
    "- Convolutional layers let us turn an image into a vector\n",
    "- Dense layers use the vector to make the predictions\n",
    "- Instead of training a model from scratch, we can use transfer learning and re-use already trained convolutional layers\n",
    "- First, train a small model (150x150) before training a big one (299x299)\n",
    "- Learning rate - how fast the model trians. Fast learners aren't always best ones\n",
    "- We can save the best model using callbacks and checkpointing\n",
    "- To avoid overfitting, use dropout and augmentation"
   ]
  }
 ],
 "metadata": {
  "kernelspec": {
   "display_name": "saturn (Python 3)",
   "language": "python",
   "name": "python3"
  },
  "language_info": {
   "codemirror_mode": {
    "name": "ipython",
    "version": 3
   },
   "file_extension": ".py",
   "mimetype": "text/x-python",
   "name": "python",
   "nbconvert_exporter": "python",
   "pygments_lexer": "ipython3",
   "version": "3.9.17"
  }
 },
 "nbformat": 4,
 "nbformat_minor": 5
}
