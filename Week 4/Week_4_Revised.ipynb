{
 "cells": [
  {
   "cell_type": "raw",
   "metadata": {},
   "source": [
    "--- \n",
    "format:\n",
    "    html:\n",
    "        embed-resources: true\n",
    "        theme:\n",
    "            light: default\n",
    "            dark: [default, theme-dark.scss]\n",
    "        highlight-style: atom-one        \n",
    "---"
   ]
  },
  {
   "cell_type": "markdown",
   "metadata": {},
   "source": [
    "### Evaluation Metrics\n",
    "\n",
    "There are several circumstances when accuracy (percentage of correct binary classifications) is not a suitable metric for evaluating a model. The 'ml-zoomcamp - week 3 - churn prediction' project is an example of such. Hence, let us first define a churn prediction model and demonstrate that accuracy is not representative of the model's effectiveness."
   ]
  },
  {
   "cell_type": "code",
   "execution_count": 3,
   "metadata": {},
   "outputs": [],
   "source": [
    "# Importing libraries\n",
    "\n",
    "# Data manipulation\n",
    "import pandas as pd\n",
    "import numpy as np\n",
    "\n",
    "# Data visualisation\n",
    "import seaborn as sns\n",
    "import matplotlib.pyplot as plt\n",
    "\n",
    "# Binary classification model\n",
    "from sklearn.model_selection import train_test_split\n",
    "from sklearn.feature_extraction import DictVectorizer\n",
    "from sklearn.linear_model import LogisticRegression"
   ]
  },
  {
   "cell_type": "code",
   "execution_count": 4,
   "metadata": {},
   "outputs": [],
   "source": [
    "## Scikit-learn packages ##\n",
    "\n",
    "# Validation framework\n",
    "from sklearn.model_selection import train_test_split\n",
    "# Feature matrix formatter (dictionary vectoriser)\n",
    "from sklearn.feature_extraction import DictVectorizer\n",
    "# Logistic regression (sigmoid ver. linear regression)\n",
    "from sklearn.linear_model import LogisticRegression"
   ]
  },
  {
   "cell_type": "code",
   "execution_count": 5,
   "metadata": {},
   "outputs": [],
   "source": [
    "# Importing the data\n",
    "df = pd.read_csv(r'..\\Week 3\\telco-customer-churn\\WA_Fn-UseC_-Telco-Customer-Churn.csv')\n",
    "\n",
    "# Cleaning column names\n",
    "df.columns = df.columns.str.lower().str.replace(' ', '_')\n",
    "\n",
    "# Storing categorical variables\n",
    "categorical_columns = list(df.dtypes[df.dtypes == 'object'].index)\n",
    "\n",
    "# Cleaning contents of categorical series\n",
    "for c in categorical_columns:\n",
    "    df[c] = df[c].str.lower().str.replace(' ', '_')\n",
    "\n",
    "# Parsing totalcharges as numeric (falsely parsed as an object)\n",
    "df.totalcharges = pd.to_numeric(df.totalcharges, errors='coerce')\n",
    "df.totalcharges = df.totalcharges.fillna(0)\n",
    "\n",
    "# Converting .churn yes/no outcomes to binary (1/0)\n",
    "df.churn = (df.churn == 'yes').astype(int)"
   ]
  },
  {
   "cell_type": "code",
   "execution_count": 6,
   "metadata": {},
   "outputs": [],
   "source": [
    "# Establishing validation framework using sklearn\n",
    "df_full_train, df_test = train_test_split(df, test_size=0.2, random_state=1)\n",
    "df_train, df_val = train_test_split(df_full_train, test_size=0.25, random_state=1)\n",
    "\n",
    "# Defining feature matrices\n",
    "df_train = df_train.reset_index(drop=True)\n",
    "df_val = df_val.reset_index(drop=True)\n",
    "df_test = df_test.reset_index(drop=True)\n",
    "\n",
    "# Defining target-vector\n",
    "y_train = df_train.churn.values\n",
    "y_val = df_val.churn.values\n",
    "y_test = df_test.churn.values\n",
    "\n",
    "# Removing target variable from feature matrices\n",
    "del df_train['churn']\n",
    "del df_val['churn']\n",
    "del df_test['churn']"
   ]
  },
  {
   "cell_type": "code",
   "execution_count": 7,
   "metadata": {},
   "outputs": [],
   "source": [
    "# Numerical series\n",
    "numerical = ['tenure', 'monthlycharges', 'totalcharges']\n",
    "\n",
    "# Categorical series\n",
    "categorical = [\n",
    "    'gender',\n",
    "    'seniorcitizen',\n",
    "    'partner',\n",
    "    'dependents',\n",
    "    'phoneservice',\n",
    "    'multiplelines',\n",
    "    'internetservice',\n",
    "    'onlinesecurity',\n",
    "    'onlinebackup',\n",
    "    'deviceprotection',\n",
    "    'techsupport',\n",
    "    'streamingtv',\n",
    "    'streamingmovies',\n",
    "    'contract',\n",
    "    'paperlessbilling',\n",
    "    'paymentmethod',\n",
    "]"
   ]
  },
  {
   "cell_type": "code",
   "execution_count": 8,
   "metadata": {},
   "outputs": [],
   "source": [
    "%%capture\n",
    "\n",
    "# Initialising sklearn dictionary vectoriser (sparse matrix == False)\n",
    "dv = DictVectorizer(sparse=False)\n",
    "\n",
    "# Creating dictionary of training features\n",
    "train_dict = df_train[categorical + numerical].to_dict(orient='records')\n",
    "\n",
    "# Transforming dictionary to formatted feature matrix using DictVectoriser\n",
    "X_train = dv.fit_transform(train_dict)\n",
    "\n",
    "# Initialising logistic regression model using sklearn\n",
    "model = LogisticRegression()\n",
    "\n",
    "# Training model on train split\n",
    "model.fit(X_train, y_train)"
   ]
  },
  {
   "cell_type": "code",
   "execution_count": 9,
   "metadata": {},
   "outputs": [
    {
     "data": {
      "text/plain": [
       "0.803"
      ]
     },
     "execution_count": 9,
     "metadata": {},
     "output_type": "execute_result"
    }
   ],
   "source": [
    "val_dict = df_val[categorical + numerical].to_dict(orient='records')\n",
    "\n",
    "X_val = dv.transform(val_dict)\n",
    "\n",
    "# Obtaining probabilistic predictions for validation split\n",
    "y_pred = model.predict_proba(X_val)[:, 1]\n",
    "\n",
    "# Classifying predictions based on a threshold\n",
    "threshold = 0.5 \n",
    "churn_decision = (y_pred >= threshold)\n",
    "\n",
    "# Calculating model accuracy\n",
    "round((y_val == churn_decision).mean(),3)"
   ]
  },
  {
   "cell_type": "markdown",
   "metadata": {},
   "source": [
    "The model in question outputs a fairly high accuracy of 80.3%. We can first investigate how this accuracy value might vary with changes to the classification threshold."
   ]
  },
  {
   "cell_type": "markdown",
   "metadata": {},
   "source": [
    "### Varying Classification Threshold"
   ]
  },
  {
   "cell_type": "code",
   "execution_count": 158,
   "metadata": {},
   "outputs": [
    {
     "name": "stdout",
     "output_type": "stream",
     "text": [
      "Optimum threshold: 0.505 Max accuracy: 0.817\n"
     ]
    },
    {
     "data": {
      "image/png": "[encoded data removed]",
      "text/plain": [
       "<Figure size 600x600 with 1 Axes>"
      ]
     },
     "metadata": {},
     "output_type": "display_data"
    }
   ],
   "source": [
    "# Evenly-spaced vector\n",
    "threshold = np.linspace(0,1,1001)\n",
    "\n",
    "results = {}\n",
    "\n",
    "# Looping through different threshold values\n",
    "for t in threshold:\n",
    "\n",
    "    churn_decision = (y_pred >= t)\n",
    "\n",
    "    results[t] = (y_val == churn_decision).mean()\n",
    "\n",
    "# Optimum threshold and accuracy\n",
    "print('Optimum threshold: {0} Max accuracy: {1}'.format(\n",
    "    max(results, key=results.get), round(results[max(results, key=results.get)],3)\n",
    "    ))\n",
    "\n",
    "# Visualising results\n",
    "\n",
    "x, y = zip(*results.items())\n",
    "\n",
    "plt.figure(figsize=(4,4), dpi=150)\n",
    "sns.set_style('darkgrid')\n",
    "sns.lineplot(x=x, y=y); "
   ]
  },
  {
   "cell_type": "code",
   "execution_count": 11,
   "metadata": {},
   "outputs": [
    {
     "name": "stdout",
     "output_type": "stream",
     "text": [
      "Threshold: 0.0 Accuracy: 0.274\n",
      "Threshold: 1.0 Accuracy: 0.726\n"
     ]
    }
   ],
   "source": [
    "# Thresholds of interest\n",
    "print('Threshold: {0} Accuracy: {1}'.format(0.00, round(results[0],3)))\n",
    "print('Threshold: {0} Accuracy: {1}'.format(1.00, round(results[1],3)))"
   ]
  },
  {
   "cell_type": "markdown",
   "metadata": {},
   "source": [
    "Results of varying the classification threshold reveal that a threshold of 0.515 yields the highest accuracy. However, from our lineplot we notice an imbalance in the dataset, namely the difference in accuracy between 0.00 and 1.00 thresholds.\n",
    "\n",
    "Threshold = 1.00 having an accuracy of 72.6% means that if we were to predict none of our customers to churn then our model would have 72.6% accuracy. This clearly demonstrates that our sample dataset contains an imbalanced amount of churning and non-churning users.\n",
    "\n",
    "So, whilst our model might be ~80% accurate on the sample data we have no idea of knowing how the model will perform on more-balanced data. This calls for additional evaluation metrics."
   ]
  },
  {
   "cell_type": "markdown",
   "metadata": {},
   "source": [
    "### Confusion Matrix"
   ]
  },
  {
   "cell_type": "markdown",
   "metadata": {},
   "source": [
    "![title](Confusion_Matrix.png)"
   ]
  },
  {
   "cell_type": "markdown",
   "metadata": {},
   "source": [
    "A confusion table/matrix allows us to classify model outputs into the following:\n",
    "\n",
    "- True positive\n",
    "- False positive\n",
    "- False negative\n",
    "- True negative\n",
    "\n",
    "These classifications enable us to define two particular metrics:\n",
    "\n",
    "1. Precision\n",
    "2. Recall"
   ]
  },
  {
   "cell_type": "markdown",
   "metadata": {},
   "source": [
    "### Precision\n",
    "\n",
    "$$\\text{Precision} = \\frac{TP}{TP + FP}$$\n",
    "\n",
    "The fraction of positive predictions which are accurate\n",
    "\n",
    "Example: A precision of 0.6 would suggest that, out of all of the users predicted to churn, 60% churned"
   ]
  },
  {
   "cell_type": "markdown",
   "metadata": {},
   "source": [
    "### Recall\n",
    "\n",
    "$$\\text{Recall} = \\frac{TP}{TP + FN}$$\n",
    "\n",
    "The fraction of positive outcomes predicted correctly\n",
    "\n",
    "Example: A recall of 0.4 would suggest that, out of all of the users who churned, 40% were predicted as churning"
   ]
  },
  {
   "cell_type": "markdown",
   "metadata": {},
   "source": [
    "Having defined precision and recall, we can calculate both metrics for our model"
   ]
  },
  {
   "cell_type": "markdown",
   "metadata": {},
   "source": [
    "### Calculating Metrics"
   ]
  },
  {
   "cell_type": "code",
   "execution_count": 12,
   "metadata": {},
   "outputs": [],
   "source": [
    "def get_metrics(y_val, y_pred, t):\n",
    "\n",
    "    # Dataset outcomes\n",
    "    actual_pos = (y_val == 1)\n",
    "    actual_neg = (y_val == 0)\n",
    "    \n",
    "    # Predicted outcomes\n",
    "    pred_pos = (y_pred >= t)\n",
    "    pred_neg = (y_pred  < t)\n",
    "\n",
    "    # Classifying outcomes\n",
    "    tp = (actual_pos & pred_pos).sum()\n",
    "    fp = (actual_neg & pred_pos).sum()\n",
    "    fn = (actual_pos & pred_neg).sum()\n",
    "    tn = (actual_neg & pred_neg).sum()\n",
    "\n",
    "    # Calculating metrics\n",
    "    precision = tp / (tp + fp)\n",
    "    recall = tp / (tp + fn)\n",
    "\n",
    "    return precision, recall"
   ]
  },
  {
   "cell_type": "code",
   "execution_count": 13,
   "metadata": {},
   "outputs": [
    {
     "data": {
      "text/plain": [
       "(0.675, 0.544)"
      ]
     },
     "execution_count": 13,
     "metadata": {},
     "output_type": "execute_result"
    }
   ],
   "source": [
    "precision, recall = get_metrics(y_val, y_pred, 0.5)\n",
    "\n",
    "round(precision,3), round(recall,3)"
   ]
  },
  {
   "cell_type": "markdown",
   "metadata": {},
   "source": [
    "Our model has a precision score of 67.5% and a recall of 54.5%, which can be interpreted as our model making accurate positive predictions 67.5% of the time and accurately identifying 54.5% of total churn users, respectively. Neither of these scores are particularly impressive, and thus stress the importance of using additional metrics to evaluate models, which according to accuracy, are well-performing."
   ]
  },
  {
   "cell_type": "markdown",
   "metadata": {},
   "source": [
    "### Receiver Operating Characteristics (ROC) Curves\n",
    "\n",
    "Additional means to evaluating models based on True Positive Rate (TPR) and False Positive Rate (FPR), both of which can be computed using the confusion matrix."
   ]
  },
  {
   "cell_type": "markdown",
   "metadata": {},
   "source": [
    "### True Positive Rate\n",
    "\n",
    "$$\\text{True Positive Rate} = \\frac{TP}{TP + FN} = \\text{Recall}$$\n",
    "\n",
    "Fraction of true positives amongst all positive cases (same as recall)"
   ]
  },
  {
   "cell_type": "markdown",
   "metadata": {},
   "source": [
    "### False Positive Rate\n",
    "\n",
    "$$\\text{False Positive Rate} = \\frac{FP}{TN + FP}$$\n",
    "\n",
    "Fraction of false positives amongst all negative cases"
   ]
  },
  {
   "cell_type": "markdown",
   "metadata": {},
   "source": [
    "### Calculating TPR and FPR"
   ]
  },
  {
   "cell_type": "markdown",
   "metadata": {},
   "source": [
    "Let us append two lines to our get_metrics function to calculate TPR and FPR."
   ]
  },
  {
   "cell_type": "code",
   "execution_count": 14,
   "metadata": {},
   "outputs": [],
   "source": [
    "def get_metrics(y_val, y_pred, t):\n",
    "\n",
    "    # Dataset outcomes\n",
    "    actual_pos = (y_val == 1)\n",
    "    actual_neg = (y_val == 0)\n",
    "    \n",
    "    # Predicted outcomes\n",
    "    pred_pos = (y_pred >= t)\n",
    "    pred_neg = (y_pred  < t)\n",
    "\n",
    "    # Classifying outcomes\n",
    "    tp = (actual_pos & pred_pos).sum()\n",
    "    fp = (actual_neg & pred_pos).sum()\n",
    "    fn = (actual_pos & pred_neg).sum()\n",
    "    tn = (actual_neg & pred_neg).sum()\n",
    "\n",
    "    # Calculating metrics\n",
    "    precision = tp / (tp + fp)\n",
    "    recall = tp / (tp + fn)\n",
    "\n",
    "    tpr = recall\n",
    "    fpr = fp / (fp + tn)\n",
    "\n",
    "    return precision, recall, tpr, fpr"
   ]
  },
  {
   "cell_type": "code",
   "execution_count": 15,
   "metadata": {},
   "outputs": [
    {
     "data": {
      "text/plain": [
       "(0.675, 0.544, 0.544, 0.099)"
      ]
     },
     "execution_count": 15,
     "metadata": {},
     "output_type": "execute_result"
    }
   ],
   "source": [
    "precision, recall, tpr, fpr = get_metrics(y_val, y_pred, 0.5)\n",
    "\n",
    "round(precision,3), round(recall,3), round(tpr, 3), round(fpr, 3)"
   ]
  },
  {
   "cell_type": "markdown",
   "metadata": {},
   "source": [
    "Alternatively, we can use scikit-learn to calculate the true and false positive rates."
   ]
  },
  {
   "cell_type": "code",
   "execution_count": 72,
   "metadata": {},
   "outputs": [
    {
     "data": {
      "text/plain": [
       "(0.544, 0.101)"
      ]
     },
     "execution_count": 72,
     "metadata": {},
     "output_type": "execute_result"
    }
   ],
   "source": [
    "from sklearn.metrics import roc_curve\n",
    "\n",
    "# Computing components for plotting ROC curves\n",
    "fpr, tpr, t = roc_curve(y_val, y_pred)\n",
    "\n",
    "t_index = min(range(len(t)), key=lambda i: abs(t[i] - 0.5))\n",
    "\n",
    "round(tpr[t_index], 3), round(fpr[t_index], 3)"
   ]
  },
  {
   "cell_type": "markdown",
   "metadata": {},
   "source": [
    "### Plotting ROC Curve"
   ]
  },
  {
   "cell_type": "code",
   "execution_count": 159,
   "metadata": {},
   "outputs": [
    {
     "data": {
      "text/plain": [
       "Text(0.5, 1.0, 'ROC Curve')"
      ]
     },
     "execution_count": 159,
     "metadata": {},
     "output_type": "execute_result"
    },
    {
     "data": {
      "image/png": "[encoded data removed]",
      "text/plain": [
       "<Figure size 600x600 with 1 Axes>"
      ]
     },
     "metadata": {},
     "output_type": "display_data"
    }
   ],
   "source": [
    "# Figure customisation\n",
    "plt.figure(figsize=(4,4), dpi=150)\n",
    "\n",
    "# Plotting model ROC curve \n",
    "plt.plot(fpr,tpr, label='Model')\n",
    "\n",
    "# Plotting random model (baseline) ROC curve\n",
    "plt.plot([0,1], linestyle='dashed', label='Random', color='r')\n",
    "\n",
    "# Plotting perfect model (ideal) ROC curve\n",
    "plt.plot([0,1], [1,1], color='#FF8C00', linestyle='dotted', label='Perfect')\n",
    "plt.plot([0,0], [0,1], color='#FF8C00', linestyle='dotted')\n",
    "\n",
    "plt.plot(0,1, marker='o', color='#FF8C00',)\n",
    "\n",
    "plt.legend()\n",
    "\n",
    "# Axis labels\n",
    "plt.xlabel('False Positive Rate'); plt.ylabel('True Positive Rate'); plt.title('ROC Curve')"
   ]
  },
  {
   "cell_type": "markdown",
   "metadata": {},
   "source": [
    "Ideal and random models are useful benchmarks for desirable behaviour, with the ideal model representing a perfect classifier and the random model being no better than flipping a coin or guessing. The closer our model's curve to the perfect model the better and vice versa with the random model.\n",
    "\n",
    "Based off of the ROC curve in the figure above, we may evaluate our model as being good, but nothing special (lots of room for improvement)."
   ]
  },
  {
   "cell_type": "markdown",
   "metadata": {},
   "source": [
    "### ROC Area Under Curve (AUC)\n",
    "\n",
    "Plotting and visualising the true and false positive rates is a useful means of evalating our model's effectiveness. That said, it can be difficult to quantify the model's success from inspection alone. By calculating the area under our model's ROC curve we can put a number to our model's effectiveness; thus, evaluating it effectively.\n",
    "\n",
    "With the ideal model having an AUC of 1 and the random model 0.5, we expect models to have an ROC AUC between 0.5 and 1.\n",
    "\n",
    "$$\\frac{1}{2} \\leq (\\text{AUC}) \\leq 1$$\n",
    "\n",
    "Calculating AUC is trivial using scikit-learn:"
   ]
  },
  {
   "cell_type": "code",
   "execution_count": 75,
   "metadata": {},
   "outputs": [
    {
     "data": {
      "text/plain": [
       "0.8438251814484473"
      ]
     },
     "execution_count": 75,
     "metadata": {},
     "output_type": "execute_result"
    }
   ],
   "source": [
    "from sklearn.metrics import roc_auc_score\n",
    "\n",
    "roc_auc_score(y_val, y_pred)"
   ]
  },
  {
   "cell_type": "markdown",
   "metadata": {},
   "source": [
    "Our binary classification model has an AUC of 0.84, which is certainly closer to 1 than 0.5 but could be a lot closer.\n",
    "\n",
    "AUC scores can also be interpreted as follows:\n",
    "\n",
    "\"Given a randomly selected positive (user predicted to churn) and negative entry (user predicted to not churn), the AUC score is precisely the probability that the positive example will have a higher score than the negative example\".\n",
    "\n",
    "$$\\text{AUC} = P( (\\text{Positive Entry Score}) > \\text{(Negative Entry Score)} )$$"
   ]
  },
  {
   "cell_type": "markdown",
   "metadata": {},
   "source": [
    "### K-Fold Cross Validation\n",
    "\n",
    "Now that we have defined metrics to evaluate our model we want to be sure that the metrics are not skewed by our validation framework. By cross validating we can improve our confidence in our results.\n",
    "\n",
    "K-Fold cross validation essentially involves splitting our full train (initial training + validation splits) set into K subsets (folds) and evaluating the model K times, with each iteration using K-1 subsets for training and 1 subset of validation.  "
   ]
  },
  {
   "cell_type": "markdown",
   "metadata": {},
   "source": [
    "![title](K-Folds%20diagram.png)"
   ]
  },
  {
   "cell_type": "markdown",
   "metadata": {},
   "source": [
    "Outline:\n",
    "\n",
    "1. Define function for training model\n",
    "2. Define function for predicted results\n",
    "3. Create Kfold object\n",
    "4. Iterate K folds"
   ]
  },
  {
   "cell_type": "code",
   "execution_count": 101,
   "metadata": {},
   "outputs": [],
   "source": [
    "# Model for training classifier model\n",
    "def train(df_train, y_train, C=1.0):\n",
    "\n",
    "    # Initialising sklearn dictionary vectoriser (sparse matrix == False)\n",
    "    dv = DictVectorizer(sparse=False)\n",
    "\n",
    "    # Creating dictionary of training features\n",
    "    dicts = df_train[categorical + numerical].to_dict(orient='records')\n",
    "\n",
    "    # Transforming dictionary to formatted feature matrix using DictVectoriser\n",
    "    X_train = dv.fit_transform(dicts)\n",
    "\n",
    "    # Initialising logistic regression model using sklearn\n",
    "    model = LogisticRegression(C=C, max_iter=1000)\n",
    "\n",
    "    # Training model on train split\n",
    "    model.fit(X_train, y_train)\n",
    "\n",
    "    return dv, model"
   ]
  },
  {
   "cell_type": "code",
   "execution_count": 102,
   "metadata": {},
   "outputs": [],
   "source": [
    "dv, model = train(df_train, y_train, 0.001)"
   ]
  },
  {
   "cell_type": "code",
   "execution_count": 104,
   "metadata": {},
   "outputs": [],
   "source": [
    "# Function for making generating model predictions\n",
    "def predict(df, dv, model):\n",
    "    \n",
    "    # Creating dictionary of training features\n",
    "    dicts = df[categorical + numerical].to_dict(orient='records')\n",
    "    \n",
    "    # Transforming dictionary to formatted feature matrix using DictVectoriser\n",
    "    X = dv.transform(dicts)\n",
    "\n",
    "    # Obtaining probabilistic predictions for validation split\n",
    "    y_pred = model.predict_proba(X)[:,1]\n",
    "\n",
    "    return y_pred"
   ]
  },
  {
   "cell_type": "code",
   "execution_count": 105,
   "metadata": {},
   "outputs": [],
   "source": [
    "y_pred = predict(df_val, dv, model)"
   ]
  },
  {
   "cell_type": "markdown",
   "metadata": {},
   "source": [
    "After writing functions to train binary classification models and make predictions using them we can use KFold from scikit-learn to easily generate K-Fold validation sets. "
   ]
  },
  {
   "cell_type": "code",
   "execution_count": 96,
   "metadata": {},
   "outputs": [],
   "source": [
    "from sklearn.model_selection import KFold"
   ]
  },
  {
   "cell_type": "code",
   "execution_count": 138,
   "metadata": {},
   "outputs": [
    {
     "name": "stdout",
     "output_type": "stream",
     "text": [
      "Mean AUC: 0.840\n",
      "STD: 0.013\n"
     ]
    }
   ],
   "source": [
    "# Generating indices for 10 shuffled splits\n",
    "kfold = KFold(n_splits=10, shuffle=True, random_state=1)\n",
    "\n",
    "# Empty array to store scores\n",
    "scores = []\n",
    "\n",
    "# Indices for train and validation parts\n",
    "for train_idx, val_idx in kfold.split(df_full_train):\n",
    "\n",
    "    df_train = df_full_train.iloc[train_idx]\n",
    "    df_val = df_full_train.iloc[val_idx]\n",
    "\n",
    "    y_train = df_train.churn.values\n",
    "    y_val = df_val.churn.values\n",
    "\n",
    "    dv, model = train(df_train, y_train)\n",
    "    y_pred = predict(df_val, dv, model)\n",
    "\n",
    "    auc = roc_auc_score(y_val, y_pred)\n",
    "    scores.append(auc)\n",
    "\n",
    "print('Mean AUC: {0:.3f}\\nSTD: {1:.3f}'.format(np.mean(scores),np.std(scores)))"
   ]
  },
  {
   "cell_type": "markdown",
   "metadata": {},
   "source": [
    "Running a 10-fold cross validation yields a mean AUC of 0.84 and a standard deviation of 0.013. This is a good score because it aligns with our original AUC estimation and implies consistency."
   ]
  },
  {
   "cell_type": "code",
   "execution_count": 139,
   "metadata": {},
   "outputs": [],
   "source": [
    "# Function for monitoring progress\n",
    "from tqdm.auto import tqdm"
   ]
  },
  {
   "cell_type": "markdown",
   "metadata": {},
   "source": [
    "### Parameter Tuning"
   ]
  },
  {
   "cell_type": "markdown",
   "metadata": {},
   "source": [
    "With a means of validating our model, we can now investigate how model performance is influenced by varied parameters. Analysis enables us to optimise our model before evaluating on the final test set. For the binary classification model we can vary C, a hyperparameter describing regularization. Varying C alters the weightings assigned to the training data and can increasing the chance of overfitting if used innapropriately."
   ]
  },
  {
   "cell_type": "code",
   "execution_count": 156,
   "metadata": {},
   "outputs": [
    {
     "data": {
      "application/vnd.jupyter.widget-view+json": {
       "model_id": "f3078aa1fb134c4293c845b49f97bb07",
       "version_major": 2,
       "version_minor": 0
      },
      "text/plain": [
       "  0%|          | 0/8 [00:00<?, ?it/s]"
      ]
     },
     "metadata": {},
     "output_type": "display_data"
    },
    {
     "name": "stdout",
     "output_type": "stream",
     "text": [
      "C: 1e-05  Mean: 0.8038 STD: 0.0131\n",
      "C: 0.001  Mean: 0.8263 STD: 0.0124\n",
      "C: 0.01   Mean: 0.8404 STD: 0.0122\n",
      "C: 0.1    Mean: 0.8406 STD: 0.0118\n",
      "C: 0.5    Mean: 0.8412 STD: 0.0112\n",
      "C: 1      Mean: 0.8404 STD: 0.0127\n",
      "C: 5      Mean: 0.8413 STD: 0.0120\n",
      "C: 10     Mean: 0.8413 STD: 0.0119\n"
     ]
    }
   ],
   "source": [
    "# Varying regularization stength\n",
    "for C in tqdm([0.00001, 0.001, 0.01, 0.1, 0.5, 1, 5, 10]):\n",
    "\n",
    "    # Generating indices for 10 shuffled splits\n",
    "    kfold = KFold(n_splits=10, shuffle=True, random_state=1)\n",
    "\n",
    "    # Empty array to store scores\n",
    "    scores = []\n",
    "\n",
    "    # Indices for train and validation parts\n",
    "    for train_idx, val_idx in kfold.split(df_full_train):\n",
    "\n",
    "        df_train = df_full_train.iloc[train_idx]\n",
    "        df_val = df_full_train.iloc[val_idx]\n",
    "\n",
    "        y_train = df_train.churn.values\n",
    "        y_val = df_val.churn.values\n",
    "\n",
    "        dv, model = train(df_train, y_train, C)\n",
    "        y_pred = predict(df_val, dv, model)\n",
    "\n",
    "        auc = roc_auc_score(y_val, y_pred)\n",
    "        scores.append(auc)\n",
    "\n",
    "    print('C: {0:<6} Mean: {1:.4f} STD: {2:.4f}'.format(C, np.mean(scores),np.std(scores)))"
   ]
  },
  {
   "cell_type": "markdown",
   "metadata": {},
   "source": [
    "Varying the regularization strength reveals a general consistency across values, with AUC falling down with exponentially smaller values (e.g.: C = 1e-05). Interestingly, there is not much variation from the default value of C = 1.0."
   ]
  },
  {
   "cell_type": "markdown",
   "metadata": {},
   "source": [
    "### Training Final Model"
   ]
  },
  {
   "cell_type": "markdown",
   "metadata": {},
   "source": [
    "Now that we have trialed several different regularization parameters, we can choose the optimal value and train our model on the full training set, followed by evaluation on the test set. "
   ]
  },
  {
   "cell_type": "code",
   "execution_count": 153,
   "metadata": {},
   "outputs": [
    {
     "data": {
      "text/plain": [
       "0.8572386167896259"
      ]
     },
     "execution_count": 153,
     "metadata": {},
     "output_type": "execute_result"
    }
   ],
   "source": [
    "dv, model = train(df_full_train, df_full_train.churn.values, C=1.0)\n",
    "y_pred = predict(df_test, dv, model)\n",
    "\n",
    "auc = roc_auc_score(y_test, y_pred)\n",
    "auc"
   ]
  },
  {
   "cell_type": "markdown",
   "metadata": {},
   "source": [
    "Interestingly, the model performs better (not by much) on the test set which is a nice bonus. This situation is comparable to performing better on a private Kaggle leaderboard than the public one (not unheard of)."
   ]
  },
  {
   "cell_type": "markdown",
   "metadata": {},
   "source": [
    "This concludes our exploration of evaluation metrics. We have discussed why additional metrics are important and demonstrated the implementation of several different types/methods."
   ]
  }
 ],
 "metadata": {
  "kernelspec": {
   "display_name": "ml-zoomcamp-2023",
   "language": "python",
   "name": "python3"
  },
  "language_info": {
   "codemirror_mode": {
    "name": "ipython",
    "version": 3
   },
   "file_extension": ".py",
   "mimetype": "text/x-python",
   "name": "python",
   "nbconvert_exporter": "python",
   "pygments_lexer": "ipython3",
   "version": "3.9.17"
  }
 },
 "nbformat": 4,
 "nbformat_minor": 2
}
