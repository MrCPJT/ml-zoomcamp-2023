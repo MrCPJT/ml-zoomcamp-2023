{
 "cells": [
  {
   "cell_type": "markdown",
   "metadata": {},
   "source": [
    "\n",
    "# Homework Week 2\n",
    "\n",
    "## ml-zoomcamp 2023 cohort\n",
    "\n",
    "<hr>"
   ]
  },
  {
   "cell_type": "code",
   "execution_count": 1,
   "metadata": {},
   "outputs": [],
   "source": [
    "# Importing libraries\n",
    "\n",
    "# Handling data\n",
    "import numpy as np\n",
    "import pandas as pd\n",
    "\n",
    "# Visualising data\n",
    "import seaborn as sns\n",
    "import matplotlib as plt\n",
    "\n",
    "# Getting data\n",
    "import wget"
   ]
  },
  {
   "cell_type": "code",
   "execution_count": 3,
   "metadata": {},
   "outputs": [
    {
     "data": {
      "text/plain": [
       "'housing (1).csv'"
      ]
     },
     "execution_count": 3,
     "metadata": {},
     "output_type": "execute_result"
    }
   ],
   "source": [
    "# Retrieving the data\n",
    "wget.download(url=\"https://raw.githubusercontent.com/alexeygrigorev/datasets/master/housing.csv\")"
   ]
  },
  {
   "cell_type": "code",
   "execution_count": 18,
   "metadata": {},
   "outputs": [
    {
     "data": {
      "text/plain": [
       "(20640, 10)"
      ]
     },
     "execution_count": 18,
     "metadata": {},
     "output_type": "execute_result"
    }
   ],
   "source": [
    "# Read the data\n",
    "df = pd.read_csv('housing.csv')\n",
    "df.shape"
   ]
  },
  {
   "cell_type": "code",
   "execution_count": 17,
   "metadata": {},
   "outputs": [
    {
     "data": {
      "text/html": [
       "<div>\n",
       "<style scoped>\n",
       "    .dataframe tbody tr th:only-of-type {\n",
       "        vertical-align: middle;\n",
       "    }\n",
       "\n",
       "    .dataframe tbody tr th {\n",
       "        vertical-align: top;\n",
       "    }\n",
       "\n",
       "    .dataframe thead th {\n",
       "        text-align: right;\n",
       "    }\n",
       "</style>\n",
       "<table border=\"1\" class=\"dataframe\">\n",
       "  <thead>\n",
       "    <tr style=\"text-align: right;\">\n",
       "      <th></th>\n",
       "      <th>longitude</th>\n",
       "      <th>latitude</th>\n",
       "      <th>housing_median_age</th>\n",
       "      <th>total_rooms</th>\n",
       "      <th>total_bedrooms</th>\n",
       "      <th>population</th>\n",
       "      <th>households</th>\n",
       "      <th>median_income</th>\n",
       "      <th>median_house_value</th>\n",
       "      <th>ocean_proximity</th>\n",
       "    </tr>\n",
       "  </thead>\n",
       "  <tbody>\n",
       "    <tr>\n",
       "      <th>0</th>\n",
       "      <td>-122.23</td>\n",
       "      <td>37.88</td>\n",
       "      <td>41.0</td>\n",
       "      <td>880.0</td>\n",
       "      <td>129.0</td>\n",
       "      <td>322.0</td>\n",
       "      <td>126.0</td>\n",
       "      <td>8.3252</td>\n",
       "      <td>452600.0</td>\n",
       "      <td>NEAR BAY</td>\n",
       "    </tr>\n",
       "    <tr>\n",
       "      <th>1</th>\n",
       "      <td>-122.22</td>\n",
       "      <td>37.86</td>\n",
       "      <td>21.0</td>\n",
       "      <td>7099.0</td>\n",
       "      <td>1106.0</td>\n",
       "      <td>2401.0</td>\n",
       "      <td>1138.0</td>\n",
       "      <td>8.3014</td>\n",
       "      <td>358500.0</td>\n",
       "      <td>NEAR BAY</td>\n",
       "    </tr>\n",
       "    <tr>\n",
       "      <th>2</th>\n",
       "      <td>-122.24</td>\n",
       "      <td>37.85</td>\n",
       "      <td>52.0</td>\n",
       "      <td>1467.0</td>\n",
       "      <td>190.0</td>\n",
       "      <td>496.0</td>\n",
       "      <td>177.0</td>\n",
       "      <td>7.2574</td>\n",
       "      <td>352100.0</td>\n",
       "      <td>NEAR BAY</td>\n",
       "    </tr>\n",
       "    <tr>\n",
       "      <th>3</th>\n",
       "      <td>-122.25</td>\n",
       "      <td>37.85</td>\n",
       "      <td>52.0</td>\n",
       "      <td>1274.0</td>\n",
       "      <td>235.0</td>\n",
       "      <td>558.0</td>\n",
       "      <td>219.0</td>\n",
       "      <td>5.6431</td>\n",
       "      <td>341300.0</td>\n",
       "      <td>NEAR BAY</td>\n",
       "    </tr>\n",
       "    <tr>\n",
       "      <th>4</th>\n",
       "      <td>-122.25</td>\n",
       "      <td>37.85</td>\n",
       "      <td>52.0</td>\n",
       "      <td>1627.0</td>\n",
       "      <td>280.0</td>\n",
       "      <td>565.0</td>\n",
       "      <td>259.0</td>\n",
       "      <td>3.8462</td>\n",
       "      <td>342200.0</td>\n",
       "      <td>NEAR BAY</td>\n",
       "    </tr>\n",
       "  </tbody>\n",
       "</table>\n",
       "</div>"
      ],
      "text/plain": [
       "   longitude  latitude  housing_median_age  total_rooms  total_bedrooms  \\\n",
       "0    -122.23     37.88                41.0        880.0           129.0   \n",
       "1    -122.22     37.86                21.0       7099.0          1106.0   \n",
       "2    -122.24     37.85                52.0       1467.0           190.0   \n",
       "3    -122.25     37.85                52.0       1274.0           235.0   \n",
       "4    -122.25     37.85                52.0       1627.0           280.0   \n",
       "\n",
       "   population  households  median_income  median_house_value ocean_proximity  \n",
       "0       322.0       126.0         8.3252            452600.0        NEAR BAY  \n",
       "1      2401.0      1138.0         8.3014            358500.0        NEAR BAY  \n",
       "2       496.0       177.0         7.2574            352100.0        NEAR BAY  \n",
       "3       558.0       219.0         5.6431            341300.0        NEAR BAY  \n",
       "4       565.0       259.0         3.8462            342200.0        NEAR BAY  "
      ]
     },
     "execution_count": 17,
     "metadata": {},
     "output_type": "execute_result"
    }
   ],
   "source": [
    "# Previewing the data\n",
    "df.head()"
   ]
  },
  {
   "cell_type": "code",
   "execution_count": 13,
   "metadata": {},
   "outputs": [
    {
     "data": {
      "text/plain": [
       "[Text(0.5, 0, 'House Value'),\n",
       " Text(0, 0.5, 'Count'),\n",
       " Text(0.5, 1.0, 'Median House Value')]"
      ]
     },
     "execution_count": 13,
     "metadata": {},
     "output_type": "execute_result"
    },
    {
     "data": {
      "image/png": "[encoded data removed]",
      "text/plain": [
       "<Figure size 640x480 with 1 Axes>"
      ]
     },
     "metadata": {},
     "output_type": "display_data"
    }
   ],
   "source": [
    "# EDA - Visualising median_house_value\n",
    "sns.set_style(\"darkgrid\")\n",
    "plot = sns.histplot(df.median_house_value, bins=50, color=\"red\", kde=\"True\")\n",
    "plot.set(xlabel=\"House Value\", ylabel=\"Count\", title=\"Median House Value\")"
   ]
  },
  {
   "cell_type": "code",
   "execution_count": 22,
   "metadata": {},
   "outputs": [],
   "source": [
    "# Filtering data according to the specification\n",
    "df = df[\n",
    "    (df.ocean_proximity == 'INLAND') | (df.ocean_proximity == '<1H OCEAN')\n",
    "    ]\n",
    "del df['ocean_proximity']"
   ]
  },
  {
   "cell_type": "code",
   "execution_count": 23,
   "metadata": {},
   "outputs": [
    {
     "data": {
      "text/html": [
       "<div>\n",
       "<style scoped>\n",
       "    .dataframe tbody tr th:only-of-type {\n",
       "        vertical-align: middle;\n",
       "    }\n",
       "\n",
       "    .dataframe tbody tr th {\n",
       "        vertical-align: top;\n",
       "    }\n",
       "\n",
       "    .dataframe thead th {\n",
       "        text-align: right;\n",
       "    }\n",
       "</style>\n",
       "<table border=\"1\" class=\"dataframe\">\n",
       "  <thead>\n",
       "    <tr style=\"text-align: right;\">\n",
       "      <th></th>\n",
       "      <th>longitude</th>\n",
       "      <th>latitude</th>\n",
       "      <th>housing_median_age</th>\n",
       "      <th>total_rooms</th>\n",
       "      <th>total_bedrooms</th>\n",
       "      <th>population</th>\n",
       "      <th>households</th>\n",
       "      <th>median_income</th>\n",
       "      <th>median_house_value</th>\n",
       "    </tr>\n",
       "  </thead>\n",
       "  <tbody>\n",
       "    <tr>\n",
       "      <th>701</th>\n",
       "      <td>-121.97</td>\n",
       "      <td>37.64</td>\n",
       "      <td>32.0</td>\n",
       "      <td>1283.0</td>\n",
       "      <td>194.0</td>\n",
       "      <td>485.0</td>\n",
       "      <td>171.0</td>\n",
       "      <td>6.0574</td>\n",
       "      <td>431000.0</td>\n",
       "    </tr>\n",
       "    <tr>\n",
       "      <th>830</th>\n",
       "      <td>-121.99</td>\n",
       "      <td>37.61</td>\n",
       "      <td>9.0</td>\n",
       "      <td>3666.0</td>\n",
       "      <td>711.0</td>\n",
       "      <td>2341.0</td>\n",
       "      <td>703.0</td>\n",
       "      <td>4.6458</td>\n",
       "      <td>217000.0</td>\n",
       "    </tr>\n",
       "    <tr>\n",
       "      <th>859</th>\n",
       "      <td>-121.97</td>\n",
       "      <td>37.57</td>\n",
       "      <td>21.0</td>\n",
       "      <td>4342.0</td>\n",
       "      <td>783.0</td>\n",
       "      <td>2172.0</td>\n",
       "      <td>789.0</td>\n",
       "      <td>4.6146</td>\n",
       "      <td>247600.0</td>\n",
       "    </tr>\n",
       "    <tr>\n",
       "      <th>860</th>\n",
       "      <td>-121.96</td>\n",
       "      <td>37.58</td>\n",
       "      <td>15.0</td>\n",
       "      <td>3575.0</td>\n",
       "      <td>597.0</td>\n",
       "      <td>1777.0</td>\n",
       "      <td>559.0</td>\n",
       "      <td>5.7192</td>\n",
       "      <td>283500.0</td>\n",
       "    </tr>\n",
       "    <tr>\n",
       "      <th>861</th>\n",
       "      <td>-121.98</td>\n",
       "      <td>37.58</td>\n",
       "      <td>20.0</td>\n",
       "      <td>4126.0</td>\n",
       "      <td>1031.0</td>\n",
       "      <td>2079.0</td>\n",
       "      <td>975.0</td>\n",
       "      <td>3.6832</td>\n",
       "      <td>216900.0</td>\n",
       "    </tr>\n",
       "  </tbody>\n",
       "</table>\n",
       "</div>"
      ],
      "text/plain": [
       "     longitude  latitude  housing_median_age  total_rooms  total_bedrooms  \\\n",
       "701    -121.97     37.64                32.0       1283.0           194.0   \n",
       "830    -121.99     37.61                 9.0       3666.0           711.0   \n",
       "859    -121.97     37.57                21.0       4342.0           783.0   \n",
       "860    -121.96     37.58                15.0       3575.0           597.0   \n",
       "861    -121.98     37.58                20.0       4126.0          1031.0   \n",
       "\n",
       "     population  households  median_income  median_house_value  \n",
       "701       485.0       171.0         6.0574            431000.0  \n",
       "830      2341.0       703.0         4.6458            217000.0  \n",
       "859      2172.0       789.0         4.6146            247600.0  \n",
       "860      1777.0       559.0         5.7192            283500.0  \n",
       "861      2079.0       975.0         3.6832            216900.0  "
      ]
     },
     "execution_count": 23,
     "metadata": {},
     "output_type": "execute_result"
    }
   ],
   "source": [
    "df.head()"
   ]
  },
  {
   "cell_type": "markdown",
   "metadata": {},
   "source": [
    "## Question 1 - Checking for NAs"
   ]
  },
  {
   "cell_type": "code",
   "execution_count": 25,
   "metadata": {},
   "outputs": [
    {
     "data": {
      "text/plain": [
       "longitude               0\n",
       "latitude                0\n",
       "housing_median_age      0\n",
       "total_rooms             0\n",
       "total_bedrooms        157\n",
       "population              0\n",
       "households              0\n",
       "median_income           0\n",
       "median_house_value      0\n",
       "dtype: int64"
      ]
     },
     "execution_count": 25,
     "metadata": {},
     "output_type": "execute_result"
    }
   ],
   "source": [
    "# Checking which series contain NA values and if so how many there are\n",
    "df.isna().sum()"
   ]
  },
  {
   "cell_type": "markdown",
   "metadata": {},
   "source": [
    "We can see that **total_bedrooms** is the only series which contains any NA values."
   ]
  },
  {
   "cell_type": "markdown",
   "metadata": {},
   "source": [
    "## Question 2 - What's the median (50% percentile) for variable 'population'?"
   ]
  },
  {
   "cell_type": "code",
   "execution_count": 28,
   "metadata": {},
   "outputs": [
    {
     "data": {
      "text/plain": [
       "count    15687.000000\n",
       "mean      1466.317205\n",
       "std       1180.389908\n",
       "min          3.000000\n",
       "25%        802.000000\n",
       "50%       1195.000000\n",
       "75%       1777.000000\n",
       "max      35682.000000\n",
       "Name: population, dtype: float64"
      ]
     },
     "execution_count": 28,
     "metadata": {},
     "output_type": "execute_result"
    }
   ],
   "source": [
    "# .describe() generates us useful summary statistics\n",
    "df.population.describe()"
   ]
  },
  {
   "cell_type": "markdown",
   "metadata": {},
   "source": [
    "The 50% quantile of population is 1195.0"
   ]
  },
  {
   "cell_type": "markdown",
   "metadata": {},
   "source": [
    "## Question 3"
   ]
  },
  {
   "cell_type": "code",
   "execution_count": 30,
   "metadata": {},
   "outputs": [
    {
     "data": {
      "text/plain": [
       "array([15183,  4469,  9316, ...,  5390,   860,  7270])"
      ]
     },
     "execution_count": 30,
     "metadata": {},
     "output_type": "execute_result"
    }
   ],
   "source": [
    "# Shuffling the dataset\n",
    "# Creating a random order\n",
    "row, col = df.shape\n",
    "n = np.arange(row)\n",
    "np.random.seed(42)\n",
    "np.random.shuffle(n)"
   ]
  },
  {
   "cell_type": "code",
   "execution_count": 32,
   "metadata": {},
   "outputs": [],
   "source": [
    "# Compartmentalising dataset into 60/20/20 train/val/test splits\n",
    "train = df.iloc[n[:np.int64(len(n)*0.6)]].reset_index(drop=\"True\")\n",
    "val   = df.iloc[n[np.int64(len(n)*0.6):np.int64(len(n)*0.8)]].reset_index(drop='True')\n",
    "test  = df.iloc[n[np.int64(len(n)*0.8):]].reset_index(drop='True')"
   ]
  },
  {
   "cell_type": "code",
   "execution_count": 33,
   "metadata": {},
   "outputs": [],
   "source": [
    "# Creating target vectors and dropping from datasets to form feature matrices\n",
    "y_train = np.log1p(train.median_house_value.to_numpy())\n",
    "y_val   = np.log1p(val.median_house_value.to_numpy())\n",
    "y_test  = np.log1p(test.median_house_value.to_numpy())\n",
    "\n",
    "del train['median_house_value']\n",
    "del val['median_house_value']\n",
    "del test['median_house_value']"
   ]
  },
  {
   "cell_type": "code",
   "execution_count": 37,
   "metadata": {},
   "outputs": [],
   "source": [
    "# Function to prepare feature matrix - filling NAs with '0'\n",
    "def prepare_X_null_NA(df):\n",
    "    df = df.copy()\n",
    "\n",
    "    for i in df:\n",
    "        df[i] = df[i].fillna(0)\n",
    "\n",
    "    X = df\n",
    "\n",
    "    return X "
   ]
  },
  {
   "cell_type": "code",
   "execution_count": 40,
   "metadata": {},
   "outputs": [],
   "source": [
    "# Function to prepare feature matrix - filling NAs with '0'\n",
    "def prepare_X_mean_NA(df):\n",
    "    df = df.copy()\n",
    "\n",
    "    for i in df:\n",
    "        df[i] = df[i].fillna(train.total_bedrooms.mean())\n",
    "\n",
    "    X = df\n",
    "\n",
    "    return X "
   ]
  },
  {
   "cell_type": "code",
   "execution_count": 41,
   "metadata": {},
   "outputs": [],
   "source": [
    "# Function to perform linear regression\n",
    "def linear_regression(X, y, r = 0):\n",
    "    # First append column of 1s to the front, accounting for w0\n",
    "    X = np.column_stack([np.ones(X.shape[0]),X])\n",
    "\n",
    "    # Finding w (Xw = y)\n",
    "    XTX = X.T.dot(X)\n",
    "    XTX = XTX + r * np.eye(XTX.shape[0])    # Regularization step\n",
    "\n",
    "    XTX_inv = np.linalg.inv(XTX)\n",
    "    w = XTX_inv.dot(X.T).dot(y)\n",
    "\n",
    "    return w[0], w[1:]"
   ]
  },
  {
   "cell_type": "code",
   "execution_count": 42,
   "metadata": {},
   "outputs": [],
   "source": [
    "# Function for calculating the Random Mean Squared Error\n",
    "def rmse(y, y_pred):\n",
    "    se = (y - y_pred) ** 2\n",
    "    mse = se.mean()\n",
    "    return np.sqrt(mse)"
   ]
  },
  {
   "cell_type": "code",
   "execution_count": 56,
   "metadata": {},
   "outputs": [
    {
     "name": "stdout",
     "output_type": "stream",
     "text": [
      "RMSE (NAs = 0):                    0.34\n",
      "RMSE (NAs = mean):                 0.34\n"
     ]
    }
   ],
   "source": [
    "# Performing linear regression (NAs = 0)\n",
    "X_train_null = prepare_X_null_NA(train)\n",
    "\n",
    "# Finding weights using linear regression\n",
    "w0_null, w1_null = linear_regression(X_train_null, y_train)\n",
    "y_pred_train_null = w0_null + X_train_null.dot(w1_null)\n",
    "\n",
    "# Performing linear regression (NAs = 0)\n",
    "X_train_mean = prepare_X_mean_NA(train)\n",
    "\n",
    "# Finding weights using linear regression\n",
    "w0_mean, w1_mean = linear_regression(X_train_mean, y_train)\n",
    "y_pred_train_mean = w0_mean + X_train_mean.dot(w1_mean)\n",
    "\n",
    "print(\"RMSE (NAs = 0):    {0:20}\".format(np.round(rmse(y_train, y_pred_train_null),2)))\n",
    "print(\"RMSE (NAs = mean): {0:20}\".format(np.round(rmse(y_train, y_pred_train_mean),2)))"
   ]
  },
  {
   "cell_type": "markdown",
   "metadata": {},
   "source": [
    "Both options have a same RMSE to 2 decimal places, so are **equally good**"
   ]
  },
  {
   "cell_type": "markdown",
   "metadata": {},
   "source": [
    "## Question 4 - Regularised Linear Regression"
   ]
  },
  {
   "cell_type": "code",
   "execution_count": 75,
   "metadata": {},
   "outputs": [
    {
     "name": "stdout",
     "output_type": "stream",
     "text": [
      "RMSE for r =  0.0        : 0.34      \n",
      "RMSE for r =  1e-06      : 0.34      \n",
      "RMSE for r =  0.0001     : 0.34      \n",
      "RMSE for r =  0.001      : 0.34      \n",
      "RMSE for r =  0.01       : 0.34      \n",
      "RMSE for r =  0.1        : 0.34      \n",
      "RMSE for r =  1.0        : 0.343     \n",
      "RMSE for r =  5.0        : 0.346     \n",
      "RMSE for r =  10.0       : 0.347     \n"
     ]
    }
   ],
   "source": [
    "X_train = prepare_X_null_NA(train)\n",
    "\n",
    "r_vec = np.array([0, 0.000001, 0.0001, 0.001, 0.01, 0.1, 1, 5, 10])\n",
    "\n",
    "for r in r_vec:\n",
    "    w0, w1 = linear_regression(X_train, y_train, r)\n",
    "    y_pred = w0 + X_train.dot(w1)\n",
    "    print(\"RMSE for r =  {0:<10} : {1:<10}\".format(r, round(rmse(y_train, y_pred),3)))"
   ]
  },
  {
   "cell_type": "markdown",
   "metadata": {},
   "source": [
    "Given the similar RMSE results **r = 0** is the most appropriate choice of r for regularisation "
   ]
  },
  {
   "cell_type": "markdown",
   "metadata": {},
   "source": [
    "## Question 5"
   ]
  },
  {
   "cell_type": "code",
   "execution_count": 86,
   "metadata": {},
   "outputs": [
    {
     "name": "stdout",
     "output_type": "stream",
     "text": [
      "Seed:  0\n",
      "RMSE (Train): 0.33299496833639686\n",
      "RMSE (Val):   0.3377846115210822\n",
      "Standard Deivation:      0.002\n",
      "\n",
      "Seed:  1\n",
      "RMSE (Train): 0.33533597292130257\n",
      "RMSE (Val):   0.3378066543009298\n",
      "Standard Deivation:      0.001\n",
      "\n",
      "Seed:  2\n",
      "RMSE (Train): 0.3402820960258962\n",
      "RMSE (Val):   0.33846044731881775\n",
      "Standard Deivation:      0.001\n",
      "\n",
      "Seed:  3\n",
      "RMSE (Train): 0.34113896851455816\n",
      "RMSE (Val):   0.3320086319057813\n",
      "Standard Deivation:      0.005\n",
      "\n",
      "Seed:  4\n",
      "RMSE (Train): 0.3347873932153578\n",
      "RMSE (Val):   0.33944492069602683\n",
      "Standard Deivation:      0.002\n",
      "\n",
      "Seed:  5\n",
      "RMSE (Train): 0.33828727163333333\n",
      "RMSE (Val):   0.34337807814846283\n",
      "Standard Deivation:      0.003\n",
      "\n",
      "Seed:  6\n",
      "RMSE (Train): 0.3373648087118994\n",
      "RMSE (Val):   0.33853387112813416\n",
      "Standard Deivation:      0.001\n",
      "\n",
      "Seed:  7\n",
      "RMSE (Train): 0.3340873641367258\n",
      "RMSE (Val):   0.34814297152954615\n",
      "Standard Deivation:      0.007\n",
      "\n",
      "Seed:  8\n",
      "RMSE (Train): 0.3346145916732098\n",
      "RMSE (Val):   0.3512727798516247\n",
      "Standard Deivation:      0.008\n",
      "\n",
      "Seed:  9\n",
      "RMSE (Train): 0.34107752196563035\n",
      "RMSE (Val):   0.3341662373171238\n",
      "Standard Deivation:      0.003\n",
      "\n"
     ]
    }
   ],
   "source": [
    "seeds = np.array([0, 1, 2, 3, 4, 5, 6, 7, 8, 9])\n",
    "\n",
    "for i in seeds:\n",
    "    # Shuffling the dataset\n",
    "    # Creating a random order\n",
    "    row, col = df.shape\n",
    "    n = np.arange(row)\n",
    "    np.random.seed(i)\n",
    "    np.random.shuffle(n)\n",
    "\n",
    "    # Compartmentalising dataset into 60/20/20 train/val/test splits\n",
    "    train = df.iloc[n[:np.int64(len(n)*0.6)]].reset_index(drop=\"True\")\n",
    "    val   = df.iloc[n[np.int64(len(n)*0.6):np.int64(len(n)*0.8)]].reset_index(drop='True')\n",
    "    test  = df.iloc[n[np.int64(len(n)*0.8):]].reset_index(drop='True')\n",
    "\n",
    "    # Creating target vectors and dropping from datasets to form feature matrices\n",
    "    y_train = np.log1p(train.median_house_value.to_numpy())\n",
    "    y_val   = np.log1p(val.median_house_value.to_numpy())\n",
    "    y_test  = np.log1p(test.median_house_value.to_numpy())\n",
    "\n",
    "    del train['median_house_value']\n",
    "    del val['median_house_value']\n",
    "    del test['median_house_value']\n",
    "\n",
    "    # Initialising the feature matrices\n",
    "    X_train = prepare_X_null_NA(train)\n",
    "    X_val   = prepare_X_null_NA(val)\n",
    "\n",
    "    # Training the model\n",
    "    w0, w1 = linear_regression(X_train, y_train, 0)\n",
    "\n",
    "    # Calculating y predictions\n",
    "    y_train_pred = w0 + X_train.dot(w1)\n",
    "    y_val_pred   = w0 + X_val.dot(w1)\n",
    "\n",
    "    print(\"Seed: \", i)\n",
    "    print(\"RMSE (Train): {0:10}\".format(rmse(y_train,y_train_pred)))\n",
    "    print(\"RMSE (Val):   {0:10}\".format(rmse(y_val,y_val_pred)))\n",
    "    print(\"Standard Deivation: {0:10}\".format(np.round(np.std([rmse(y_train,y_train_pred),rmse(y_val,y_val_pred)]),3)))\n",
    "    print()"
   ]
  },
  {
   "cell_type": "markdown",
   "metadata": {},
   "source": [
    "Standard deviation (std) is roughly **0.005** (all values are to 3 decimal places)"
   ]
  },
  {
   "cell_type": "markdown",
   "metadata": {},
   "source": [
    "## Question 6 - Testing a Model"
   ]
  },
  {
   "cell_type": "code",
   "execution_count": 93,
   "metadata": {},
   "outputs": [
    {
     "name": "stdout",
     "output_type": "stream",
     "text": [
      "RMSE:       0.33\n"
     ]
    }
   ],
   "source": [
    "seed = 9\n",
    "\n",
    "# Shuffling the dataset\n",
    "# Creating a random order\n",
    "row, col = df.shape\n",
    "n = np.arange(row)\n",
    "np.random.seed(seed)\n",
    "np.random.shuffle(n)\n",
    "\n",
    "# Compartmentalising dataset into 60/20/20 train/val/test splits\n",
    "train = df.iloc[n[:np.int64(len(n)*0.6)]].reset_index(drop=\"True\")\n",
    "val   = df.iloc[n[np.int64(len(n)*0.6):np.int64(len(n)*0.8)]].reset_index(drop='True')\n",
    "test  = df.iloc[n[np.int64(len(n)*0.8):]].reset_index(drop='True')\n",
    "\n",
    "# Creating target vectors and dropping from datasets to form feature matrices\n",
    "y_train = np.log1p(train.median_house_value.to_numpy())\n",
    "y_val   = np.log1p(val.median_house_value.to_numpy())\n",
    "y_test  = np.log1p(test.median_house_value.to_numpy())\n",
    "\n",
    "del train['median_house_value']\n",
    "del val['median_house_value']\n",
    "del test['median_house_value']\n",
    "\n",
    "# Combining train and validation datasets\n",
    "train_val = pd.concat([train, val])\n",
    "y_train_val = np.concatenate([y_train, y_val])\n",
    "\n",
    "X_train_val = prepare_X_null_NA(train_val)\n",
    "X_test      = prepare_X_null_NA(test)\n",
    "\n",
    "w0, w1 = linear_regression(X_train_val, y_train_val, 0.001)\n",
    "\n",
    "y_pred_test = w0 + X_test.dot(w1)\n",
    "\n",
    "print(\"RMSE: {0:10}\".format(round(rmse(y_test, y_pred_test),2)))\n"
   ]
  },
  {
   "cell_type": "markdown",
   "metadata": {},
   "source": [
    "Training the model on our combined `train` and `validation` splits and then testing the model on our `test` split gives and **RMSE = 0.33** "
   ]
  }
 ],
 "metadata": {
  "kernelspec": {
   "display_name": "ml-zoomcamp-2023",
   "language": "python",
   "name": "python3"
  },
  "language_info": {
   "codemirror_mode": {
    "name": "ipython",
    "version": 3
   },
   "file_extension": ".py",
   "mimetype": "text/x-python",
   "name": "python",
   "nbconvert_exporter": "python",
   "pygments_lexer": "ipython3",
   "version": "3.9.17"
  },
  "orig_nbformat": 4
 },
 "nbformat": 4,
 "nbformat_minor": 2
}
