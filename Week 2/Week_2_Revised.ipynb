{
 "cells": [
  {
   "cell_type": "code",
   "execution_count": 30,
   "metadata": {},
   "outputs": [],
   "source": [
    "## Importing libraries ##\n",
    "\n",
    "# Data manipulation\n",
    "import pandas as pd\n",
    "import numpy as np\n",
    "\n",
    "# Visualisation\n",
    "import seaborn as sns\n",
    "import matplotlib as plt\n",
    "\n",
    "# Getting the data\n",
    "import wget"
   ]
  },
  {
   "cell_type": "code",
   "execution_count": 31,
   "metadata": {},
   "outputs": [],
   "source": [
    "# Getting the data\n",
    "# wget.download(url='https://raw.githubusercontent.com/alexeygrigorev/mlbookcamp-code/master/chapter-02-car-price/data.csv')\n",
    "\n",
    "# Reading the data using pandas\n",
    "df = pd.read_csv('data.csv')"
   ]
  },
  {
   "cell_type": "markdown",
   "metadata": {},
   "source": [
    "Initial inspection of the data"
   ]
  },
  {
   "cell_type": "code",
   "execution_count": 32,
   "metadata": {},
   "outputs": [
    {
     "data": {
      "text/html": [
       "<div>\n",
       "<style scoped>\n",
       "    .dataframe tbody tr th:only-of-type {\n",
       "        vertical-align: middle;\n",
       "    }\n",
       "\n",
       "    .dataframe tbody tr th {\n",
       "        vertical-align: top;\n",
       "    }\n",
       "\n",
       "    .dataframe thead th {\n",
       "        text-align: right;\n",
       "    }\n",
       "</style>\n",
       "<table border=\"1\" class=\"dataframe\">\n",
       "  <thead>\n",
       "    <tr style=\"text-align: right;\">\n",
       "      <th></th>\n",
       "      <th>Make</th>\n",
       "      <th>Model</th>\n",
       "      <th>Year</th>\n",
       "      <th>Engine Fuel Type</th>\n",
       "      <th>Engine HP</th>\n",
       "      <th>Engine Cylinders</th>\n",
       "      <th>Transmission Type</th>\n",
       "      <th>Driven_Wheels</th>\n",
       "      <th>Number of Doors</th>\n",
       "      <th>Market Category</th>\n",
       "      <th>Vehicle Size</th>\n",
       "      <th>Vehicle Style</th>\n",
       "      <th>highway MPG</th>\n",
       "      <th>city mpg</th>\n",
       "      <th>Popularity</th>\n",
       "      <th>MSRP</th>\n",
       "    </tr>\n",
       "  </thead>\n",
       "  <tbody>\n",
       "    <tr>\n",
       "      <th>0</th>\n",
       "      <td>BMW</td>\n",
       "      <td>1 Series M</td>\n",
       "      <td>2011</td>\n",
       "      <td>premium unleaded (required)</td>\n",
       "      <td>335.0</td>\n",
       "      <td>6.0</td>\n",
       "      <td>MANUAL</td>\n",
       "      <td>rear wheel drive</td>\n",
       "      <td>2.0</td>\n",
       "      <td>Factory Tuner,Luxury,High-Performance</td>\n",
       "      <td>Compact</td>\n",
       "      <td>Coupe</td>\n",
       "      <td>26</td>\n",
       "      <td>19</td>\n",
       "      <td>3916</td>\n",
       "      <td>46135</td>\n",
       "    </tr>\n",
       "    <tr>\n",
       "      <th>1</th>\n",
       "      <td>BMW</td>\n",
       "      <td>1 Series</td>\n",
       "      <td>2011</td>\n",
       "      <td>premium unleaded (required)</td>\n",
       "      <td>300.0</td>\n",
       "      <td>6.0</td>\n",
       "      <td>MANUAL</td>\n",
       "      <td>rear wheel drive</td>\n",
       "      <td>2.0</td>\n",
       "      <td>Luxury,Performance</td>\n",
       "      <td>Compact</td>\n",
       "      <td>Convertible</td>\n",
       "      <td>28</td>\n",
       "      <td>19</td>\n",
       "      <td>3916</td>\n",
       "      <td>40650</td>\n",
       "    </tr>\n",
       "    <tr>\n",
       "      <th>2</th>\n",
       "      <td>BMW</td>\n",
       "      <td>1 Series</td>\n",
       "      <td>2011</td>\n",
       "      <td>premium unleaded (required)</td>\n",
       "      <td>300.0</td>\n",
       "      <td>6.0</td>\n",
       "      <td>MANUAL</td>\n",
       "      <td>rear wheel drive</td>\n",
       "      <td>2.0</td>\n",
       "      <td>Luxury,High-Performance</td>\n",
       "      <td>Compact</td>\n",
       "      <td>Coupe</td>\n",
       "      <td>28</td>\n",
       "      <td>20</td>\n",
       "      <td>3916</td>\n",
       "      <td>36350</td>\n",
       "    </tr>\n",
       "    <tr>\n",
       "      <th>3</th>\n",
       "      <td>BMW</td>\n",
       "      <td>1 Series</td>\n",
       "      <td>2011</td>\n",
       "      <td>premium unleaded (required)</td>\n",
       "      <td>230.0</td>\n",
       "      <td>6.0</td>\n",
       "      <td>MANUAL</td>\n",
       "      <td>rear wheel drive</td>\n",
       "      <td>2.0</td>\n",
       "      <td>Luxury,Performance</td>\n",
       "      <td>Compact</td>\n",
       "      <td>Coupe</td>\n",
       "      <td>28</td>\n",
       "      <td>18</td>\n",
       "      <td>3916</td>\n",
       "      <td>29450</td>\n",
       "    </tr>\n",
       "    <tr>\n",
       "      <th>4</th>\n",
       "      <td>BMW</td>\n",
       "      <td>1 Series</td>\n",
       "      <td>2011</td>\n",
       "      <td>premium unleaded (required)</td>\n",
       "      <td>230.0</td>\n",
       "      <td>6.0</td>\n",
       "      <td>MANUAL</td>\n",
       "      <td>rear wheel drive</td>\n",
       "      <td>2.0</td>\n",
       "      <td>Luxury</td>\n",
       "      <td>Compact</td>\n",
       "      <td>Convertible</td>\n",
       "      <td>28</td>\n",
       "      <td>18</td>\n",
       "      <td>3916</td>\n",
       "      <td>34500</td>\n",
       "    </tr>\n",
       "  </tbody>\n",
       "</table>\n",
       "</div>"
      ],
      "text/plain": [
       "  Make       Model  Year             Engine Fuel Type  Engine HP  \\\n",
       "0  BMW  1 Series M  2011  premium unleaded (required)      335.0   \n",
       "1  BMW    1 Series  2011  premium unleaded (required)      300.0   \n",
       "2  BMW    1 Series  2011  premium unleaded (required)      300.0   \n",
       "3  BMW    1 Series  2011  premium unleaded (required)      230.0   \n",
       "4  BMW    1 Series  2011  premium unleaded (required)      230.0   \n",
       "\n",
       "   Engine Cylinders Transmission Type     Driven_Wheels  Number of Doors  \\\n",
       "0               6.0            MANUAL  rear wheel drive              2.0   \n",
       "1               6.0            MANUAL  rear wheel drive              2.0   \n",
       "2               6.0            MANUAL  rear wheel drive              2.0   \n",
       "3               6.0            MANUAL  rear wheel drive              2.0   \n",
       "4               6.0            MANUAL  rear wheel drive              2.0   \n",
       "\n",
       "                         Market Category Vehicle Size Vehicle Style  \\\n",
       "0  Factory Tuner,Luxury,High-Performance      Compact         Coupe   \n",
       "1                     Luxury,Performance      Compact   Convertible   \n",
       "2                Luxury,High-Performance      Compact         Coupe   \n",
       "3                     Luxury,Performance      Compact         Coupe   \n",
       "4                                 Luxury      Compact   Convertible   \n",
       "\n",
       "   highway MPG  city mpg  Popularity   MSRP  \n",
       "0           26        19        3916  46135  \n",
       "1           28        19        3916  40650  \n",
       "2           28        20        3916  36350  \n",
       "3           28        18        3916  29450  \n",
       "4           28        18        3916  34500  "
      ]
     },
     "execution_count": 32,
     "metadata": {},
     "output_type": "execute_result"
    }
   ],
   "source": [
    "# Initial inspection of the data\n",
    "df.head()"
   ]
  },
  {
   "cell_type": "code",
   "execution_count": 33,
   "metadata": {},
   "outputs": [
    {
     "data": {
      "text/plain": [
       "Make                  object\n",
       "Model                 object\n",
       "Year                   int64\n",
       "Engine Fuel Type      object\n",
       "Engine HP            float64\n",
       "Engine Cylinders     float64\n",
       "Transmission Type     object\n",
       "Driven_Wheels         object\n",
       "Number of Doors      float64\n",
       "Market Category       object\n",
       "Vehicle Size          object\n",
       "Vehicle Style         object\n",
       "highway MPG            int64\n",
       "city mpg               int64\n",
       "Popularity             int64\n",
       "MSRP                   int64\n",
       "dtype: object"
      ]
     },
     "execution_count": 33,
     "metadata": {},
     "output_type": "execute_result"
    }
   ],
   "source": [
    "# Datatypes\n",
    "df.dtypes"
   ]
  },
  {
   "cell_type": "code",
   "execution_count": 34,
   "metadata": {},
   "outputs": [
    {
     "data": {
      "text/plain": [
       "Make                    0\n",
       "Model                   0\n",
       "Year                    0\n",
       "Engine Fuel Type        3\n",
       "Engine HP              69\n",
       "Engine Cylinders       30\n",
       "Transmission Type       0\n",
       "Driven_Wheels           0\n",
       "Number of Doors         6\n",
       "Market Category      3742\n",
       "Vehicle Size            0\n",
       "Vehicle Style           0\n",
       "highway MPG             0\n",
       "city mpg                0\n",
       "Popularity              0\n",
       "MSRP                    0\n",
       "dtype: int64"
      ]
     },
     "execution_count": 34,
     "metadata": {},
     "output_type": "execute_result"
    }
   ],
   "source": [
    "# Missing values\n",
    "df.isna().sum()"
   ]
  },
  {
   "cell_type": "markdown",
   "metadata": {},
   "source": [
    "Things to note:\n",
    "- Inconsistent string formatting\n",
    "- Inconsistent series titling\n",
    "- Data is ordered\n",
    "- Data can be seperated into numerical and non-numerical quantities\n",
    "- Some categories are multiple choice (offer boolean series replacements)\n",
    "- Missing values in 5 series"
   ]
  },
  {
   "cell_type": "markdown",
   "metadata": {},
   "source": [
    "Cleaning the data"
   ]
  },
  {
   "cell_type": "code",
   "execution_count": 35,
   "metadata": {},
   "outputs": [
    {
     "data": {
      "text/plain": [
       "Index(['make', 'model', 'year', 'engine_fuel_type', 'engine_hp',\n",
       "       'engine_cylinders', 'transmission_type', 'driven_wheels',\n",
       "       'number_of_doors', 'market_category', 'vehicle_size', 'vehicle_style',\n",
       "       'highway_mpg', 'city_mpg', 'popularity', 'msrp'],\n",
       "      dtype='object')"
      ]
     },
     "execution_count": 35,
     "metadata": {},
     "output_type": "execute_result"
    }
   ],
   "source": [
    "# Formatting series titles\n",
    "df.columns = df.columns.str.lower().str.replace(' ', '_')\n",
    "df.columns"
   ]
  },
  {
   "cell_type": "code",
   "execution_count": 36,
   "metadata": {},
   "outputs": [
    {
     "data": {
      "text/html": [
       "<div>\n",
       "<style scoped>\n",
       "    .dataframe tbody tr th:only-of-type {\n",
       "        vertical-align: middle;\n",
       "    }\n",
       "\n",
       "    .dataframe tbody tr th {\n",
       "        vertical-align: top;\n",
       "    }\n",
       "\n",
       "    .dataframe thead th {\n",
       "        text-align: right;\n",
       "    }\n",
       "</style>\n",
       "<table border=\"1\" class=\"dataframe\">\n",
       "  <thead>\n",
       "    <tr style=\"text-align: right;\">\n",
       "      <th></th>\n",
       "      <th>make</th>\n",
       "      <th>model</th>\n",
       "      <th>engine_fuel_type</th>\n",
       "      <th>transmission_type</th>\n",
       "      <th>driven_wheels</th>\n",
       "      <th>market_category</th>\n",
       "      <th>vehicle_size</th>\n",
       "      <th>vehicle_style</th>\n",
       "    </tr>\n",
       "  </thead>\n",
       "  <tbody>\n",
       "    <tr>\n",
       "      <th>0</th>\n",
       "      <td>bmw</td>\n",
       "      <td>1_series_m</td>\n",
       "      <td>premium_unleaded_(required)</td>\n",
       "      <td>manual</td>\n",
       "      <td>rear_wheel_drive</td>\n",
       "      <td>factory_tuner,luxury,high-performance</td>\n",
       "      <td>compact</td>\n",
       "      <td>coupe</td>\n",
       "    </tr>\n",
       "    <tr>\n",
       "      <th>1</th>\n",
       "      <td>bmw</td>\n",
       "      <td>1_series</td>\n",
       "      <td>premium_unleaded_(required)</td>\n",
       "      <td>manual</td>\n",
       "      <td>rear_wheel_drive</td>\n",
       "      <td>luxury,performance</td>\n",
       "      <td>compact</td>\n",
       "      <td>convertible</td>\n",
       "    </tr>\n",
       "    <tr>\n",
       "      <th>2</th>\n",
       "      <td>bmw</td>\n",
       "      <td>1_series</td>\n",
       "      <td>premium_unleaded_(required)</td>\n",
       "      <td>manual</td>\n",
       "      <td>rear_wheel_drive</td>\n",
       "      <td>luxury,high-performance</td>\n",
       "      <td>compact</td>\n",
       "      <td>coupe</td>\n",
       "    </tr>\n",
       "    <tr>\n",
       "      <th>3</th>\n",
       "      <td>bmw</td>\n",
       "      <td>1_series</td>\n",
       "      <td>premium_unleaded_(required)</td>\n",
       "      <td>manual</td>\n",
       "      <td>rear_wheel_drive</td>\n",
       "      <td>luxury,performance</td>\n",
       "      <td>compact</td>\n",
       "      <td>coupe</td>\n",
       "    </tr>\n",
       "    <tr>\n",
       "      <th>4</th>\n",
       "      <td>bmw</td>\n",
       "      <td>1_series</td>\n",
       "      <td>premium_unleaded_(required)</td>\n",
       "      <td>manual</td>\n",
       "      <td>rear_wheel_drive</td>\n",
       "      <td>luxury</td>\n",
       "      <td>compact</td>\n",
       "      <td>convertible</td>\n",
       "    </tr>\n",
       "    <tr>\n",
       "      <th>...</th>\n",
       "      <td>...</td>\n",
       "      <td>...</td>\n",
       "      <td>...</td>\n",
       "      <td>...</td>\n",
       "      <td>...</td>\n",
       "      <td>...</td>\n",
       "      <td>...</td>\n",
       "      <td>...</td>\n",
       "    </tr>\n",
       "    <tr>\n",
       "      <th>11909</th>\n",
       "      <td>acura</td>\n",
       "      <td>zdx</td>\n",
       "      <td>premium_unleaded_(required)</td>\n",
       "      <td>automatic</td>\n",
       "      <td>all_wheel_drive</td>\n",
       "      <td>crossover,hatchback,luxury</td>\n",
       "      <td>midsize</td>\n",
       "      <td>4dr_hatchback</td>\n",
       "    </tr>\n",
       "    <tr>\n",
       "      <th>11910</th>\n",
       "      <td>acura</td>\n",
       "      <td>zdx</td>\n",
       "      <td>premium_unleaded_(required)</td>\n",
       "      <td>automatic</td>\n",
       "      <td>all_wheel_drive</td>\n",
       "      <td>crossover,hatchback,luxury</td>\n",
       "      <td>midsize</td>\n",
       "      <td>4dr_hatchback</td>\n",
       "    </tr>\n",
       "    <tr>\n",
       "      <th>11911</th>\n",
       "      <td>acura</td>\n",
       "      <td>zdx</td>\n",
       "      <td>premium_unleaded_(required)</td>\n",
       "      <td>automatic</td>\n",
       "      <td>all_wheel_drive</td>\n",
       "      <td>crossover,hatchback,luxury</td>\n",
       "      <td>midsize</td>\n",
       "      <td>4dr_hatchback</td>\n",
       "    </tr>\n",
       "    <tr>\n",
       "      <th>11912</th>\n",
       "      <td>acura</td>\n",
       "      <td>zdx</td>\n",
       "      <td>premium_unleaded_(recommended)</td>\n",
       "      <td>automatic</td>\n",
       "      <td>all_wheel_drive</td>\n",
       "      <td>crossover,hatchback,luxury</td>\n",
       "      <td>midsize</td>\n",
       "      <td>4dr_hatchback</td>\n",
       "    </tr>\n",
       "    <tr>\n",
       "      <th>11913</th>\n",
       "      <td>lincoln</td>\n",
       "      <td>zephyr</td>\n",
       "      <td>regular_unleaded</td>\n",
       "      <td>automatic</td>\n",
       "      <td>front_wheel_drive</td>\n",
       "      <td>luxury</td>\n",
       "      <td>midsize</td>\n",
       "      <td>sedan</td>\n",
       "    </tr>\n",
       "  </tbody>\n",
       "</table>\n",
       "<p>11914 rows × 8 columns</p>\n",
       "</div>"
      ],
      "text/plain": [
       "          make       model                engine_fuel_type transmission_type  \\\n",
       "0          bmw  1_series_m     premium_unleaded_(required)            manual   \n",
       "1          bmw    1_series     premium_unleaded_(required)            manual   \n",
       "2          bmw    1_series     premium_unleaded_(required)            manual   \n",
       "3          bmw    1_series     premium_unleaded_(required)            manual   \n",
       "4          bmw    1_series     premium_unleaded_(required)            manual   \n",
       "...        ...         ...                             ...               ...   \n",
       "11909    acura         zdx     premium_unleaded_(required)         automatic   \n",
       "11910    acura         zdx     premium_unleaded_(required)         automatic   \n",
       "11911    acura         zdx     premium_unleaded_(required)         automatic   \n",
       "11912    acura         zdx  premium_unleaded_(recommended)         automatic   \n",
       "11913  lincoln      zephyr                regular_unleaded         automatic   \n",
       "\n",
       "           driven_wheels                        market_category vehicle_size  \\\n",
       "0       rear_wheel_drive  factory_tuner,luxury,high-performance      compact   \n",
       "1       rear_wheel_drive                     luxury,performance      compact   \n",
       "2       rear_wheel_drive                luxury,high-performance      compact   \n",
       "3       rear_wheel_drive                     luxury,performance      compact   \n",
       "4       rear_wheel_drive                                 luxury      compact   \n",
       "...                  ...                                    ...          ...   \n",
       "11909    all_wheel_drive             crossover,hatchback,luxury      midsize   \n",
       "11910    all_wheel_drive             crossover,hatchback,luxury      midsize   \n",
       "11911    all_wheel_drive             crossover,hatchback,luxury      midsize   \n",
       "11912    all_wheel_drive             crossover,hatchback,luxury      midsize   \n",
       "11913  front_wheel_drive                                 luxury      midsize   \n",
       "\n",
       "       vehicle_style  \n",
       "0              coupe  \n",
       "1        convertible  \n",
       "2              coupe  \n",
       "3              coupe  \n",
       "4        convertible  \n",
       "...              ...  \n",
       "11909  4dr_hatchback  \n",
       "11910  4dr_hatchback  \n",
       "11911  4dr_hatchback  \n",
       "11912  4dr_hatchback  \n",
       "11913          sedan  \n",
       "\n",
       "[11914 rows x 8 columns]"
      ]
     },
     "execution_count": 36,
     "metadata": {},
     "output_type": "execute_result"
    }
   ],
   "source": [
    "# Formatting string data\n",
    "for i in df.dtypes[df.dtypes == 'object'].index:\n",
    "    df[i] = df[i].str.lower().str.replace(' ', '_')\n",
    "\n",
    "df.select_dtypes('object')"
   ]
  },
  {
   "cell_type": "markdown",
   "metadata": {},
   "source": [
    "Exploring the data"
   ]
  },
  {
   "cell_type": "code",
   "execution_count": 37,
   "metadata": {},
   "outputs": [
    {
     "name": "stdout",
     "output_type": "stream",
     "text": [
      "make\n",
      "Total number of unique entries:  48\n",
      "Preview of unique entries:  ['bmw' 'audi' 'fiat' 'mercedes-benz' 'chrysler']\n",
      "\n",
      "model\n",
      "Total number of unique entries:  914\n",
      "Preview of unique entries:  ['1_series_m' '1_series' '100' '124_spider' '190-class']\n",
      "\n",
      "year\n",
      "Total number of unique entries:  28\n",
      "Preview of unique entries:  [2011 2012 2013 1992 1993]\n",
      "\n",
      "engine_fuel_type\n",
      "Total number of unique entries:  10\n",
      "Preview of unique entries:  ['premium_unleaded_(required)' 'regular_unleaded'\n",
      " 'premium_unleaded_(recommended)' 'flex-fuel_(unleaded/e85)' 'diesel']\n",
      "\n",
      "engine_hp\n",
      "Total number of unique entries:  356\n",
      "Preview of unique entries:  [335. 300. 230. 320. 172.]\n",
      "\n",
      "engine_cylinders\n",
      "Total number of unique entries:  9\n",
      "Preview of unique entries:  [ 6.  4.  5.  8. 12.]\n",
      "\n",
      "transmission_type\n",
      "Total number of unique entries:  5\n",
      "Preview of unique entries:  ['manual' 'automatic' 'automated_manual' 'direct_drive' 'unknown']\n",
      "\n",
      "driven_wheels\n",
      "Total number of unique entries:  4\n",
      "Preview of unique entries:  ['rear_wheel_drive' 'front_wheel_drive' 'all_wheel_drive'\n",
      " 'four_wheel_drive']\n",
      "\n",
      "number_of_doors\n",
      "Total number of unique entries:  3\n",
      "Preview of unique entries:  [ 2.  4.  3. nan]\n",
      "\n",
      "market_category\n",
      "Total number of unique entries:  71\n",
      "Preview of unique entries:  ['factory_tuner,luxury,high-performance' 'luxury,performance'\n",
      " 'luxury,high-performance' 'luxury' 'performance']\n",
      "\n",
      "vehicle_size\n",
      "Total number of unique entries:  3\n",
      "Preview of unique entries:  ['compact' 'midsize' 'large']\n",
      "\n",
      "vehicle_style\n",
      "Total number of unique entries:  16\n",
      "Preview of unique entries:  ['coupe' 'convertible' 'sedan' 'wagon' '4dr_hatchback']\n",
      "\n",
      "highway_mpg\n",
      "Total number of unique entries:  59\n",
      "Preview of unique entries:  [26 28 27 25 24]\n",
      "\n",
      "city_mpg\n",
      "Total number of unique entries:  69\n",
      "Preview of unique entries:  [19 20 18 17 16]\n",
      "\n",
      "popularity\n",
      "Total number of unique entries:  48\n",
      "Preview of unique entries:  [3916 3105  819  617 1013]\n",
      "\n",
      "msrp\n",
      "Total number of unique entries:  6049\n",
      "Preview of unique entries:  [46135 40650 36350 29450 34500]\n",
      "\n"
     ]
    }
   ],
   "source": [
    "# Understanding the contents of each column\n",
    "for i in df.columns:\n",
    "    print(i)\n",
    "    print('Total number of unique entries: ', df[i].nunique())\n",
    "    print('Preview of unique entries: ', df[i].unique()[:5])\n",
    "    print()"
   ]
  },
  {
   "cell_type": "code",
   "execution_count": 38,
   "metadata": {},
   "outputs": [
    {
     "data": {
      "text/plain": [
       "[Text(0.5, 0, 'MSRP'), Text(0, 0.5, 'Count'), Text(0.5, 1.0, 'MSRP Histogram')]"
      ]
     },
     "execution_count": 38,
     "metadata": {},
     "output_type": "execute_result"
    },
    {
     "data": {
      "image/png": "[encoded data removed]",
      "text/plain": [
       "<Figure size 640x480 with 1 Axes>"
      ]
     },
     "metadata": {},
     "output_type": "display_data"
    }
   ],
   "source": [
    "# Visualising series with large amounts of unique values\n",
    "msrp_hist_plot = sns.histplot(df.msrp, bins=50, binrange=[0, 2e5])\n",
    "msrp_hist_plot.set(xlabel='MSRP', ylabel='Count', title='MSRP Histogram')"
   ]
  },
  {
   "cell_type": "markdown",
   "metadata": {},
   "source": [
    "Skewed / Long tailed distributions are not ideal for training models"
   ]
  },
  {
   "cell_type": "code",
   "execution_count": 39,
   "metadata": {},
   "outputs": [
    {
     "data": {
      "text/plain": [
       "[Text(0.5, 0, 'MSRP'), Text(0, 0.5, 'Count'), Text(0.5, 1.0, 'MSRP Histogram')]"
      ]
     },
     "execution_count": 39,
     "metadata": {},
     "output_type": "execute_result"
    },
    {
     "data": {
      "image/png": "[encoded data removed]",
      "text/plain": [
       "<Figure size 640x480 with 1 Axes>"
      ]
     },
     "metadata": {},
     "output_type": "display_data"
    }
   ],
   "source": [
    "# Converting to logarithmic distribution to better represent the data\n",
    "msrp_hist_plot_log = sns.histplot(np.log1p(df.msrp), bins=50)\n",
    "msrp_hist_plot_log.set(xlabel='MSRP', ylabel='Count', title='MSRP Histogram')"
   ]
  },
  {
   "cell_type": "markdown",
   "metadata": {},
   "source": [
    "Initialising a validation framework"
   ]
  },
  {
   "cell_type": "code",
   "execution_count": 40,
   "metadata": {},
   "outputs": [],
   "source": [
    "# Shuffling the data\n",
    "row, col = df.shape\n",
    "n = np.arange(row)\n",
    "np.random.shuffle(n)"
   ]
  },
  {
   "cell_type": "code",
   "execution_count": 41,
   "metadata": {},
   "outputs": [],
   "source": [
    "# Compartmentalising dataset 60/20/20\n",
    "train = df.iloc[n[:np.int64(len(n)*0.6)]].reset_index(drop='True')\n",
    "val   = df.iloc[n[np.int64(len(n)*0.6):np.int64(len(n)*0.8)]].reset_index(drop='True')\n",
    "test  = df.iloc[n[np.int64(len(n)*0.8):]].reset_index(drop='True')"
   ]
  },
  {
   "cell_type": "code",
   "execution_count": 42,
   "metadata": {},
   "outputs": [],
   "source": [
    "# Creating target vectors and dropping from datasets to form feature matrices\n",
    "y_train = np.log1p(train.msrp.to_numpy())\n",
    "y_val   = np.log1p(val.msrp.to_numpy())\n",
    "y_test  = np.log1p(test.msrp.to_numpy())\n",
    "\n",
    "del train['msrp']\n",
    "del val['msrp']\n",
    "del test['msrp']"
   ]
  },
  {
   "cell_type": "code",
   "execution_count": 43,
   "metadata": {},
   "outputs": [],
   "source": [
    "# function to prepare feature matrix\n",
    "def prepare_X(df):\n",
    "    df = df.copy()\n",
    "\n",
    "    num_col = np.array(['engine_hp', 'engine_cylinders',\n",
    "       'highway_mpg', 'city_mpg', 'popularity'])\n",
    "\n",
    "    cat_col = np.array(['make', 'model', 'engine_fuel_type', 'transmission_type',\n",
    "       'driven_wheels', 'market_category', 'vehicle_size',\n",
    "       'vehicle_style', 'number_of_doors'])\n",
    "    \n",
    "    df['age'] = df['year'].max() - df['year']\n",
    "    \n",
    "    del df['year']\n",
    "\n",
    "    for i in num_col:\n",
    "        df[i] = df[i].fillna(0)\n",
    "    \n",
    "    categories = {}\n",
    "\n",
    "    for i in cat_col:\n",
    "       categories[i] = list(df[i].value_counts().head().index)\n",
    "\n",
    "    for series, values in categories.items():\n",
    "       for value in values:\n",
    "          df['%s_%s' % (series, value)] = (df[series] == value).astype('int')\n",
    "\n",
    "    for i in cat_col:\n",
    "       del df[i]\n",
    "\n",
    "   #  df = df.fillna(0)\n",
    "    X = df\n",
    "\n",
    "    return X "
   ]
  },
  {
   "cell_type": "code",
   "execution_count": 44,
   "metadata": {},
   "outputs": [],
   "source": [
    "# Preparing feature matrices\n",
    "X_train = prepare_X(train)\n",
    "X_val = prepare_X(val)\n",
    "X_test = prepare_X(test)"
   ]
  },
  {
   "cell_type": "code",
   "execution_count": 45,
   "metadata": {},
   "outputs": [],
   "source": [
    "# Function to perform linear regression\n",
    "def linear_regression(X, y, r):\n",
    "    # First append column of 1s to the front, accounting for w0\n",
    "    X = np.column_stack([np.ones(X.shape[0]),X])\n",
    "\n",
    "    # Finding w (Xw = y)\n",
    "    XTX = X.T.dot(X)\n",
    "    XTX = XTX + r * np.eye(XTX.shape[0])    # Regularization step\n",
    "\n",
    "    XTX_inv = np.linalg.inv(XTX)\n",
    "    w = XTX_inv.dot(X.T).dot(y)\n",
    "\n",
    "    return w[0], w[1:]"
   ]
  },
  {
   "cell_type": "code",
   "execution_count": 46,
   "metadata": {},
   "outputs": [],
   "source": [
    "# Finding weights using linear regression\n",
    "w0, w1 = linear_regression(X_train, y_train, 0.01)"
   ]
  },
  {
   "cell_type": "code",
   "execution_count": 47,
   "metadata": {},
   "outputs": [],
   "source": [
    "# Function for calculating the Random Mean Squared Error\n",
    "def rmse(y, y_pred):\n",
    "    se = (y - y_pred) ** 2\n",
    "    mse = se.mean()\n",
    "    return np.sqrt(mse)"
   ]
  },
  {
   "cell_type": "code",
   "execution_count": 1,
   "metadata": {},
   "outputs": [
    {
     "ename": "NameError",
     "evalue": "name 'w0' is not defined",
     "output_type": "error",
     "traceback": [
      "\u001b[1;31m---------------------------------------------------------------------------\u001b[0m",
      "\u001b[1;31mNameError\u001b[0m                                 Traceback (most recent call last)",
      "\u001b[1;32mc:\\Users\\Tynan\\Desktop\\ml-zoomcamp-2023\\Week 2\\Week_2_Revised.ipynb Cell 25\u001b[0m line \u001b[0;36m2\n\u001b[0;32m      <a href='vscode-notebook-cell:/c%3A/Users/Tynan/Desktop/ml-zoomcamp-2023/Week%202/Week_2_Revised.ipynb#X33sZmlsZQ%3D%3D?line=0'>1</a>\u001b[0m \u001b[39m# Predicting y and RMSE\u001b[39;00m\n\u001b[1;32m----> <a href='vscode-notebook-cell:/c%3A/Users/Tynan/Desktop/ml-zoomcamp-2023/Week%202/Week_2_Revised.ipynb#X33sZmlsZQ%3D%3D?line=1'>2</a>\u001b[0m y_pred_train \u001b[39m=\u001b[39m w0 \u001b[39m+\u001b[39m X_train\u001b[39m.\u001b[39mdot(w1)\n\u001b[0;32m      <a href='vscode-notebook-cell:/c%3A/Users/Tynan/Desktop/ml-zoomcamp-2023/Week%202/Week_2_Revised.ipynb#X33sZmlsZQ%3D%3D?line=2'>3</a>\u001b[0m rmse(y_train, y_pred_train)\n",
      "\u001b[1;31mNameError\u001b[0m: name 'w0' is not defined"
     ]
    }
   ],
   "source": [
    "# Predicting y and RMSE\n",
    "y_pred_train = w0 + X_train.dot(w1)\n",
    "rmse(y_train, y_pred_train)"
   ]
  },
  {
   "cell_type": "code",
   "execution_count": 49,
   "metadata": {},
   "outputs": [
    {
     "data": {
      "image/png": "[encoded data removed]",
      "text/plain": [
       "<Figure size 640x480 with 1 Axes>"
      ]
     },
     "metadata": {},
     "output_type": "display_data"
    }
   ],
   "source": [
    "# Plotting results of initial training\n",
    "sns.set_style(\"darkgrid\")\n",
    "\n",
    "sns.histplot(y_train, bins=50, label=\"Actual value\")\n",
    "sns.histplot(y_pred_train, bins=50, label=\"Prediction\")\n",
    "\n",
    "plt.pyplot.legend() \n",
    "plt.pyplot.show()"
   ]
  },
  {
   "cell_type": "markdown",
   "metadata": {},
   "source": [
    "Now, utilise the validation dataset to check for overfitting"
   ]
  },
  {
   "cell_type": "code",
   "execution_count": 50,
   "metadata": {},
   "outputs": [
    {
     "data": {
      "text/plain": [
       "0.45688193415651457"
      ]
     },
     "execution_count": 50,
     "metadata": {},
     "output_type": "execute_result"
    }
   ],
   "source": [
    "# Evaluating validation dataset fit\n",
    "y_pred_val = w0 + X_val.dot(w1)\n",
    "rmse(y_val, y_pred_val)"
   ]
  },
  {
   "cell_type": "code",
   "execution_count": 51,
   "metadata": {},
   "outputs": [
    {
     "data": {
      "image/png": "[encoded data removed]",
      "text/plain": [
       "<Figure size 640x480 with 1 Axes>"
      ]
     },
     "metadata": {},
     "output_type": "display_data"
    }
   ],
   "source": [
    "# Plotting results of training on validation set\n",
    "sns.set_style(\"darkgrid\")\n",
    "\n",
    "sns.histplot(y_val, bins=50, label=\"Actual value\")\n",
    "sns.histplot(y_pred_val, bins=50, label=\"Prediction\")\n",
    "\n",
    "plt.pyplot.legend() \n",
    "plt.pyplot.show()"
   ]
  },
  {
   "cell_type": "code",
   "execution_count": 52,
   "metadata": {},
   "outputs": [
    {
     "name": "stdout",
     "output_type": "stream",
     "text": [
      "Training RMSE:   0.45388412181070326\n",
      "Validation RMSE:  0.45688193415651457\n"
     ]
    }
   ],
   "source": [
    "# Comparing RMSE\n",
    "print(\"Training RMSE:  {0:>20}\".format(rmse(y_train, y_pred_train)))\n",
    "print(\"Validation RMSE: {0:>20}\".format(rmse(y_val, y_pred_val)))"
   ]
  },
  {
   "cell_type": "markdown",
   "metadata": {},
   "source": [
    "Combining the train and validation datasets, we can re-train our model and evaluate on the test dataset"
   ]
  },
  {
   "cell_type": "code",
   "execution_count": null,
   "metadata": {},
   "outputs": [],
   "source": [
    "# Preparing extended feature matric and target vector\n",
    "train_val = pd.concat([train,val])\n",
    "y_train_val = np.concatenate([y_train, y_val])\n",
    "\n",
    "X_train_val = prepare_X(train_val)"
   ]
  },
  {
   "cell_type": "code",
   "execution_count": null,
   "metadata": {},
   "outputs": [],
   "source": [
    "# Finding weights for extended dataset using linear regression\n",
    "w0_tv, w1_tv = linear_regression(X_train_val, y_train_val, 0.01)"
   ]
  },
  {
   "cell_type": "code",
   "execution_count": null,
   "metadata": {},
   "outputs": [
    {
     "data": {
      "text/plain": [
       "0.4520642163542601"
      ]
     },
     "execution_count": 55,
     "metadata": {},
     "output_type": "execute_result"
    }
   ],
   "source": [
    "# Calculating y predictions on test set and RMSE\n",
    "y_pred_test = w0_tv + X_test.dot(w1_tv)\n",
    "rmse(y_test, y_pred_test)"
   ]
  },
  {
   "cell_type": "code",
   "execution_count": 56,
   "metadata": {},
   "outputs": [
    {
     "name": "stdout",
     "output_type": "stream",
     "text": [
      "- Training RMSE:    0.45388412181070326\n",
      "- Validation RMSE:   0.45688193415651457\n",
      "- Test RMSE:         0.4520642163542601\n"
     ]
    }
   ],
   "source": [
    "# Once more comparing RMSE\n",
    "print(\"- Training RMSE:   {0:>20}\".format(rmse(y_train, y_pred_train)))\n",
    "print(\"- Validation RMSE: {0:>21}\".format(rmse(y_val, y_pred_val)))\n",
    "print(\"- Test RMSE:       {0:>20}\".format(rmse(y_test, y_pred_test)))"
   ]
  },
  {
   "cell_type": "code",
   "execution_count": 69,
   "metadata": {},
   "outputs": [
    {
     "data": {
      "image/png": "[encoded data removed]",
      "text/plain": [
       "<Figure size 640x480 with 1 Axes>"
      ]
     },
     "metadata": {},
     "output_type": "display_data"
    }
   ],
   "source": [
    "# Plotting results of training on validation set\n",
    "sns.set_style(\"darkgrid\")\n",
    "\n",
    "sns.histplot(y_test, bins=50, label=\"Actual value\", alpha=0.5)\n",
    "sns.histplot(y_pred_test, bins=50, label=\"Prediction\", alpha=0.5)\n",
    "\n",
    "plt.pyplot.legend() \n",
    "plt.pyplot.show()"
   ]
  },
  {
   "cell_type": "markdown",
   "metadata": {},
   "source": [
    "With RMSE being consistent across the three sets we can now use the model to predict the prices of cars from the test dataset"
   ]
  },
  {
   "cell_type": "code",
   "execution_count": 68,
   "metadata": {},
   "outputs": [
    {
     "name": "stdout",
     "output_type": "stream",
     "text": [
      "make                             honda\n",
      "model                           accord\n",
      "year                              2017\n",
      "engine_fuel_type      regular_unleaded\n",
      "engine_hp                        278.0\n",
      "engine_cylinders                   6.0\n",
      "transmission_type            automatic\n",
      "driven_wheels        front_wheel_drive\n",
      "number_of_doors                    4.0\n",
      "market_category                    NaN\n",
      "vehicle_size                   midsize\n",
      "vehicle_style                    sedan\n",
      "highway_mpg                         33\n",
      "city_mpg                            21\n",
      "popularity                        2202\n",
      "Name: 79, dtype: object\n",
      "Predicted Price:        41991\n",
      "Actual Price:           32895\n"
     ]
    }
   ],
   "source": [
    "n = (np.random.default_rng().integers(100))\n",
    "print(test.iloc[n])\n",
    "print(\"Predicted Price: {0:>12}\".format(np.int64(np.expm1(y_pred_test[n]))))\n",
    "print(\"Actual Price: {0:>15}\".format(np.int64(np.expm1(y_test[n]))))"
   ]
  }
 ],
 "metadata": {
  "kernelspec": {
   "display_name": "ml-zoomcamp-2023",
   "language": "python",
   "name": "python3"
  },
  "language_info": {
   "codemirror_mode": {
    "name": "ipython",
    "version": 3
   },
   "file_extension": ".py",
   "mimetype": "text/x-python",
   "name": "python",
   "nbconvert_exporter": "python",
   "pygments_lexer": "ipython3",
   "version": "3.9.17"
  },
  "orig_nbformat": 4
 },
 "nbformat": 4,
 "nbformat_minor": 2
}
