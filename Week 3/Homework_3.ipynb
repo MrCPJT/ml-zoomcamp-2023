{
 "cells": [
  {
   "cell_type": "markdown",
   "metadata": {},
   "source": [
    "\n",
    "# Homework Week 3\n",
    "\n",
    "## ml-zoomcamp 2023 cohort\n",
    "\n",
    "<hr>"
   ]
  },
  {
   "cell_type": "code",
   "execution_count": 1,
   "metadata": {},
   "outputs": [],
   "source": [
    "## Importing libraries ##\n",
    "\n",
    "# Data manipulation\n",
    "import pandas as pd\n",
    "import numpy as np\n",
    "\n",
    "# Data visualisation\n",
    "import seaborn as sns\n",
    "import matplotlib as plt\n",
    "\n",
    "# Getting data\n",
    "import wget"
   ]
  },
  {
   "cell_type": "code",
   "execution_count": 2,
   "metadata": {},
   "outputs": [],
   "source": [
    "# Importing and loading the data\n",
    "df = pd.read_csv('data.csv')"
   ]
  },
  {
   "cell_type": "code",
   "execution_count": 3,
   "metadata": {},
   "outputs": [],
   "source": [
    "## Data preperation ##\n",
    "\n",
    "# Cleaning series titles\n",
    "df.columns = df.columns.str.lower().str.replace(' ', '_')\n",
    "\n",
    "# Renaming MSRP to price (replacing)\n",
    "df['price'] = df['msrp']\n",
    "\n",
    "# Deleting MSRP\n",
    "del df['msrp']\n"
   ]
  },
  {
   "cell_type": "code",
   "execution_count": 4,
   "metadata": {},
   "outputs": [],
   "source": [
    "# Array of series of interest\n",
    "categories = ['make', 'model', 'year', 'engine_hp', 'engine_cylinders', 'transmission_type',\n",
    "              'vehicle_style', 'highway_mpg', 'city_mpg', 'price']\n",
    "\n",
    "# Replacing NAs with 0\n",
    "df = df[categories]\n",
    "df = df.fillna(0)"
   ]
  },
  {
   "cell_type": "markdown",
   "metadata": {},
   "source": [
    "### Question 1 - What is the most frequent observation (mode) for the column transmission_type?"
   ]
  },
  {
   "cell_type": "code",
   "execution_count": 5,
   "metadata": {},
   "outputs": [
    {
     "data": {
      "text/plain": [
       "transmission_type\n",
       "AUTOMATIC           8266\n",
       "MANUAL              2935\n",
       "AUTOMATED_MANUAL     626\n",
       "DIRECT_DRIVE          68\n",
       "UNKNOWN               19\n",
       "Name: count, dtype: int64"
      ]
     },
     "execution_count": 5,
     "metadata": {},
     "output_type": "execute_result"
    }
   ],
   "source": [
    "# Using value_counts()\n",
    "df.transmission_type.value_counts()"
   ]
  },
  {
   "cell_type": "code",
   "execution_count": 6,
   "metadata": {},
   "outputs": [
    {
     "data": {
      "text/plain": [
       "0    AUTOMATIC\n",
       "Name: transmission_type, dtype: object"
      ]
     },
     "execution_count": 6,
     "metadata": {},
     "output_type": "execute_result"
    }
   ],
   "source": [
    "# Using mode()\n",
    "df.transmission_type.mode()"
   ]
  },
  {
   "cell_type": "markdown",
   "metadata": {},
   "source": [
    "The most frequently observed transmission type is **automatic**"
   ]
  },
  {
   "cell_type": "markdown",
   "metadata": {},
   "source": [
    "### Question 2 - Create correlation matrix for numerical features"
   ]
  },
  {
   "cell_type": "code",
   "execution_count": 7,
   "metadata": {},
   "outputs": [
    {
     "data": {
      "text/html": [
       "<div>\n",
       "<style scoped>\n",
       "    .dataframe tbody tr th:only-of-type {\n",
       "        vertical-align: middle;\n",
       "    }\n",
       "\n",
       "    .dataframe tbody tr th {\n",
       "        vertical-align: top;\n",
       "    }\n",
       "\n",
       "    .dataframe thead th {\n",
       "        text-align: right;\n",
       "    }\n",
       "</style>\n",
       "<table border=\"1\" class=\"dataframe\">\n",
       "  <thead>\n",
       "    <tr style=\"text-align: right;\">\n",
       "      <th></th>\n",
       "      <th>year</th>\n",
       "      <th>engine_hp</th>\n",
       "      <th>engine_cylinders</th>\n",
       "      <th>highway_mpg</th>\n",
       "      <th>city_mpg</th>\n",
       "    </tr>\n",
       "  </thead>\n",
       "  <tbody>\n",
       "    <tr>\n",
       "      <th>year</th>\n",
       "      <td>1.000000</td>\n",
       "      <td>0.338714</td>\n",
       "      <td>0.040708</td>\n",
       "      <td>0.258240</td>\n",
       "      <td>0.198171</td>\n",
       "    </tr>\n",
       "    <tr>\n",
       "      <th>engine_hp</th>\n",
       "      <td>0.338714</td>\n",
       "      <td>1.000000</td>\n",
       "      <td>0.774851</td>\n",
       "      <td>0.415707</td>\n",
       "      <td>0.424918</td>\n",
       "    </tr>\n",
       "    <tr>\n",
       "      <th>engine_cylinders</th>\n",
       "      <td>0.040708</td>\n",
       "      <td>0.774851</td>\n",
       "      <td>1.000000</td>\n",
       "      <td>0.614541</td>\n",
       "      <td>0.587306</td>\n",
       "    </tr>\n",
       "    <tr>\n",
       "      <th>highway_mpg</th>\n",
       "      <td>0.258240</td>\n",
       "      <td>0.415707</td>\n",
       "      <td>0.614541</td>\n",
       "      <td>1.000000</td>\n",
       "      <td>0.886829</td>\n",
       "    </tr>\n",
       "    <tr>\n",
       "      <th>city_mpg</th>\n",
       "      <td>0.198171</td>\n",
       "      <td>0.424918</td>\n",
       "      <td>0.587306</td>\n",
       "      <td>0.886829</td>\n",
       "      <td>1.000000</td>\n",
       "    </tr>\n",
       "  </tbody>\n",
       "</table>\n",
       "</div>"
      ],
      "text/plain": [
       "                      year  engine_hp  engine_cylinders  highway_mpg  city_mpg\n",
       "year              1.000000   0.338714          0.040708     0.258240  0.198171\n",
       "engine_hp         0.338714   1.000000          0.774851     0.415707  0.424918\n",
       "engine_cylinders  0.040708   0.774851          1.000000     0.614541  0.587306\n",
       "highway_mpg       0.258240   0.415707          0.614541     1.000000  0.886829\n",
       "city_mpg          0.198171   0.424918          0.587306     0.886829  1.000000"
      ]
     },
     "execution_count": 7,
     "metadata": {},
     "output_type": "execute_result"
    }
   ],
   "source": [
    "numeric_type = list(df._get_numeric_data().columns)\n",
    "numeric_type.remove('price')\n",
    "df[numeric_type].corr().abs()"
   ]
  },
  {
   "cell_type": "markdown",
   "metadata": {},
   "source": [
    "The correlation with largest magnitude is between **city_mpg** and **highway_mpg**"
   ]
  },
  {
   "cell_type": "code",
   "execution_count": 8,
   "metadata": {},
   "outputs": [],
   "source": [
    "# Making 'price' binary using average price for classification\n",
    "price_avg = df.price.mean()\n",
    "above_average = (df.price >= price_avg).astype(int)\n",
    "df['price'] = above_average"
   ]
  },
  {
   "cell_type": "code",
   "execution_count": 9,
   "metadata": {},
   "outputs": [
    {
     "data": {
      "text/html": [
       "<div>\n",
       "<style scoped>\n",
       "    .dataframe tbody tr th:only-of-type {\n",
       "        vertical-align: middle;\n",
       "    }\n",
       "\n",
       "    .dataframe tbody tr th {\n",
       "        vertical-align: top;\n",
       "    }\n",
       "\n",
       "    .dataframe thead th {\n",
       "        text-align: right;\n",
       "    }\n",
       "</style>\n",
       "<table border=\"1\" class=\"dataframe\">\n",
       "  <thead>\n",
       "    <tr style=\"text-align: right;\">\n",
       "      <th></th>\n",
       "      <th>make</th>\n",
       "      <th>model</th>\n",
       "      <th>year</th>\n",
       "      <th>engine_hp</th>\n",
       "      <th>engine_cylinders</th>\n",
       "      <th>transmission_type</th>\n",
       "      <th>vehicle_style</th>\n",
       "      <th>highway_mpg</th>\n",
       "      <th>city_mpg</th>\n",
       "    </tr>\n",
       "  </thead>\n",
       "  <tbody>\n",
       "    <tr>\n",
       "      <th>0</th>\n",
       "      <td>Mitsubishi</td>\n",
       "      <td>Endeavor</td>\n",
       "      <td>2011</td>\n",
       "      <td>225.0</td>\n",
       "      <td>6.0</td>\n",
       "      <td>AUTOMATIC</td>\n",
       "      <td>4dr SUV</td>\n",
       "      <td>19</td>\n",
       "      <td>15</td>\n",
       "    </tr>\n",
       "    <tr>\n",
       "      <th>1</th>\n",
       "      <td>Kia</td>\n",
       "      <td>Borrego</td>\n",
       "      <td>2009</td>\n",
       "      <td>276.0</td>\n",
       "      <td>6.0</td>\n",
       "      <td>AUTOMATIC</td>\n",
       "      <td>4dr SUV</td>\n",
       "      <td>21</td>\n",
       "      <td>17</td>\n",
       "    </tr>\n",
       "    <tr>\n",
       "      <th>2</th>\n",
       "      <td>Lamborghini</td>\n",
       "      <td>Gallardo</td>\n",
       "      <td>2012</td>\n",
       "      <td>570.0</td>\n",
       "      <td>10.0</td>\n",
       "      <td>MANUAL</td>\n",
       "      <td>Convertible</td>\n",
       "      <td>20</td>\n",
       "      <td>12</td>\n",
       "    </tr>\n",
       "    <tr>\n",
       "      <th>3</th>\n",
       "      <td>Chevrolet</td>\n",
       "      <td>Colorado</td>\n",
       "      <td>2016</td>\n",
       "      <td>200.0</td>\n",
       "      <td>4.0</td>\n",
       "      <td>AUTOMATIC</td>\n",
       "      <td>Crew Cab Pickup</td>\n",
       "      <td>27</td>\n",
       "      <td>20</td>\n",
       "    </tr>\n",
       "    <tr>\n",
       "      <th>4</th>\n",
       "      <td>Pontiac</td>\n",
       "      <td>Vibe</td>\n",
       "      <td>2009</td>\n",
       "      <td>158.0</td>\n",
       "      <td>4.0</td>\n",
       "      <td>AUTOMATIC</td>\n",
       "      <td>4dr Hatchback</td>\n",
       "      <td>26</td>\n",
       "      <td>20</td>\n",
       "    </tr>\n",
       "    <tr>\n",
       "      <th>...</th>\n",
       "      <td>...</td>\n",
       "      <td>...</td>\n",
       "      <td>...</td>\n",
       "      <td>...</td>\n",
       "      <td>...</td>\n",
       "      <td>...</td>\n",
       "      <td>...</td>\n",
       "      <td>...</td>\n",
       "      <td>...</td>\n",
       "    </tr>\n",
       "    <tr>\n",
       "      <th>7143</th>\n",
       "      <td>Toyota</td>\n",
       "      <td>Sienna</td>\n",
       "      <td>2016</td>\n",
       "      <td>266.0</td>\n",
       "      <td>6.0</td>\n",
       "      <td>AUTOMATIC</td>\n",
       "      <td>Passenger Minivan</td>\n",
       "      <td>25</td>\n",
       "      <td>18</td>\n",
       "    </tr>\n",
       "    <tr>\n",
       "      <th>7144</th>\n",
       "      <td>Chevrolet</td>\n",
       "      <td>HHR</td>\n",
       "      <td>2009</td>\n",
       "      <td>260.0</td>\n",
       "      <td>4.0</td>\n",
       "      <td>MANUAL</td>\n",
       "      <td>Wagon</td>\n",
       "      <td>29</td>\n",
       "      <td>21</td>\n",
       "    </tr>\n",
       "    <tr>\n",
       "      <th>7145</th>\n",
       "      <td>Hyundai</td>\n",
       "      <td>Veracruz</td>\n",
       "      <td>2012</td>\n",
       "      <td>260.0</td>\n",
       "      <td>6.0</td>\n",
       "      <td>AUTOMATIC</td>\n",
       "      <td>4dr SUV</td>\n",
       "      <td>22</td>\n",
       "      <td>17</td>\n",
       "    </tr>\n",
       "    <tr>\n",
       "      <th>7146</th>\n",
       "      <td>Mitsubishi</td>\n",
       "      <td>Expo</td>\n",
       "      <td>1993</td>\n",
       "      <td>136.0</td>\n",
       "      <td>4.0</td>\n",
       "      <td>MANUAL</td>\n",
       "      <td>2dr Hatchback</td>\n",
       "      <td>26</td>\n",
       "      <td>19</td>\n",
       "    </tr>\n",
       "    <tr>\n",
       "      <th>7147</th>\n",
       "      <td>Ford</td>\n",
       "      <td>Taurus</td>\n",
       "      <td>2015</td>\n",
       "      <td>365.0</td>\n",
       "      <td>6.0</td>\n",
       "      <td>AUTOMATIC</td>\n",
       "      <td>Sedan</td>\n",
       "      <td>25</td>\n",
       "      <td>17</td>\n",
       "    </tr>\n",
       "  </tbody>\n",
       "</table>\n",
       "<p>7148 rows × 9 columns</p>\n",
       "</div>"
      ],
      "text/plain": [
       "             make     model  year  engine_hp  engine_cylinders  \\\n",
       "0      Mitsubishi  Endeavor  2011      225.0               6.0   \n",
       "1             Kia   Borrego  2009      276.0               6.0   \n",
       "2     Lamborghini  Gallardo  2012      570.0              10.0   \n",
       "3       Chevrolet  Colorado  2016      200.0               4.0   \n",
       "4         Pontiac      Vibe  2009      158.0               4.0   \n",
       "...           ...       ...   ...        ...               ...   \n",
       "7143       Toyota    Sienna  2016      266.0               6.0   \n",
       "7144    Chevrolet       HHR  2009      260.0               4.0   \n",
       "7145      Hyundai  Veracruz  2012      260.0               6.0   \n",
       "7146   Mitsubishi      Expo  1993      136.0               4.0   \n",
       "7147         Ford    Taurus  2015      365.0               6.0   \n",
       "\n",
       "     transmission_type      vehicle_style  highway_mpg  city_mpg  \n",
       "0            AUTOMATIC            4dr SUV           19        15  \n",
       "1            AUTOMATIC            4dr SUV           21        17  \n",
       "2               MANUAL        Convertible           20        12  \n",
       "3            AUTOMATIC    Crew Cab Pickup           27        20  \n",
       "4            AUTOMATIC      4dr Hatchback           26        20  \n",
       "...                ...                ...          ...       ...  \n",
       "7143         AUTOMATIC  Passenger Minivan           25        18  \n",
       "7144            MANUAL              Wagon           29        21  \n",
       "7145         AUTOMATIC            4dr SUV           22        17  \n",
       "7146            MANUAL      2dr Hatchback           26        19  \n",
       "7147         AUTOMATIC              Sedan           25        17  \n",
       "\n",
       "[7148 rows x 9 columns]"
      ]
     },
     "execution_count": 9,
     "metadata": {},
     "output_type": "execute_result"
    }
   ],
   "source": [
    "## Establishing validation framework ##\n",
    "\n",
    "# Importing sklearn function to create 60/20/20 split\n",
    "from sklearn.model_selection import train_test_split\n",
    "\n",
    "# Creating splits\n",
    "train_val, test = train_test_split(df, test_size=0.2, random_state=42)\n",
    "train, val = train_test_split(train_val, test_size=0.25, random_state=42)\n",
    "\n",
    "# Dropping indecies\n",
    "train_val = train_val.reset_index(drop=True)\n",
    "train = train.reset_index(drop=True)\n",
    "val = val.reset_index(drop=True)\n",
    "test = test.reset_index(drop=True)\n",
    "\n",
    "# Target vectors\n",
    "y_train_val = train_val.price\n",
    "y_train = train.price\n",
    "y_val = val.price\n",
    "y_test = test.price\n",
    "\n",
    "# Removing target vectors from feature matrices\n",
    "del train_val['price']\n",
    "del train['price']\n",
    "del val['price']\n",
    "del test['price']\n",
    "\n",
    "train"
   ]
  },
  {
   "cell_type": "markdown",
   "metadata": {},
   "source": [
    "### Question 3 - Compute and compare mutual information scores"
   ]
  },
  {
   "cell_type": "code",
   "execution_count": 10,
   "metadata": {},
   "outputs": [
    {
     "data": {
      "text/plain": [
       "model                0.46\n",
       "engine_hp            0.36\n",
       "make                 0.24\n",
       "engine_cylinders     0.12\n",
       "vehicle_style        0.08\n",
       "year                 0.07\n",
       "city_mpg             0.06\n",
       "highway_mpg          0.04\n",
       "transmission_type    0.02\n",
       "dtype: float64"
      ]
     },
     "execution_count": 10,
     "metadata": {},
     "output_type": "execute_result"
    }
   ],
   "source": [
    "# Computing mutual information (from information theory) score for training set\n",
    "\n",
    "# Importing function to compute mutual information score\n",
    "from sklearn.metrics import mutual_info_score\n",
    "\n",
    "# Function to calculating MI scores for each series (compared to average_price)\n",
    "def mutual_info_price_score(series):\n",
    "    return mutual_info_score(series, y_train)\n",
    "\n",
    "round(train.apply(mutual_info_price_score).sort_values(ascending=False),2)"
   ]
  },
  {
   "cell_type": "markdown",
   "metadata": {},
   "source": [
    "The variable with the lowest mutual information score is **transmission_type**"
   ]
  },
  {
   "cell_type": "markdown",
   "metadata": {},
   "source": [
    "### Question 4 - Logistic Regression"
   ]
  },
  {
   "cell_type": "code",
   "execution_count": 11,
   "metadata": {},
   "outputs": [],
   "source": [
    "## Logistic Regression ##\n",
    "\n",
    "# Importing function to perform One-hot encoding (feature extraction)\n",
    "from sklearn.feature_extraction import DictVectorizer\n",
    "\n",
    "# Importing function to perform logistic regression\n",
    "from sklearn.linear_model import LogisticRegression\n",
    "\n",
    "# Converting splits to dictionaries\n",
    "train_dicts = train.to_dict(orient=\"records\")\n",
    "val_dicts = val.to_dict(orient=\"records\")\n",
    "test_dicts = test.to_dict(orient=\"records\")\n",
    "\n",
    "# Intitialising dictionary vectoriser\n",
    "dv = DictVectorizer(sparse=False)\n",
    "\n",
    "# Feature matrices\n",
    "X_train = dv.fit_transform(train_dicts)\n",
    "X_val = dv.transform(val_dicts)\n",
    "\n",
    "# Initialising model\n",
    "model = LogisticRegression(solver='liblinear', C=10, max_iter=1000, random_state=42)\n",
    "\n",
    "# Training the model\n",
    "model.fit(X_train, y_train)\n",
    "\n",
    "# Calculating predictions for y_val\n",
    "y_val_pred = model.predict_proba(X_val)[:,1]\n",
    "\n",
    "# Classifying results\n",
    "score_val = (y_val_pred >= 0.5).astype(int)\n",
    "\n",
    "# Similarity between predictions and actual values (accuracy)\n",
    "round((score_val == y_val).mean(),2)\n",
    "\n",
    "accuracy_val = (score_val == y_val).mean()"
   ]
  },
  {
   "cell_type": "markdown",
   "metadata": {},
   "source": [
    "The accuracy of our base model is quite high at **0.95**"
   ]
  },
  {
   "cell_type": "markdown",
   "metadata": {},
   "source": [
    "### Question 5 - Least Useful Feature"
   ]
  },
  {
   "cell_type": "code",
   "execution_count": 12,
   "metadata": {},
   "outputs": [
    {
     "name": "stdout",
     "output_type": "stream",
     "text": [
      "Feature removed: year                 Accuracy: 0.95       Difference: -0.0016785564414604215\n",
      "Feature removed: engine_hp            Accuracy: 0.93       Difference: 0.015946286193873282\n",
      "Feature removed: transmission_type    Accuracy: 0.95       Difference: 0.0012589173310951773\n",
      "Feature removed: city_mpg             Accuracy: 0.95       Difference: 0.0004196391103650221\n"
     ]
    }
   ],
   "source": [
    "## Logistic Regression ##\n",
    "\n",
    "# Importing function to perform One-hot encoding (feature extraction)\n",
    "from sklearn.feature_extraction import DictVectorizer\n",
    "\n",
    "# Importing function to perform logistic regression\n",
    "from sklearn.linear_model import LogisticRegression\n",
    "\n",
    "features = ['year', 'engine_hp', 'transmission_type', 'city_mpg']\n",
    "\n",
    "for i in features:\n",
    "\n",
    "    train_temp = train.copy()\n",
    "    val_temp = val.copy()\n",
    "\n",
    "    del train_temp[i]\n",
    "    del val_temp[i]\n",
    "\n",
    "    # Converting splits to dictionaries\n",
    "    train_dicts = train_temp.to_dict(orient=\"records\")\n",
    "    val_dicts = val_temp.to_dict(orient=\"records\")\n",
    "\n",
    "    # Intitialising dictionary vectoriser\n",
    "    dv = DictVectorizer(sparse=False)\n",
    "\n",
    "    # Feature matrices\n",
    "    X_train = dv.fit_transform(train_dicts)\n",
    "    X_val = dv.transform(val_dicts)\n",
    "\n",
    "    # Initialising model\n",
    "    model = LogisticRegression(solver='liblinear', C=10, max_iter=1000, random_state=42)\n",
    "\n",
    "    # Training the model\n",
    "    model.fit(X_train, y_train)\n",
    "\n",
    "    # Calculating predictions for y_val\n",
    "    y_val_pred = model.predict_proba(X_val)[:,1]\n",
    "\n",
    "    # Classifying results\n",
    "    score_val = (y_val_pred >= 0.5).astype(int)\n",
    "\n",
    "    # Similarity between predictions and actual values (accuracy)\n",
    "    print('Feature removed: {0:<20} Accuracy: {1:<10} Difference: {2:<10}'.\n",
    "          format(i,round(((score_val == y_val).mean()),2), (accuracy_val - ((score_val == y_val).mean()))))"
   ]
  },
  {
   "cell_type": "markdown",
   "metadata": {},
   "source": [
    "**year** is the feature which, upon being removed, results in the smallest difference in accuracy"
   ]
  },
  {
   "cell_type": "markdown",
   "metadata": {},
   "source": [
    "### Question 6 - Ridge Regression"
   ]
  },
  {
   "cell_type": "code",
   "execution_count": 24,
   "metadata": {},
   "outputs": [
    {
     "name": "stdout",
     "output_type": "stream",
     "text": [
      "RMSE: 12.516412022714926   Alpha: 0                   \n",
      "RMSE: 0.17320925868082343  Alpha: 0.01                \n",
      "RMSE: 0.17730051453604434  Alpha: 0.1                 \n",
      "RMSE: 0.19998676303294333  Alpha: 1                   \n",
      "RMSE: 0.30579703975429096  Alpha: 10                  \n"
     ]
    }
   ],
   "source": [
    "# Starting from the top with the raw data\n",
    "df = pd.read_csv('data.csv')\n",
    "\n",
    "# Cleaning series titles\n",
    "df.columns = df.columns.str.lower().str.replace(' ', '_')\n",
    "\n",
    "# Renaming MSRP to price (replacing)\n",
    "df['price'] = df['msrp']\n",
    "\n",
    "# Deleting MSRP\n",
    "del df['msrp']\n",
    "\n",
    "# Reducing dataframe to variables of interest\n",
    "df = df[categories]\n",
    "df = df.fillna(0)\n",
    "\n",
    "# Applying logarithmic transformation to df.price\n",
    "df.price = np.log1p(df.price)\n",
    "\n",
    "# Creating splits\n",
    "train_val, test = train_test_split(df, test_size=0.2, random_state=42)\n",
    "train, val = train_test_split(train_val, test_size=0.25, random_state=42)\n",
    "\n",
    "# Dropping indecies\n",
    "train_val = train_val.reset_index(drop=True)\n",
    "train = train.reset_index(drop=True)\n",
    "val = val.reset_index(drop=True)\n",
    "test = test.reset_index(drop=True)\n",
    "\n",
    "# Target vectors\n",
    "y_train_val = train_val.price\n",
    "y_train = train.price\n",
    "y_val = val.price\n",
    "y_test = test.price\n",
    "\n",
    "# Removing target vectors from feature matrices\n",
    "del train_val['price']\n",
    "del train['price']\n",
    "del val['price']\n",
    "del test['price']\n",
    "\n",
    "# Converting splits to dictionaries\n",
    "train_dicts = train.to_dict(orient=\"records\")\n",
    "val_dicts = val.to_dict(orient=\"records\")\n",
    "test_dicts = test.to_dict(orient=\"records\")\n",
    "\n",
    "# Intitialising dictionary vectoriser\n",
    "dv = DictVectorizer(sparse=False)\n",
    "\n",
    "# Feature matrices\n",
    "X_train = dv.fit_transform(train_dicts)\n",
    "X_val = dv.transform(val_dicts)\n",
    "\n",
    "# Importing function to perform ridge regression\n",
    "from sklearn.linear_model import Ridge\n",
    "\n",
    "# Alpha values to test\n",
    "alpha = [0, 0.01, 0.1, 1, 10]\n",
    "\n",
    "# Performing ridge regression on the training set whilst looping over different alpha values\n",
    "for i in alpha:\n",
    "\n",
    "    # Defining the model\n",
    "    model = Ridge(random_state=42, alpha=i)\n",
    "\n",
    "    # Fitting the model on training data\n",
    "    model.fit(X_train, y_train)\n",
    "\n",
    "    # Predictions\n",
    "    y_train_pred = model.predict(X_train)\n",
    "    y_val_pred = model.predict(X_val)\n",
    "\n",
    "    # Function for calculating the Random Mean Squared Error\n",
    "    def rmse(y, y_pred):\n",
    "        se = (y - y_pred) ** 2\n",
    "        mse = se.mean()\n",
    "        return np.sqrt(mse)\n",
    "\n",
    "    print('RMSE: {0:<20} Alpha: {1:<20}'.format(rmse(y_train, y_train_pred), i))"
   ]
  },
  {
   "cell_type": "markdown",
   "metadata": {},
   "source": [
    "The alpha value which gives us the smallest RMSE (root mean squared error) values is **0.01**"
   ]
  }
 ],
 "metadata": {
  "kernelspec": {
   "display_name": "ml-zoomcamp-2023",
   "language": "python",
   "name": "python3"
  },
  "language_info": {
   "codemirror_mode": {
    "name": "ipython",
    "version": 3
   },
   "file_extension": ".py",
   "mimetype": "text/x-python",
   "name": "python",
   "nbconvert_exporter": "python",
   "pygments_lexer": "ipython3",
   "version": "3.9.17"
  },
  "orig_nbformat": 4
 },
 "nbformat": 4,
 "nbformat_minor": 2
}
